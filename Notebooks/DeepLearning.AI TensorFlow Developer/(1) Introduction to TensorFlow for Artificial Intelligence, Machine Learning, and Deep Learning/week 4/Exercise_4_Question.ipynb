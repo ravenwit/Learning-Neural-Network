{
  "nbformat": 4,
  "nbformat_minor": 0,
  "metadata": {
    "colab": {
      "name": "Exercise 4-Question.ipynb",
      "provenance": []
    },
    "kernelspec": {
      "display_name": "Python 3",
      "name": "python3"
    },
    "accelerator": "GPU"
  },
  "cells": [
    {
      "cell_type": "code",
      "metadata": {
        "id": "zX4Kg8DUTKWO",
        "colab_type": "code",
        "colab": {}
      },
      "source": [
        "#@title Licensed under the Apache License, Version 2.0 (the \"License\");\n",
        "# you may not use this file except in compliance with the License.\n",
        "# You may obtain a copy of the License at\n",
        "#\n",
        "# https://www.apache.org/licenses/LICENSE-2.0\n",
        "#\n",
        "# Unless required by applicable law or agreed to in writing, software\n",
        "# distributed under the License is distributed on an \"AS IS\" BASIS,\n",
        "# WITHOUT WARRANTIES OR CONDITIONS OF ANY KIND, either express or implied.\n",
        "# See the License for the specific language governing permissions and\n",
        "# limitations under the License."
      ],
      "execution_count": null,
      "outputs": []
    },
    {
      "cell_type": "markdown",
      "metadata": {
        "colab_type": "text",
        "id": "UncprnB0ymAE"
      },
      "source": [
        "Below is code with a link to a happy or sad dataset which contains 80 images, 40 happy and 40 sad. \n",
        "Create a convolutional neural network that trains to 100% accuracy on these images,  which cancels training upon hitting training accuracy of >.999\n",
        "\n",
        "Hint -- it will work best with 3 convolutional layers."
      ]
    },
    {
      "cell_type": "code",
      "metadata": {
        "colab_type": "code",
        "id": "7Vti6p3PxmpS",
        "colab": {
          "base_uri": "https://localhost:8080/",
          "height": 204
        },
        "outputId": "4957f527-3fd6-4a6a-b4dd-407ae84f0d7d"
      },
      "source": [
        "import tensorflow as tf\n",
        "import os\n",
        "import zipfile\n",
        "\n",
        "\n",
        "DESIRED_ACCURACY = 0.999\n",
        "\n",
        "!wget --no-check-certificate \\\n",
        "    \"https://storage.googleapis.com/laurencemoroney-blog.appspot.com/happy-or-sad.zip\" \\\n",
        "    -O \"/tmp/happy-or-sad.zip\"\n",
        "\n",
        "zip_ref = zipfile.ZipFile(\"/tmp/happy-or-sad.zip\", 'r')\n",
        "zip_ref.extractall(\"/tmp/h-or-s\")\n",
        "zip_ref.close()\n",
        "\n",
        "class myCallback(tf.keras.callbacks.Callback):\n",
        "  def on_epoch_end(self, epoch, logs={}):\n",
        "    if(logs.get('accuracy')>DESIRED_ACCURACY):\n",
        "      print(\"\\nReached target. Stopped...\")\n",
        "      self.model.stop_training=True\n",
        "\n",
        "callbacks = myCallback()"
      ],
      "execution_count": 5,
      "outputs": [
        {
          "output_type": "stream",
          "text": [
            "--2020-09-09 04:06:17--  https://storage.googleapis.com/laurencemoroney-blog.appspot.com/happy-or-sad.zip\n",
            "Resolving storage.googleapis.com (storage.googleapis.com)... 74.125.133.128, 74.125.140.128, 173.194.76.128, ...\n",
            "Connecting to storage.googleapis.com (storage.googleapis.com)|74.125.133.128|:443... connected.\n",
            "HTTP request sent, awaiting response... 200 OK\n",
            "Length: 2670333 (2.5M) [application/zip]\n",
            "Saving to: ‘/tmp/happy-or-sad.zip’\n",
            "\n",
            "\r/tmp/happy-or-sad.z   0%[                    ]       0  --.-KB/s               \r/tmp/happy-or-sad.z 100%[===================>]   2.55M  --.-KB/s    in 0.02s   \n",
            "\n",
            "2020-09-09 04:06:17 (138 MB/s) - ‘/tmp/happy-or-sad.zip’ saved [2670333/2670333]\n",
            "\n"
          ],
          "name": "stdout"
        }
      ]
    },
    {
      "cell_type": "code",
      "metadata": {
        "colab_type": "code",
        "id": "6DLGbXXI1j_V",
        "colab": {}
      },
      "source": [
        "# This Code Block should Define and Compile the Model\n",
        "model = tf.keras.models.Sequential([\n",
        "# Your Code Here\n",
        "# This is the first convolution\n",
        "tf.keras.layers.Conv2D(32, (3,3), activation='relu', input_shape=(150, 150, 3)),\n",
        "tf.keras.layers.MaxPooling2D(2, 2),\n",
        "# The second convolution\n",
        "tf.keras.layers.Conv2D(64, (3,3), activation='relu'),\n",
        "tf.keras.layers.MaxPooling2D(2,2),\n",
        "# The third convolution\n",
        "tf.keras.layers.Conv2D(128, (3,3), activation='relu'),\n",
        "tf.keras.layers.MaxPooling2D(2,2),\n",
        "# Flatten the results to feed into a DNN\n",
        "tf.keras.layers.Flatten(),\n",
        "# 512 neuron hidden layer\n",
        "tf.keras.layers.Dense(512, activation='relu'),\n",
        "# Only 1 output neuron. It will contain a value from 0-1 where 0 for 1 class ('horses') and 1 for the other ('humans')\n",
        "tf.keras.layers.Dense(1, activation='sigmoid')\n",
        "])\n",
        "\n",
        "from tensorflow.keras.optimizers import RMSprop\n",
        "\n",
        "model.compile(loss='binary_crossentropy',\n",
        "              optimizer=RMSprop(lr=0.001),\n",
        "              metrics=['accuracy'])"
      ],
      "execution_count": 6,
      "outputs": []
    },
    {
      "cell_type": "code",
      "metadata": {
        "colab_type": "code",
        "id": "4Ap9fUJE1vVu",
        "colab": {
          "base_uri": "https://localhost:8080/",
          "height": 34
        },
        "outputId": "16482832-d4e7-4e8d-ea5b-0fe21bb1aa73"
      },
      "source": [
        "# This code block should create an instance of an ImageDataGenerator called train_datagen \n",
        "# And a train_generator by calling train_datagen.flow_from_directory\n",
        "\n",
        "from tensorflow.keras.preprocessing.image import ImageDataGenerator\n",
        "\n",
        "train_datagen = ImageDataGenerator(rescale=1/255)\n",
        "\n",
        "train_generator = train_datagen.flow_from_directory(\n",
        "                \"/tmp/h-or-s\",  # This is the source directory for training images\n",
        "                target_size=(150, 150),  # All images will be resized to 150x150\n",
        "                batch_size=80,\n",
        "                # Since we use binary_crossentropy loss, we need binary labels\n",
        "                class_mode='binary')\n",
        "\n",
        "# Expected output: 'Found 80 images belonging to 2 classes'"
      ],
      "execution_count": 7,
      "outputs": [
        {
          "output_type": "stream",
          "text": [
            "Found 80 images belonging to 2 classes.\n"
          ],
          "name": "stdout"
        }
      ]
    },
    {
      "cell_type": "code",
      "metadata": {
        "colab_type": "code",
        "id": "48dLm13U1-Le",
        "colab": {
          "base_uri": "https://localhost:8080/",
          "height": 765
        },
        "outputId": "64382bed-d334-4a57-e54a-a5d4232daab1"
      },
      "source": [
        "# This code block should call model.fit and train for\n",
        "# a number of epochs. \n",
        "history = model.fit_generator(\n",
        "                train_generator,\n",
        "                steps_per_epoch=1,  \n",
        "                epochs=25,\n",
        "                verbose=1,\n",
        "                callbacks=[callbacks])\n",
        "    \n",
        "# Expected output: \"Reached 99.9% accuracy so cancelling training!\"\""
      ],
      "execution_count": 8,
      "outputs": [
        {
          "output_type": "stream",
          "text": [
            "Epoch 1/25\n",
            "1/1 [==============================] - 0s 2ms/step - loss: 0.6893 - accuracy: 0.5000\n",
            "Epoch 2/25\n",
            "1/1 [==============================] - 0s 1ms/step - loss: 16.8055 - accuracy: 0.5000\n",
            "Epoch 3/25\n",
            "1/1 [==============================] - 0s 1ms/step - loss: 1.8434 - accuracy: 0.5000\n",
            "Epoch 4/25\n",
            "1/1 [==============================] - 0s 2ms/step - loss: 0.6895 - accuracy: 0.5000\n",
            "Epoch 5/25\n",
            "1/1 [==============================] - 0s 1ms/step - loss: 0.6800 - accuracy: 0.5000\n",
            "Epoch 6/25\n",
            "1/1 [==============================] - 0s 1ms/step - loss: 0.6626 - accuracy: 0.5000\n",
            "Epoch 7/25\n",
            "1/1 [==============================] - 0s 1ms/step - loss: 0.6105 - accuracy: 0.5000\n",
            "Epoch 8/25\n",
            "1/1 [==============================] - 0s 2ms/step - loss: 0.5418 - accuracy: 0.9375\n",
            "Epoch 9/25\n",
            "1/1 [==============================] - 0s 1ms/step - loss: 0.4573 - accuracy: 0.7500\n",
            "Epoch 10/25\n",
            "1/1 [==============================] - 0s 2ms/step - loss: 0.9337 - accuracy: 0.5000\n",
            "Epoch 11/25\n",
            "1/1 [==============================] - 0s 2ms/step - loss: 0.7392 - accuracy: 0.5000\n",
            "Epoch 12/25\n",
            "1/1 [==============================] - 0s 1ms/step - loss: 0.4372 - accuracy: 0.9500\n",
            "Epoch 13/25\n",
            "1/1 [==============================] - 0s 1ms/step - loss: 0.3326 - accuracy: 0.9750\n",
            "Epoch 14/25\n",
            "1/1 [==============================] - 0s 1ms/step - loss: 0.2600 - accuracy: 0.9250\n",
            "Epoch 15/25\n",
            "1/1 [==============================] - 0s 2ms/step - loss: 0.2482 - accuracy: 0.9875\n",
            "Epoch 16/25\n",
            "1/1 [==============================] - 0s 2ms/step - loss: 0.2820 - accuracy: 0.9000\n",
            "Epoch 17/25\n",
            "1/1 [==============================] - 0s 1ms/step - loss: 0.2590 - accuracy: 0.9000\n",
            "Epoch 18/25\n",
            "1/1 [==============================] - 0s 1ms/step - loss: 0.1736 - accuracy: 0.9250\n",
            "Epoch 19/25\n",
            "1/1 [==============================] - 0s 2ms/step - loss: 0.1407 - accuracy: 0.9500\n",
            "Epoch 20/25\n",
            "1/1 [==============================] - 0s 1ms/step - loss: 0.1288 - accuracy: 0.9375\n",
            "Epoch 21/25\n",
            "1/1 [==============================] - ETA: 0s - loss: 0.1281 - accuracy: 1.0000\n",
            "Reached target. Stopped...\n",
            "1/1 [==============================] - 0s 2ms/step - loss: 0.1281 - accuracy: 1.0000\n"
          ],
          "name": "stdout"
        }
      ]
    },
    {
      "cell_type": "code",
      "metadata": {
        "id": "UZW6biv5Cmjt",
        "colab_type": "code",
        "colab": {}
      },
      "source": [
        ""
      ],
      "execution_count": null,
      "outputs": []
    }
  ]
}