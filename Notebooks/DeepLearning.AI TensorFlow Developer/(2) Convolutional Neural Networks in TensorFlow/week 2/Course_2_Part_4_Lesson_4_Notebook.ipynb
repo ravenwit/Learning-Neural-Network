{
  "nbformat": 4,
  "nbformat_minor": 0,
  "metadata": {
    "accelerator": "GPU",
    "colab": {
      "name": "Course 2 - Part 4 - Lesson 4 - Notebook.ipynb",
      "provenance": [],
      "collapsed_sections": []
    },
    "kernelspec": {
      "display_name": "Python 3",
      "name": "python3"
    }
  },
  "cells": [
    {
      "cell_type": "markdown",
      "metadata": {
        "colab_type": "text",
        "id": "rX8mhOLljYeM"
      },
      "source": [
        "##### Copyright 2019 The TensorFlow Authors."
      ]
    },
    {
      "cell_type": "code",
      "metadata": {
        "cellView": "form",
        "colab_type": "code",
        "id": "BZSlp3DAjdYf",
        "colab": {}
      },
      "source": [
        "#@title Licensed under the Apache License, Version 2.0 (the \"License\");\n",
        "# you may not use this file except in compliance with the License.\n",
        "# You may obtain a copy of the License at\n",
        "#\n",
        "# https://www.apache.org/licenses/LICENSE-2.0\n",
        "#\n",
        "# Unless required by applicable law or agreed to in writing, software\n",
        "# distributed under the License is distributed on an \"AS IS\" BASIS,\n",
        "# WITHOUT WARRANTIES OR CONDITIONS OF ANY KIND, either express or implied.\n",
        "# See the License for the specific language governing permissions and\n",
        "# limitations under the License."
      ],
      "execution_count": null,
      "outputs": []
    },
    {
      "cell_type": "code",
      "metadata": {
        "colab_type": "code",
        "id": "RXZT2UsyIVe_",
        "colab": {
          "base_uri": "https://localhost:8080/",
          "height": 391
        },
        "outputId": "7fff8fe5-98da-44ca-bbf6-75717c28c292"
      },
      "source": [
        "!wget --no-check-certificate \\\n",
        "    https://storage.googleapis.com/laurencemoroney-blog.appspot.com/horse-or-human.zip \\\n",
        "    -O /tmp/horse-or-human.zip\n",
        "\n",
        "!wget --no-check-certificate \\\n",
        "    https://storage.googleapis.com/laurencemoroney-blog.appspot.com/validation-horse-or-human.zip \\\n",
        "    -O /tmp/validation-horse-or-human.zip\n",
        "  \n",
        "import os\n",
        "import zipfile\n",
        "\n",
        "local_zip = '/tmp/horse-or-human.zip'\n",
        "zip_ref = zipfile.ZipFile(local_zip, 'r')\n",
        "zip_ref.extractall('/tmp/horse-or-human')\n",
        "local_zip = '/tmp/validation-horse-or-human.zip'\n",
        "zip_ref = zipfile.ZipFile(local_zip, 'r')\n",
        "zip_ref.extractall('/tmp/validation-horse-or-human')\n",
        "zip_ref.close()\n",
        "# Directory with our training horse pictures\n",
        "train_horse_dir = os.path.join('/tmp/horse-or-human/horses')\n",
        "\n",
        "# Directory with our training human pictures\n",
        "train_human_dir = os.path.join('/tmp/horse-or-human/humans')\n",
        "\n",
        "# Directory with our training horse pictures\n",
        "validation_horse_dir = os.path.join('/tmp/validation-horse-or-human/horses')\n",
        "\n",
        "# Directory with our training human pictures\n",
        "validation_human_dir = os.path.join('/tmp/validation-horse-or-human/humans')"
      ],
      "execution_count": 1,
      "outputs": [
        {
          "output_type": "stream",
          "text": [
            "--2020-09-09 20:09:05--  https://storage.googleapis.com/laurencemoroney-blog.appspot.com/horse-or-human.zip\n",
            "Resolving storage.googleapis.com (storage.googleapis.com)... 74.125.28.128, 74.125.142.128, 74.125.195.128, ...\n",
            "Connecting to storage.googleapis.com (storage.googleapis.com)|74.125.28.128|:443... connected.\n",
            "HTTP request sent, awaiting response... 200 OK\n",
            "Length: 149574867 (143M) [application/zip]\n",
            "Saving to: ‘/tmp/horse-or-human.zip’\n",
            "\n",
            "/tmp/horse-or-human 100%[===================>] 142.65M   148MB/s    in 1.0s    \n",
            "\n",
            "2020-09-09 20:09:06 (148 MB/s) - ‘/tmp/horse-or-human.zip’ saved [149574867/149574867]\n",
            "\n",
            "--2020-09-09 20:09:07--  https://storage.googleapis.com/laurencemoroney-blog.appspot.com/validation-horse-or-human.zip\n",
            "Resolving storage.googleapis.com (storage.googleapis.com)... 74.125.142.128, 74.125.195.128, 74.125.20.128, ...\n",
            "Connecting to storage.googleapis.com (storage.googleapis.com)|74.125.142.128|:443... connected.\n",
            "HTTP request sent, awaiting response... 200 OK\n",
            "Length: 11480187 (11M) [application/zip]\n",
            "Saving to: ‘/tmp/validation-horse-or-human.zip’\n",
            "\n",
            "/tmp/validation-hor 100%[===================>]  10.95M  --.-KB/s    in 0.1s    \n",
            "\n",
            "2020-09-09 20:09:07 (81.3 MB/s) - ‘/tmp/validation-horse-or-human.zip’ saved [11480187/11480187]\n",
            "\n"
          ],
          "name": "stdout"
        }
      ]
    },
    {
      "cell_type": "markdown",
      "metadata": {
        "colab_type": "text",
        "id": "5oqBkNBJmtUv"
      },
      "source": [
        "## Building a Small Model from Scratch\n",
        "\n",
        "But before we continue, let's start defining the model:\n",
        "\n",
        "Step 1 will be to import tensorflow."
      ]
    },
    {
      "cell_type": "code",
      "metadata": {
        "colab_type": "code",
        "id": "qvfZg3LQbD-5",
        "colab": {}
      },
      "source": [
        "import tensorflow as tf"
      ],
      "execution_count": 2,
      "outputs": []
    },
    {
      "cell_type": "markdown",
      "metadata": {
        "colab_type": "text",
        "id": "BnhYCP4tdqjC"
      },
      "source": [
        "We then add convolutional layers as in the previous example, and flatten the final result to feed into the densely connected layers."
      ]
    },
    {
      "cell_type": "markdown",
      "metadata": {
        "colab_type": "text",
        "id": "gokG5HKpdtzm"
      },
      "source": [
        "Finally we add the densely connected layers. \n",
        "\n",
        "Note that because we are facing a two-class classification problem, i.e. a *binary classification problem*, we will end our network with a [*sigmoid* activation](https://wikipedia.org/wiki/Sigmoid_function), so that the output of our network will be a single scalar between 0 and 1, encoding the probability that the current image is class 1 (as opposed to class 0)."
      ]
    },
    {
      "cell_type": "code",
      "metadata": {
        "colab_type": "code",
        "id": "PixZ2s5QbYQ3",
        "colab": {}
      },
      "source": [
        "model = tf.keras.models.Sequential([\n",
        "    # Note the input shape is the desired size of the image 300x300 with 3 bytes color\n",
        "    # This is the first convolution\n",
        "    tf.keras.layers.Conv2D(16, (3,3), activation='relu', input_shape=(300, 300, 3)),\n",
        "    tf.keras.layers.MaxPooling2D(2, 2),\n",
        "    # The second convolution\n",
        "    tf.keras.layers.Conv2D(32, (3,3), activation='relu'),\n",
        "    tf.keras.layers.MaxPooling2D(2,2),\n",
        "    # The third convolution\n",
        "    tf.keras.layers.Conv2D(64, (3,3), activation='relu'),\n",
        "    tf.keras.layers.MaxPooling2D(2,2),\n",
        "    # The fourth convolution\n",
        "    tf.keras.layers.Conv2D(64, (3,3), activation='relu'),\n",
        "    tf.keras.layers.MaxPooling2D(2,2),\n",
        "    # The fifth convolution\n",
        "    tf.keras.layers.Conv2D(64, (3,3), activation='relu'),\n",
        "    tf.keras.layers.MaxPooling2D(2,2),\n",
        "    # Flatten the results to feed into a DNN\n",
        "    tf.keras.layers.Flatten(),\n",
        "    # 512 neuron hidden layer\n",
        "    tf.keras.layers.Dense(512, activation='relu'),\n",
        "    # Only 1 output neuron. It will contain a value from 0-1 where 0 for 1 class ('horses') and 1 for the other ('humans')\n",
        "    tf.keras.layers.Dense(1, activation='sigmoid')\n",
        "])"
      ],
      "execution_count": 3,
      "outputs": []
    },
    {
      "cell_type": "code",
      "metadata": {
        "colab_type": "code",
        "id": "8DHWhFP_uhq3",
        "colab": {}
      },
      "source": [
        "from tensorflow.keras.optimizers import RMSprop\n",
        "\n",
        "model.compile(loss='binary_crossentropy',\n",
        "              optimizer=RMSprop(lr=1e-4),\n",
        "              metrics=['accuracy'])"
      ],
      "execution_count": 4,
      "outputs": []
    },
    {
      "cell_type": "code",
      "metadata": {
        "colab_type": "code",
        "id": "ClebU9NJg99G",
        "colab": {
          "base_uri": "https://localhost:8080/",
          "height": 51
        },
        "outputId": "dffb02f4-cd03-42a4-aaab-873e17fd7700"
      },
      "source": [
        "from tensorflow.keras.preprocessing.image import ImageDataGenerator\n",
        "\n",
        "# All images will be rescaled by 1./255\n",
        "train_datagen = ImageDataGenerator(\n",
        "      rescale=1./255,\n",
        "      rotation_range=40,\n",
        "      width_shift_range=0.2,\n",
        "      height_shift_range=0.2,\n",
        "      shear_range=0.2,\n",
        "      zoom_range=0.2,\n",
        "      horizontal_flip=True,\n",
        "      fill_mode='nearest')\n",
        "\n",
        "validation_datagen = ImageDataGenerator(rescale=1/255)\n",
        "\n",
        "# Flow training images in batches of 128 using train_datagen generator\n",
        "train_generator = train_datagen.flow_from_directory(\n",
        "        '/tmp/horse-or-human/',  # This is the source directory for training images\n",
        "        target_size=(300, 300),  # All images will be resized to 150x150\n",
        "        batch_size=128,\n",
        "        # Since we use binary_crossentropy loss, we need binary labels\n",
        "        class_mode='binary')\n",
        "\n",
        "# Flow training images in batches of 128 using train_datagen generator\n",
        "validation_generator = validation_datagen.flow_from_directory(\n",
        "        '/tmp/validation-horse-or-human/',  # This is the source directory for training images\n",
        "        target_size=(300, 300),  # All images will be resized to 150x150\n",
        "        batch_size=32,\n",
        "        # Since we use binary_crossentropy loss, we need binary labels\n",
        "        class_mode='binary')"
      ],
      "execution_count": 5,
      "outputs": [
        {
          "output_type": "stream",
          "text": [
            "Found 1027 images belonging to 2 classes.\n",
            "Found 256 images belonging to 2 classes.\n"
          ],
          "name": "stdout"
        }
      ]
    },
    {
      "cell_type": "code",
      "metadata": {
        "colab_type": "code",
        "id": "Fb1_lgobv81m",
        "colab": {
          "base_uri": "https://localhost:8080/",
          "height": 1000
        },
        "outputId": "a15faae1-37e1-4ec9-a6e8-bd03909a94aa"
      },
      "source": [
        "history = model.fit(\n",
        "      train_generator,\n",
        "      steps_per_epoch=8,  \n",
        "      epochs=100,\n",
        "      verbose=1,\n",
        "      validation_data = validation_generator,\n",
        "      validation_steps=8)"
      ],
      "execution_count": 6,
      "outputs": [
        {
          "output_type": "stream",
          "text": [
            "Epoch 1/100\n",
            "2/8 [======>.......................] - ETA: 0s - loss: 0.7049 - accuracy: 0.4648WARNING:tensorflow:Callbacks method `on_train_batch_end` is slow compared to the batch time (batch time: 0.0714s vs `on_train_batch_end` time: 0.1112s). Check your callbacks.\n",
            "8/8 [==============================] - 16s 2s/step - loss: 0.6927 - accuracy: 0.5384 - val_loss: 0.6663 - val_accuracy: 0.5703\n",
            "Epoch 2/100\n",
            "8/8 [==============================] - 18s 2s/step - loss: 0.6730 - accuracy: 0.5940 - val_loss: 0.6269 - val_accuracy: 0.8906\n",
            "Epoch 3/100\n",
            "8/8 [==============================] - 18s 2s/step - loss: 0.6602 - accuracy: 0.6529 - val_loss: 0.6044 - val_accuracy: 0.6719\n",
            "Epoch 4/100\n",
            "8/8 [==============================] - 18s 2s/step - loss: 0.6270 - accuracy: 0.7375 - val_loss: 0.5277 - val_accuracy: 0.8555\n",
            "Epoch 5/100\n",
            "8/8 [==============================] - 18s 2s/step - loss: 0.6038 - accuracy: 0.6852 - val_loss: 0.6040 - val_accuracy: 0.5000\n",
            "Epoch 6/100\n",
            "8/8 [==============================] - 18s 2s/step - loss: 0.6180 - accuracy: 0.6963 - val_loss: 0.4572 - val_accuracy: 0.8398\n",
            "Epoch 7/100\n",
            "8/8 [==============================] - 18s 2s/step - loss: 0.5536 - accuracy: 0.7397 - val_loss: 0.5104 - val_accuracy: 0.7188\n",
            "Epoch 8/100\n",
            "8/8 [==============================] - 21s 3s/step - loss: 0.5297 - accuracy: 0.7598 - val_loss: 0.9142 - val_accuracy: 0.5312\n",
            "Epoch 9/100\n",
            "8/8 [==============================] - 18s 2s/step - loss: 0.5280 - accuracy: 0.7475 - val_loss: 0.9001 - val_accuracy: 0.5469\n",
            "Epoch 10/100\n",
            "8/8 [==============================] - 18s 2s/step - loss: 0.5215 - accuracy: 0.7486 - val_loss: 0.6320 - val_accuracy: 0.6836\n",
            "Epoch 11/100\n",
            "8/8 [==============================] - 18s 2s/step - loss: 0.4833 - accuracy: 0.7742 - val_loss: 0.7194 - val_accuracy: 0.6758\n",
            "Epoch 12/100\n",
            "8/8 [==============================] - 18s 2s/step - loss: 0.4515 - accuracy: 0.7964 - val_loss: 0.3048 - val_accuracy: 0.8750\n",
            "Epoch 13/100\n",
            "8/8 [==============================] - 18s 2s/step - loss: 0.5067 - accuracy: 0.7519 - val_loss: 1.1392 - val_accuracy: 0.5820\n",
            "Epoch 14/100\n",
            "8/8 [==============================] - 18s 2s/step - loss: 0.4593 - accuracy: 0.7820 - val_loss: 1.2680 - val_accuracy: 0.5625\n",
            "Epoch 15/100\n",
            "8/8 [==============================] - 18s 2s/step - loss: 0.4395 - accuracy: 0.7998 - val_loss: 0.4525 - val_accuracy: 0.8125\n",
            "Epoch 16/100\n",
            "8/8 [==============================] - 18s 2s/step - loss: 0.4640 - accuracy: 0.7976 - val_loss: 0.7213 - val_accuracy: 0.6992\n",
            "Epoch 17/100\n",
            "8/8 [==============================] - 18s 2s/step - loss: 0.4485 - accuracy: 0.7809 - val_loss: 1.0674 - val_accuracy: 0.6289\n",
            "Epoch 18/100\n",
            "8/8 [==============================] - 18s 2s/step - loss: 0.4081 - accuracy: 0.8187 - val_loss: 0.8549 - val_accuracy: 0.6992\n",
            "Epoch 19/100\n",
            "8/8 [==============================] - 21s 3s/step - loss: 0.3773 - accuracy: 0.8262 - val_loss: 1.0241 - val_accuracy: 0.6484\n",
            "Epoch 20/100\n",
            "8/8 [==============================] - 21s 3s/step - loss: 0.3408 - accuracy: 0.8543 - val_loss: 0.5711 - val_accuracy: 0.7891\n",
            "Epoch 21/100\n",
            "8/8 [==============================] - 18s 2s/step - loss: 0.4053 - accuracy: 0.7931 - val_loss: 1.1271 - val_accuracy: 0.6680\n",
            "Epoch 22/100\n",
            "8/8 [==============================] - 19s 2s/step - loss: 0.4089 - accuracy: 0.8142 - val_loss: 1.1305 - val_accuracy: 0.6680\n",
            "Epoch 23/100\n",
            "8/8 [==============================] - 18s 2s/step - loss: 0.3581 - accuracy: 0.8420 - val_loss: 1.1989 - val_accuracy: 0.6406\n",
            "Epoch 24/100\n",
            "8/8 [==============================] - 18s 2s/step - loss: 0.3514 - accuracy: 0.8454 - val_loss: 1.3547 - val_accuracy: 0.6328\n",
            "Epoch 25/100\n",
            "8/8 [==============================] - 18s 2s/step - loss: 0.3675 - accuracy: 0.8420 - val_loss: 1.2250 - val_accuracy: 0.6602\n",
            "Epoch 26/100\n",
            "8/8 [==============================] - 18s 2s/step - loss: 0.3741 - accuracy: 0.8331 - val_loss: 1.2755 - val_accuracy: 0.6406\n",
            "Epoch 27/100\n",
            "8/8 [==============================] - 18s 2s/step - loss: 0.3477 - accuracy: 0.8621 - val_loss: 1.2406 - val_accuracy: 0.6484\n",
            "Epoch 28/100\n",
            "8/8 [==============================] - 21s 3s/step - loss: 0.3030 - accuracy: 0.8743 - val_loss: 1.0759 - val_accuracy: 0.6914\n",
            "Epoch 29/100\n",
            "8/8 [==============================] - 18s 2s/step - loss: 0.3922 - accuracy: 0.8142 - val_loss: 1.1935 - val_accuracy: 0.6016\n",
            "Epoch 30/100\n",
            "8/8 [==============================] - 18s 2s/step - loss: 0.3616 - accuracy: 0.8509 - val_loss: 1.0881 - val_accuracy: 0.6836\n",
            "Epoch 31/100\n",
            "8/8 [==============================] - 18s 2s/step - loss: 0.3067 - accuracy: 0.8621 - val_loss: 1.3349 - val_accuracy: 0.6523\n",
            "Epoch 32/100\n",
            "8/8 [==============================] - 20s 3s/step - loss: 0.2827 - accuracy: 0.8848 - val_loss: 2.0500 - val_accuracy: 0.5781\n",
            "Epoch 33/100\n",
            "8/8 [==============================] - 21s 3s/step - loss: 0.2974 - accuracy: 0.8754 - val_loss: 1.0504 - val_accuracy: 0.7031\n",
            "Epoch 34/100\n",
            "8/8 [==============================] - 18s 2s/step - loss: 0.2820 - accuracy: 0.8732 - val_loss: 2.0988 - val_accuracy: 0.5703\n",
            "Epoch 35/100\n",
            "8/8 [==============================] - 18s 2s/step - loss: 0.2848 - accuracy: 0.8788 - val_loss: 1.2779 - val_accuracy: 0.6836\n",
            "Epoch 36/100\n",
            "8/8 [==============================] - 18s 2s/step - loss: 0.3212 - accuracy: 0.8543 - val_loss: 1.8590 - val_accuracy: 0.6133\n",
            "Epoch 37/100\n",
            "8/8 [==============================] - 18s 2s/step - loss: 0.4102 - accuracy: 0.8387 - val_loss: 1.4059 - val_accuracy: 0.6484\n",
            "Epoch 38/100\n",
            "8/8 [==============================] - 18s 2s/step - loss: 0.2674 - accuracy: 0.8899 - val_loss: 1.1611 - val_accuracy: 0.6953\n",
            "Epoch 39/100\n",
            "8/8 [==============================] - 18s 2s/step - loss: 0.2564 - accuracy: 0.9043 - val_loss: 2.2361 - val_accuracy: 0.5859\n",
            "Epoch 40/100\n",
            "8/8 [==============================] - 18s 2s/step - loss: 0.2895 - accuracy: 0.8765 - val_loss: 1.9607 - val_accuracy: 0.6250\n",
            "Epoch 41/100\n",
            "8/8 [==============================] - 18s 2s/step - loss: 0.2447 - accuracy: 0.9010 - val_loss: 1.7263 - val_accuracy: 0.6406\n",
            "Epoch 42/100\n",
            "8/8 [==============================] - 18s 2s/step - loss: 0.3209 - accuracy: 0.8832 - val_loss: 1.2741 - val_accuracy: 0.6719\n",
            "Epoch 43/100\n",
            "8/8 [==============================] - 18s 2s/step - loss: 0.2873 - accuracy: 0.8921 - val_loss: 1.3304 - val_accuracy: 0.6953\n",
            "Epoch 44/100\n",
            "8/8 [==============================] - 18s 2s/step - loss: 0.2079 - accuracy: 0.9210 - val_loss: 1.3406 - val_accuracy: 0.7109\n",
            "Epoch 45/100\n",
            "8/8 [==============================] - 18s 2s/step - loss: 0.2739 - accuracy: 0.8854 - val_loss: 0.3713 - val_accuracy: 0.8789\n",
            "Epoch 46/100\n",
            "8/8 [==============================] - 18s 2s/step - loss: 0.2910 - accuracy: 0.8810 - val_loss: 1.5197 - val_accuracy: 0.6523\n",
            "Epoch 47/100\n",
            "8/8 [==============================] - 18s 2s/step - loss: 0.2246 - accuracy: 0.9032 - val_loss: 1.2908 - val_accuracy: 0.7031\n",
            "Epoch 48/100\n",
            "8/8 [==============================] - 18s 2s/step - loss: 0.2216 - accuracy: 0.9121 - val_loss: 1.2386 - val_accuracy: 0.7109\n",
            "Epoch 49/100\n",
            "8/8 [==============================] - 20s 3s/step - loss: 0.2312 - accuracy: 0.9033 - val_loss: 1.6276 - val_accuracy: 0.6758\n",
            "Epoch 50/100\n",
            "8/8 [==============================] - 18s 2s/step - loss: 0.2715 - accuracy: 0.8788 - val_loss: 0.9210 - val_accuracy: 0.7500\n",
            "Epoch 51/100\n",
            "8/8 [==============================] - 18s 2s/step - loss: 0.2640 - accuracy: 0.8943 - val_loss: 1.6173 - val_accuracy: 0.6250\n",
            "Epoch 52/100\n",
            "8/8 [==============================] - 18s 2s/step - loss: 0.2117 - accuracy: 0.9166 - val_loss: 2.2059 - val_accuracy: 0.6289\n",
            "Epoch 53/100\n",
            "8/8 [==============================] - 19s 2s/step - loss: 0.2702 - accuracy: 0.8799 - val_loss: 1.6892 - val_accuracy: 0.6484\n",
            "Epoch 54/100\n",
            "8/8 [==============================] - 21s 3s/step - loss: 0.1979 - accuracy: 0.9150 - val_loss: 1.8390 - val_accuracy: 0.6719\n",
            "Epoch 55/100\n",
            "8/8 [==============================] - 18s 2s/step - loss: 0.1975 - accuracy: 0.9221 - val_loss: 1.5096 - val_accuracy: 0.6562\n",
            "Epoch 56/100\n",
            "8/8 [==============================] - 18s 2s/step - loss: 0.2407 - accuracy: 0.8932 - val_loss: 2.4215 - val_accuracy: 0.5977\n",
            "Epoch 57/100\n",
            "8/8 [==============================] - 18s 2s/step - loss: 0.3567 - accuracy: 0.8732 - val_loss: 1.8844 - val_accuracy: 0.6562\n",
            "Epoch 58/100\n",
            "8/8 [==============================] - 18s 2s/step - loss: 0.1972 - accuracy: 0.9232 - val_loss: 1.7560 - val_accuracy: 0.6719\n",
            "Epoch 59/100\n",
            "8/8 [==============================] - 20s 3s/step - loss: 0.1773 - accuracy: 0.9258 - val_loss: 2.0174 - val_accuracy: 0.6445\n",
            "Epoch 60/100\n",
            "8/8 [==============================] - 18s 2s/step - loss: 0.2234 - accuracy: 0.9066 - val_loss: 2.8646 - val_accuracy: 0.5781\n",
            "Epoch 61/100\n",
            "8/8 [==============================] - 18s 2s/step - loss: 0.2338 - accuracy: 0.8966 - val_loss: 3.3370 - val_accuracy: 0.5547\n",
            "Epoch 62/100\n",
            "8/8 [==============================] - 20s 3s/step - loss: 0.1991 - accuracy: 0.9219 - val_loss: 1.8079 - val_accuracy: 0.6680\n",
            "Epoch 63/100\n",
            "8/8 [==============================] - 18s 2s/step - loss: 0.2175 - accuracy: 0.9088 - val_loss: 3.4744 - val_accuracy: 0.5664\n",
            "Epoch 64/100\n",
            "8/8 [==============================] - 21s 3s/step - loss: 0.1807 - accuracy: 0.9288 - val_loss: 1.9075 - val_accuracy: 0.6680\n",
            "Epoch 65/100\n",
            "8/8 [==============================] - 18s 2s/step - loss: 0.1580 - accuracy: 0.9455 - val_loss: 4.0161 - val_accuracy: 0.5117\n",
            "Epoch 66/100\n",
            "8/8 [==============================] - 18s 2s/step - loss: 0.2467 - accuracy: 0.8932 - val_loss: 2.6322 - val_accuracy: 0.5977\n",
            "Epoch 67/100\n",
            "8/8 [==============================] - 18s 2s/step - loss: 0.1413 - accuracy: 0.9488 - val_loss: 2.5090 - val_accuracy: 0.6055\n",
            "Epoch 68/100\n",
            "8/8 [==============================] - 18s 2s/step - loss: 0.2240 - accuracy: 0.9099 - val_loss: 2.3974 - val_accuracy: 0.6133\n",
            "Epoch 69/100\n",
            "8/8 [==============================] - 18s 2s/step - loss: 0.1549 - accuracy: 0.9377 - val_loss: 2.1384 - val_accuracy: 0.6641\n",
            "Epoch 70/100\n",
            "8/8 [==============================] - 18s 2s/step - loss: 0.1998 - accuracy: 0.9166 - val_loss: 2.3284 - val_accuracy: 0.6211\n",
            "Epoch 71/100\n",
            "8/8 [==============================] - 18s 2s/step - loss: 0.1622 - accuracy: 0.9388 - val_loss: 1.6778 - val_accuracy: 0.6992\n",
            "Epoch 72/100\n",
            "8/8 [==============================] - 18s 2s/step - loss: 0.1552 - accuracy: 0.9366 - val_loss: 3.2433 - val_accuracy: 0.5898\n",
            "Epoch 73/100\n",
            "8/8 [==============================] - 20s 3s/step - loss: 0.1610 - accuracy: 0.9463 - val_loss: 2.4652 - val_accuracy: 0.6406\n",
            "Epoch 74/100\n",
            "8/8 [==============================] - 18s 2s/step - loss: 0.1281 - accuracy: 0.9544 - val_loss: 2.5192 - val_accuracy: 0.6016\n",
            "Epoch 75/100\n",
            "8/8 [==============================] - 20s 3s/step - loss: 0.2200 - accuracy: 0.9131 - val_loss: 2.1863 - val_accuracy: 0.6367\n",
            "Epoch 76/100\n",
            "8/8 [==============================] - 18s 2s/step - loss: 0.1582 - accuracy: 0.9310 - val_loss: 3.4569 - val_accuracy: 0.5703\n",
            "Epoch 77/100\n",
            "8/8 [==============================] - 18s 2s/step - loss: 0.2034 - accuracy: 0.9199 - val_loss: 1.9278 - val_accuracy: 0.6719\n",
            "Epoch 78/100\n",
            "8/8 [==============================] - 18s 2s/step - loss: 0.1477 - accuracy: 0.9388 - val_loss: 3.9230 - val_accuracy: 0.5312\n",
            "Epoch 79/100\n",
            "8/8 [==============================] - 20s 3s/step - loss: 0.1510 - accuracy: 0.9434 - val_loss: 2.1189 - val_accuracy: 0.6641\n",
            "Epoch 80/100\n",
            "8/8 [==============================] - 18s 2s/step - loss: 0.1463 - accuracy: 0.9410 - val_loss: 2.1698 - val_accuracy: 0.6523\n",
            "Epoch 81/100\n",
            "8/8 [==============================] - 18s 2s/step - loss: 0.1451 - accuracy: 0.9399 - val_loss: 0.8851 - val_accuracy: 0.8008\n",
            "Epoch 82/100\n",
            "8/8 [==============================] - 18s 2s/step - loss: 0.2240 - accuracy: 0.9210 - val_loss: 2.2423 - val_accuracy: 0.6523\n",
            "Epoch 83/100\n",
            "8/8 [==============================] - 18s 2s/step - loss: 0.1199 - accuracy: 0.9555 - val_loss: 2.5100 - val_accuracy: 0.6367\n",
            "Epoch 84/100\n",
            "8/8 [==============================] - 18s 2s/step - loss: 0.1291 - accuracy: 0.9522 - val_loss: 1.3484 - val_accuracy: 0.7461\n",
            "Epoch 85/100\n",
            "8/8 [==============================] - 21s 3s/step - loss: 0.1813 - accuracy: 0.9166 - val_loss: 2.0552 - val_accuracy: 0.6797\n",
            "Epoch 86/100\n",
            "8/8 [==============================] - 20s 3s/step - loss: 0.1208 - accuracy: 0.9580 - val_loss: 3.3454 - val_accuracy: 0.5977\n",
            "Epoch 87/100\n",
            "8/8 [==============================] - 18s 2s/step - loss: 0.1400 - accuracy: 0.9499 - val_loss: 2.8053 - val_accuracy: 0.6211\n",
            "Epoch 88/100\n",
            "8/8 [==============================] - 21s 3s/step - loss: 0.2890 - accuracy: 0.8988 - val_loss: 2.8153 - val_accuracy: 0.6250\n",
            "Epoch 89/100\n",
            "8/8 [==============================] - 21s 3s/step - loss: 0.1102 - accuracy: 0.9666 - val_loss: 2.4090 - val_accuracy: 0.6758\n",
            "Epoch 90/100\n",
            "8/8 [==============================] - 18s 2s/step - loss: 0.1556 - accuracy: 0.9388 - val_loss: 2.1375 - val_accuracy: 0.6758\n",
            "Epoch 91/100\n",
            "8/8 [==============================] - 18s 2s/step - loss: 0.1066 - accuracy: 0.9644 - val_loss: 2.6816 - val_accuracy: 0.6523\n",
            "Epoch 92/100\n",
            "8/8 [==============================] - 21s 3s/step - loss: 0.1377 - accuracy: 0.9455 - val_loss: 2.8124 - val_accuracy: 0.6250\n",
            "Epoch 93/100\n",
            "8/8 [==============================] - 21s 3s/step - loss: 0.1104 - accuracy: 0.9511 - val_loss: 1.7067 - val_accuracy: 0.7383\n",
            "Epoch 94/100\n",
            "8/8 [==============================] - 18s 2s/step - loss: 0.1744 - accuracy: 0.9344 - val_loss: 4.7319 - val_accuracy: 0.5508\n",
            "Epoch 95/100\n",
            "8/8 [==============================] - 18s 2s/step - loss: 0.1315 - accuracy: 0.9433 - val_loss: 2.5738 - val_accuracy: 0.6680\n",
            "Epoch 96/100\n",
            "8/8 [==============================] - 18s 2s/step - loss: 0.1175 - accuracy: 0.9511 - val_loss: 2.1078 - val_accuracy: 0.6914\n",
            "Epoch 97/100\n",
            "8/8 [==============================] - 18s 2s/step - loss: 0.2148 - accuracy: 0.9132 - val_loss: 2.4113 - val_accuracy: 0.6602\n",
            "Epoch 98/100\n",
            "8/8 [==============================] - 18s 2s/step - loss: 0.1222 - accuracy: 0.9577 - val_loss: 2.5221 - val_accuracy: 0.6719\n",
            "Epoch 99/100\n",
            "8/8 [==============================] - 18s 2s/step - loss: 0.1091 - accuracy: 0.9588 - val_loss: 3.9042 - val_accuracy: 0.5859\n",
            "Epoch 100/100\n",
            "8/8 [==============================] - 18s 2s/step - loss: 0.1056 - accuracy: 0.9566 - val_loss: 5.3538 - val_accuracy: 0.5430\n"
          ],
          "name": "stdout"
        }
      ]
    },
    {
      "cell_type": "code",
      "metadata": {
        "colab_type": "code",
        "id": "7zNPRWOVJdOH",
        "colab": {
          "base_uri": "https://localhost:8080/",
          "height": 545
        },
        "outputId": "ed141a21-2892-4531-af61-26dce2c30b23"
      },
      "source": [
        "import matplotlib.pyplot as plt\n",
        "acc = history.history['accuracy']\n",
        "val_acc = history.history['val_accuracy']\n",
        "loss = history.history['loss']\n",
        "val_loss = history.history['val_loss']\n",
        "\n",
        "epochs = range(len(acc))\n",
        "\n",
        "plt.plot(epochs, acc, 'r', label='Training accuracy')\n",
        "plt.plot(epochs, val_acc, 'b', label='Validation accuracy')\n",
        "plt.title('Training and validation accuracy')\n",
        "\n",
        "plt.figure()\n",
        "\n",
        "plt.plot(epochs, loss, 'r', label='Training Loss')\n",
        "plt.plot(epochs, val_loss, 'b', label='Validation Loss')\n",
        "plt.title('Training and validation loss')\n",
        "plt.legend()\n",
        "\n",
        "plt.show()"
      ],
      "execution_count": 7,
      "outputs": [
        {
          "output_type": "display_data",
          "data": {
            "image/png": "[encoded data removed]",
            "text/plain": [
              "<Figure size 432x288 with 1 Axes>"
            ]
          },
          "metadata": {
            "tags": [],
            "needs_background": "light"
          }
        },
        {
          "output_type": "display_data",
          "data": {
            "image/png": "[encoded data removed]",
            "text/plain": [
              "<Figure size 432x288 with 1 Axes>"
            ]
          },
          "metadata": {
            "tags": [],
            "needs_background": "light"
          }
        }
      ]
    },
    {
      "cell_type": "code",
      "metadata": {
        "id": "tAFI7wmDpa6F",
        "colab_type": "code",
        "colab": {}
      },
      "source": [
        ""
      ],
      "execution_count": null,
      "outputs": []
    }
  ]
}