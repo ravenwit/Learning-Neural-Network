{
  "nbformat": 4,
  "nbformat_minor": 0,
  "metadata": {
    "colab": {
      "name": "Exercise 8 - Question.ipynb",
      "provenance": []
    },
    "kernelspec": {
      "display_name": "Python 3",
      "name": "python3"
    },
    "accelerator": "GPU"
  },
  "cells": [
    {
      "cell_type": "code",
      "metadata": {
        "id": "zX4Kg8DUTKWO",
        "colab_type": "code",
        "colab": {}
      },
      "source": [
        "#@title Licensed under the Apache License, Version 2.0 (the \"License\");\n",
        "# you may not use this file except in compliance with the License.\n",
        "# You may obtain a copy of the License at\n",
        "#\n",
        "# https://www.apache.org/licenses/LICENSE-2.0\n",
        "#\n",
        "# Unless required by applicable law or agreed to in writing, software\n",
        "# distributed under the License is distributed on an \"AS IS\" BASIS,\n",
        "# WITHOUT WARRANTIES OR CONDITIONS OF ANY KIND, either express or implied.\n",
        "# See the License for the specific language governing permissions and\n",
        "# limitations under the License."
      ],
      "execution_count": 1,
      "outputs": []
    },
    {
      "cell_type": "code",
      "metadata": {
        "colab_type": "code",
        "id": "wYtuKeK0dImp",
        "colab": {}
      },
      "source": [
        "import csv\n",
        "import numpy as np\n",
        "import tensorflow as tf\n",
        "import zipfile\n",
        "from tensorflow.keras.preprocessing.image import ImageDataGenerator\n",
        "from google.colab import files"
      ],
      "execution_count": 6,
      "outputs": []
    },
    {
      "cell_type": "markdown",
      "metadata": {
        "colab_type": "text",
        "id": "EmMyh9_mkDHF"
      },
      "source": [
        "The data for this exercise is available at: https://www.kaggle.com/datamunge/sign-language-mnist/home\n",
        "\n",
        "Sign up and download to find 2 CSV files: sign_mnist_test.csv and sign_mnist_train.csv -- You will upload both of them using this button before you can continue.\n"
      ]
    },
    {
      "cell_type": "code",
      "metadata": {
        "colab_type": "code",
        "id": "IcLOZlnnc_N7",
        "colab": {
          "resources": {
            "http://localhost:8080/nbextensions/google.colab/files.js": {
              "data": "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",
              "ok": true,
              "headers": [
                [
                  "content-type",
                  "application/javascript"
                ]
              ],
              "status": 200,
              "status_text": ""
            }
          },
          "base_uri": "https://localhost:8080/",
          "height": 106
        },
        "outputId": "73b0868f-ea95-4e58-d9fb-ea2c7deb92cc"
      },
      "source": [
        "uploaded=files.upload()"
      ],
      "execution_count": 11,
      "outputs": [
        {
          "output_type": "display_data",
          "data": {
            "text/html": [
              "\n",
              "     <input type=\"file\" id=\"files-78af80ea-c34d-449f-8898-53ddd2877b82\" name=\"files[]\" multiple disabled\n",
              "        style=\"border:none\" />\n",
              "     <output id=\"result-78af80ea-c34d-449f-8898-53ddd2877b82\">\n",
              "      Upload widget is only available when the cell has been executed in the\n",
              "      current browser session. Please rerun this cell to enable.\n",
              "      </output>\n",
              "      <script src=\"/nbextensions/google.colab/files.js\"></script> "
            ],
            "text/plain": [
              "<IPython.core.display.HTML object>"
            ]
          },
          "metadata": {
            "tags": []
          }
        },
        {
          "output_type": "stream",
          "text": [
            "Saving sign_mnist_train.csv to sign_mnist_train.csv\n",
            "Saving sign_mnist_test.csv to sign_mnist_test.csv\n"
          ],
          "name": "stdout"
        }
      ]
    },
    {
      "cell_type": "code",
      "metadata": {
        "colab_type": "code",
        "id": "4kxw-_rmcnVu",
        "colab": {
          "base_uri": "https://localhost:8080/",
          "height": 85
        },
        "outputId": "51e5413c-3252-44c1-efd5-d343c4196159"
      },
      "source": [
        "def get_data(filename):\n",
        "  # You will need to write code that will read the file passed\n",
        "  # into this function. The first line contains the column headers\n",
        "  # so you should ignore it\n",
        "  # Each successive line contians 785 comma separated values between 0 and 255\n",
        "  # The first value is the label\n",
        "  # The rest are the pixel values for that picture\n",
        "  # The function will return 2 np.array types. One with all the labels\n",
        "  # One with all the images\n",
        "  #\n",
        "  # Tips: \n",
        "  # If you read a full line (as 'row') then row[0] has the label\n",
        "  # and row[1:785] has the 784 pixel values\n",
        "  # Take a look at np.array_split to turn the 784 pixels into 28x28\n",
        "  # You are reading in strings, but need the values to be floats\n",
        "  # Check out np.array().astype for a conversion\n",
        "    with open(filename) as training_file:\n",
        "      # Your code starts here\n",
        "        file_csv = csv.reader(training_file, delimiter=',')\n",
        "        flag = True\n",
        "        _images = []\n",
        "        _labels = []\n",
        "        for row in file_csv:\n",
        "            if flag: flag = False\n",
        "            else: \n",
        "                data = row[1:785]\n",
        "                data_array = np.array_split(data, 28)\n",
        "                _images.append(data_array)\n",
        "                _labels.append(row[0])\n",
        "        images = np.array(_images).astype('float')\n",
        "        labels = np.array(_labels).astype('float')\n",
        "      # Your code ends here\n",
        "    return images, labels\n",
        "\n",
        "\n",
        "training_images, training_labels = get_data('sign_mnist_train.csv')\n",
        "testing_images, testing_labels = get_data('sign_mnist_test.csv')\n",
        "\n",
        "# Keep these\n",
        "print(training_images.shape)\n",
        "print(training_labels.shape)\n",
        "print(testing_images.shape)\n",
        "print(testing_labels.shape)\n",
        "\n",
        "# Their output should be:\n",
        "# (27455, 28, 28)\n",
        "# (27455,)\n",
        "# (7172, 28, 28)\n",
        "# (7172,)"
      ],
      "execution_count": 12,
      "outputs": [
        {
          "output_type": "stream",
          "text": [
            "(27455, 28, 28)\n",
            "(27455,)\n",
            "(7172, 28, 28)\n",
            "(7172,)\n"
          ],
          "name": "stdout"
        }
      ]
    },
    {
      "cell_type": "code",
      "metadata": {
        "colab_type": "code",
        "id": "awoqRpyZdQkD",
        "colab": {
          "base_uri": "https://localhost:8080/",
          "height": 51
        },
        "outputId": "34efc1fc-87cd-46dd-fb31-3f463d8ec197"
      },
      "source": [
        "# In this section you will have to add another dimension to the data\n",
        "# So, for example, if your array is (10000, 28, 28)\n",
        "# You will need to make it (10000, 28, 28, 1)\n",
        "# Hint: np.expand_dims\n",
        "\n",
        "training_images = np.expand_dims(training_images, axis=3) # Your Code Here\n",
        "testing_images = np.expand_dims(testing_images, axis=3) # Your Code Here\n",
        "\n",
        "# Create an ImageDataGenerator and do Image Augmentation\n",
        "train_datagen = ImageDataGenerator(\n",
        "    # Your Code Here\n",
        "    rescale=1. / 255,\n",
        "    rotation_range=40,\n",
        "    width_shift_range=0.2,\n",
        "    height_shift_range=0.2,\n",
        "    shear_range=0.2,\n",
        "    zoom_range=0.2,\n",
        "    horizontal_flip=True,\n",
        "    fill_mode='nearest'\n",
        "    )\n",
        "\n",
        "train_generator = train_datagen.flow(\n",
        "        training_images, training_labels,\n",
        "        batch_size=32) #YOUR CODE HERE\n",
        "\n",
        "validation_datagen = ImageDataGenerator(\n",
        "    # Your Code Here\n",
        "    rescale=1. / 255\n",
        ")\n",
        "validation_generator = validation_datagen.flow(testing_images, testing_labels)\n",
        "    \n",
        "# Keep These\n",
        "print(training_images.shape)\n",
        "print(testing_images.shape)\n",
        "    \n",
        "# Their output should be:\n",
        "# (27455, 28, 28, 1)\n",
        "# (7172, 28, 28, 1)"
      ],
      "execution_count": 13,
      "outputs": [
        {
          "output_type": "stream",
          "text": [
            "(27455, 28, 28, 1)\n",
            "(7172, 28, 28, 1)\n"
          ],
          "name": "stdout"
        }
      ]
    },
    {
      "cell_type": "code",
      "metadata": {
        "colab_type": "code",
        "id": "Rmb7S32cgRqS",
        "colab": {
          "base_uri": "https://localhost:8080/",
          "height": 1000
        },
        "outputId": "4d7595e4-5832-4313-fed8-f8f0fecef377"
      },
      "source": [
        "# Define the model\n",
        "# Use no more than 2 Conv2D and 2 MaxPooling2D\n",
        "model = tf.keras.models.Sequential([\n",
        "    # Your Code Here\n",
        "    tf.keras.layers.Conv2D(64, (3, 3), activation='relu', input_shape=(28, 28, 1)),\n",
        "    tf.keras.layers.MaxPooling2D(2, 2),\n",
        "    tf.keras.layers.Conv2D(64, (3, 3), activation='relu'),\n",
        "    tf.keras.layers.MaxPooling2D(2, 2),\n",
        "    tf.keras.layers.Flatten(),\n",
        "    tf.keras.layers.Dense(128, activation=tf.nn.relu),\n",
        "    tf.keras.layers.Dense(26, activation=tf.nn.softmax)]\n",
        "    )\n",
        "\n",
        "# Compile Model. \n",
        "model.compile(optimizer = tf.optimizers.Adam(),\n",
        "              loss = 'sparse_categorical_crossentropy',\n",
        "              metrics=['accuracy'])\n",
        "\n",
        "# Train the Model\n",
        "history = model.fit(train_generator,\n",
        "                              steps_per_epoch=len(training_images) / 128,\n",
        "                              epochs=100,\n",
        "                              validation_data=validation_generator)\n",
        "\n",
        "model.evaluate(testing_images, testing_labels)\n",
        "    \n",
        "# The output from model.evaluate should be close to:\n",
        "[6.92426086682151, 0.56609035]\n"
      ],
      "execution_count": 14,
      "outputs": [
        {
          "output_type": "stream",
          "text": [
            "Epoch 1/100\n",
            "215/214 [==============================] - 3s 14ms/step - loss: 3.1519 - accuracy: 0.0695 - val_loss: 3.0584 - val_accuracy: 0.0646\n",
            "Epoch 2/100\n",
            "215/214 [==============================] - 3s 13ms/step - loss: 2.9475 - accuracy: 0.1177 - val_loss: 2.6569 - val_accuracy: 0.1979\n",
            "Epoch 3/100\n",
            "215/214 [==============================] - 3s 13ms/step - loss: 2.6882 - accuracy: 0.1797 - val_loss: 2.3764 - val_accuracy: 0.2460\n",
            "Epoch 4/100\n",
            "215/214 [==============================] - 3s 13ms/step - loss: 2.4542 - accuracy: 0.2313 - val_loss: 1.9908 - val_accuracy: 0.3452\n",
            "Epoch 5/100\n",
            "215/214 [==============================] - 3s 13ms/step - loss: 2.2917 - accuracy: 0.2749 - val_loss: 1.7104 - val_accuracy: 0.4764\n",
            "Epoch 6/100\n",
            "215/214 [==============================] - 3s 14ms/step - loss: 2.1777 - accuracy: 0.3115 - val_loss: 1.5490 - val_accuracy: 0.4979\n",
            "Epoch 7/100\n",
            "215/214 [==============================] - 3s 13ms/step - loss: 2.0399 - accuracy: 0.3535 - val_loss: 1.6141 - val_accuracy: 0.4591\n",
            "Epoch 8/100\n",
            "215/214 [==============================] - 3s 13ms/step - loss: 1.9192 - accuracy: 0.3895 - val_loss: 1.4193 - val_accuracy: 0.5146\n",
            "Epoch 9/100\n",
            "215/214 [==============================] - 3s 13ms/step - loss: 1.8576 - accuracy: 0.3962 - val_loss: 1.2241 - val_accuracy: 0.6014\n",
            "Epoch 10/100\n",
            "215/214 [==============================] - 3s 14ms/step - loss: 1.7533 - accuracy: 0.4289 - val_loss: 1.4626 - val_accuracy: 0.5052\n",
            "Epoch 11/100\n",
            "215/214 [==============================] - 3s 14ms/step - loss: 1.6811 - accuracy: 0.4590 - val_loss: 1.1493 - val_accuracy: 0.6365\n",
            "Epoch 12/100\n",
            "215/214 [==============================] - 3s 14ms/step - loss: 1.5912 - accuracy: 0.4911 - val_loss: 1.4535 - val_accuracy: 0.5191\n",
            "Epoch 13/100\n",
            "215/214 [==============================] - 3s 13ms/step - loss: 1.5652 - accuracy: 0.4948 - val_loss: 1.0547 - val_accuracy: 0.6407\n",
            "Epoch 14/100\n",
            "215/214 [==============================] - 3s 13ms/step - loss: 1.4815 - accuracy: 0.5161 - val_loss: 1.2132 - val_accuracy: 0.5796\n",
            "Epoch 15/100\n",
            "215/214 [==============================] - 3s 13ms/step - loss: 1.4770 - accuracy: 0.5188 - val_loss: 0.9498 - val_accuracy: 0.6658\n",
            "Epoch 16/100\n",
            "215/214 [==============================] - 3s 13ms/step - loss: 1.3959 - accuracy: 0.5440 - val_loss: 0.9864 - val_accuracy: 0.6445\n",
            "Epoch 17/100\n",
            "215/214 [==============================] - 3s 13ms/step - loss: 1.3698 - accuracy: 0.5547 - val_loss: 0.9257 - val_accuracy: 0.6616\n",
            "Epoch 18/100\n",
            "215/214 [==============================] - 3s 13ms/step - loss: 1.3440 - accuracy: 0.5548 - val_loss: 0.8513 - val_accuracy: 0.6905\n",
            "Epoch 19/100\n",
            "215/214 [==============================] - 3s 13ms/step - loss: 1.3168 - accuracy: 0.5676 - val_loss: 0.7901 - val_accuracy: 0.7150\n",
            "Epoch 20/100\n",
            "215/214 [==============================] - 3s 13ms/step - loss: 1.2640 - accuracy: 0.5858 - val_loss: 0.9874 - val_accuracy: 0.6298\n",
            "Epoch 21/100\n",
            "215/214 [==============================] - 3s 14ms/step - loss: 1.2287 - accuracy: 0.5983 - val_loss: 0.8790 - val_accuracy: 0.6704\n",
            "Epoch 22/100\n",
            "215/214 [==============================] - 3s 14ms/step - loss: 1.2448 - accuracy: 0.5955 - val_loss: 0.8718 - val_accuracy: 0.6937\n",
            "Epoch 23/100\n",
            "215/214 [==============================] - 3s 14ms/step - loss: 1.1842 - accuracy: 0.6113 - val_loss: 0.7257 - val_accuracy: 0.7533\n",
            "Epoch 24/100\n",
            "215/214 [==============================] - 3s 13ms/step - loss: 1.1439 - accuracy: 0.6272 - val_loss: 0.8440 - val_accuracy: 0.6973\n",
            "Epoch 25/100\n",
            "215/214 [==============================] - 3s 13ms/step - loss: 1.1366 - accuracy: 0.6217 - val_loss: 0.6955 - val_accuracy: 0.7479\n",
            "Epoch 26/100\n",
            "215/214 [==============================] - 3s 13ms/step - loss: 1.1216 - accuracy: 0.6282 - val_loss: 0.7262 - val_accuracy: 0.7296\n",
            "Epoch 27/100\n",
            "215/214 [==============================] - 3s 13ms/step - loss: 1.0954 - accuracy: 0.6440 - val_loss: 0.6217 - val_accuracy: 0.7695\n",
            "Epoch 28/100\n",
            "215/214 [==============================] - 3s 13ms/step - loss: 1.0709 - accuracy: 0.6448 - val_loss: 0.7261 - val_accuracy: 0.7419\n",
            "Epoch 29/100\n",
            "215/214 [==============================] - 3s 13ms/step - loss: 1.0825 - accuracy: 0.6414 - val_loss: 0.7513 - val_accuracy: 0.7333\n",
            "Epoch 30/100\n",
            "215/214 [==============================] - 3s 13ms/step - loss: 1.0371 - accuracy: 0.6523 - val_loss: 0.6143 - val_accuracy: 0.7964\n",
            "Epoch 31/100\n",
            "215/214 [==============================] - 3s 13ms/step - loss: 1.0319 - accuracy: 0.6557 - val_loss: 0.6910 - val_accuracy: 0.7591\n",
            "Epoch 32/100\n",
            "215/214 [==============================] - 3s 14ms/step - loss: 1.0002 - accuracy: 0.6688 - val_loss: 0.5852 - val_accuracy: 0.7928\n",
            "Epoch 33/100\n",
            "215/214 [==============================] - 3s 13ms/step - loss: 1.0035 - accuracy: 0.6642 - val_loss: 0.5922 - val_accuracy: 0.7860\n",
            "Epoch 34/100\n",
            "215/214 [==============================] - 3s 13ms/step - loss: 0.9968 - accuracy: 0.6714 - val_loss: 0.6749 - val_accuracy: 0.7665\n",
            "Epoch 35/100\n",
            "215/214 [==============================] - 3s 13ms/step - loss: 0.9593 - accuracy: 0.6828 - val_loss: 0.5747 - val_accuracy: 0.7956\n",
            "Epoch 36/100\n",
            "215/214 [==============================] - 3s 13ms/step - loss: 0.9449 - accuracy: 0.6906 - val_loss: 0.5534 - val_accuracy: 0.7900\n",
            "Epoch 37/100\n",
            "215/214 [==============================] - 3s 13ms/step - loss: 0.9514 - accuracy: 0.6881 - val_loss: 0.5378 - val_accuracy: 0.7942\n",
            "Epoch 38/100\n",
            "215/214 [==============================] - 3s 13ms/step - loss: 0.9261 - accuracy: 0.6847 - val_loss: 0.6539 - val_accuracy: 0.7758\n",
            "Epoch 39/100\n",
            "215/214 [==============================] - 3s 14ms/step - loss: 0.8976 - accuracy: 0.6991 - val_loss: 0.5565 - val_accuracy: 0.8093\n",
            "Epoch 40/100\n",
            "215/214 [==============================] - 3s 13ms/step - loss: 0.9077 - accuracy: 0.6993 - val_loss: 0.6361 - val_accuracy: 0.7772\n",
            "Epoch 41/100\n",
            "215/214 [==============================] - 3s 13ms/step - loss: 0.9158 - accuracy: 0.6850 - val_loss: 0.5674 - val_accuracy: 0.7899\n",
            "Epoch 42/100\n",
            "215/214 [==============================] - 3s 13ms/step - loss: 0.8807 - accuracy: 0.7080 - val_loss: 0.4677 - val_accuracy: 0.8356\n",
            "Epoch 43/100\n",
            "215/214 [==============================] - 3s 14ms/step - loss: 0.8748 - accuracy: 0.7081 - val_loss: 0.6157 - val_accuracy: 0.7812\n",
            "Epoch 44/100\n",
            "215/214 [==============================] - 3s 13ms/step - loss: 0.8835 - accuracy: 0.7004 - val_loss: 0.6354 - val_accuracy: 0.7483\n",
            "Epoch 45/100\n",
            "215/214 [==============================] - 3s 13ms/step - loss: 0.8436 - accuracy: 0.7183 - val_loss: 0.6364 - val_accuracy: 0.7600\n",
            "Epoch 46/100\n",
            "215/214 [==============================] - 3s 13ms/step - loss: 0.8499 - accuracy: 0.7109 - val_loss: 0.4754 - val_accuracy: 0.8399\n",
            "Epoch 47/100\n",
            "215/214 [==============================] - 3s 13ms/step - loss: 0.8269 - accuracy: 0.7223 - val_loss: 0.5495 - val_accuracy: 0.8122\n",
            "Epoch 48/100\n",
            "215/214 [==============================] - 3s 13ms/step - loss: 0.8248 - accuracy: 0.7222 - val_loss: 0.5454 - val_accuracy: 0.7956\n",
            "Epoch 49/100\n",
            "215/214 [==============================] - 3s 13ms/step - loss: 0.8062 - accuracy: 0.7310 - val_loss: 0.5086 - val_accuracy: 0.8286\n",
            "Epoch 50/100\n",
            "215/214 [==============================] - 3s 13ms/step - loss: 0.8113 - accuracy: 0.7271 - val_loss: 0.4939 - val_accuracy: 0.8154\n",
            "Epoch 51/100\n",
            "215/214 [==============================] - 3s 13ms/step - loss: 0.8196 - accuracy: 0.7224 - val_loss: 0.4508 - val_accuracy: 0.8370\n",
            "Epoch 52/100\n",
            "215/214 [==============================] - 3s 13ms/step - loss: 0.8105 - accuracy: 0.7264 - val_loss: 0.5820 - val_accuracy: 0.7925\n",
            "Epoch 53/100\n",
            "215/214 [==============================] - 3s 14ms/step - loss: 0.7916 - accuracy: 0.7378 - val_loss: 0.4281 - val_accuracy: 0.8560\n",
            "Epoch 54/100\n",
            "215/214 [==============================] - 3s 13ms/step - loss: 0.7777 - accuracy: 0.7413 - val_loss: 0.4606 - val_accuracy: 0.8360\n",
            "Epoch 55/100\n",
            "215/214 [==============================] - 3s 13ms/step - loss: 0.7574 - accuracy: 0.7506 - val_loss: 0.5156 - val_accuracy: 0.8168\n",
            "Epoch 56/100\n",
            "215/214 [==============================] - 3s 13ms/step - loss: 0.7596 - accuracy: 0.7455 - val_loss: 0.5273 - val_accuracy: 0.8176\n",
            "Epoch 57/100\n",
            "215/214 [==============================] - 3s 14ms/step - loss: 0.7610 - accuracy: 0.7455 - val_loss: 0.5635 - val_accuracy: 0.7945\n",
            "Epoch 58/100\n",
            "215/214 [==============================] - 3s 13ms/step - loss: 0.7226 - accuracy: 0.7512 - val_loss: 0.4205 - val_accuracy: 0.8490\n",
            "Epoch 59/100\n",
            "215/214 [==============================] - 3s 13ms/step - loss: 0.7250 - accuracy: 0.7603 - val_loss: 0.4714 - val_accuracy: 0.8247\n",
            "Epoch 60/100\n",
            "215/214 [==============================] - 3s 13ms/step - loss: 0.7263 - accuracy: 0.7596 - val_loss: 0.4106 - val_accuracy: 0.8452\n",
            "Epoch 61/100\n",
            "215/214 [==============================] - 3s 13ms/step - loss: 0.7195 - accuracy: 0.7620 - val_loss: 0.4879 - val_accuracy: 0.8140\n",
            "Epoch 62/100\n",
            "215/214 [==============================] - 3s 13ms/step - loss: 0.7201 - accuracy: 0.7547 - val_loss: 0.4550 - val_accuracy: 0.8286\n",
            "Epoch 63/100\n",
            "215/214 [==============================] - 3s 13ms/step - loss: 0.7030 - accuracy: 0.7640 - val_loss: 0.4101 - val_accuracy: 0.8592\n",
            "Epoch 64/100\n",
            "215/214 [==============================] - 3s 13ms/step - loss: 0.7111 - accuracy: 0.7571 - val_loss: 0.3376 - val_accuracy: 0.8847\n",
            "Epoch 65/100\n",
            "215/214 [==============================] - 3s 13ms/step - loss: 0.6823 - accuracy: 0.7658 - val_loss: 0.4534 - val_accuracy: 0.8409\n",
            "Epoch 66/100\n",
            "215/214 [==============================] - 3s 13ms/step - loss: 0.7085 - accuracy: 0.7596 - val_loss: 0.3793 - val_accuracy: 0.8643\n",
            "Epoch 67/100\n",
            "215/214 [==============================] - 3s 13ms/step - loss: 0.6786 - accuracy: 0.7722 - val_loss: 0.3663 - val_accuracy: 0.8631\n",
            "Epoch 68/100\n",
            "215/214 [==============================] - 3s 13ms/step - loss: 0.6971 - accuracy: 0.7673 - val_loss: 0.2830 - val_accuracy: 0.8954\n",
            "Epoch 69/100\n",
            "215/214 [==============================] - 3s 13ms/step - loss: 0.6685 - accuracy: 0.7776 - val_loss: 0.3601 - val_accuracy: 0.8720\n",
            "Epoch 70/100\n",
            "215/214 [==============================] - 3s 13ms/step - loss: 0.6426 - accuracy: 0.7809 - val_loss: 0.4362 - val_accuracy: 0.8430\n",
            "Epoch 71/100\n",
            "215/214 [==============================] - 3s 13ms/step - loss: 0.6722 - accuracy: 0.7722 - val_loss: 0.3700 - val_accuracy: 0.8752\n",
            "Epoch 72/100\n",
            "215/214 [==============================] - 3s 13ms/step - loss: 0.6512 - accuracy: 0.7782 - val_loss: 0.3300 - val_accuracy: 0.8753\n",
            "Epoch 73/100\n",
            "215/214 [==============================] - 3s 13ms/step - loss: 0.6633 - accuracy: 0.7812 - val_loss: 0.3347 - val_accuracy: 0.8865\n",
            "Epoch 74/100\n",
            "215/214 [==============================] - 3s 13ms/step - loss: 0.6362 - accuracy: 0.7863 - val_loss: 0.3665 - val_accuracy: 0.8858\n",
            "Epoch 75/100\n",
            "215/214 [==============================] - 3s 13ms/step - loss: 0.6508 - accuracy: 0.7820 - val_loss: 0.4467 - val_accuracy: 0.8455\n",
            "Epoch 76/100\n",
            "215/214 [==============================] - 3s 13ms/step - loss: 0.6493 - accuracy: 0.7859 - val_loss: 0.3172 - val_accuracy: 0.8865\n",
            "Epoch 77/100\n",
            "215/214 [==============================] - 3s 13ms/step - loss: 0.6600 - accuracy: 0.7777 - val_loss: 0.3280 - val_accuracy: 0.8858\n",
            "Epoch 78/100\n",
            "215/214 [==============================] - 3s 13ms/step - loss: 0.6182 - accuracy: 0.7913 - val_loss: 0.3780 - val_accuracy: 0.8652\n",
            "Epoch 79/100\n",
            "215/214 [==============================] - 3s 14ms/step - loss: 0.6472 - accuracy: 0.7881 - val_loss: 0.2932 - val_accuracy: 0.8970\n",
            "Epoch 80/100\n",
            "215/214 [==============================] - 3s 13ms/step - loss: 0.6048 - accuracy: 0.7974 - val_loss: 0.3463 - val_accuracy: 0.8747\n",
            "Epoch 81/100\n",
            "215/214 [==============================] - 3s 13ms/step - loss: 0.6048 - accuracy: 0.7961 - val_loss: 0.2744 - val_accuracy: 0.9046\n",
            "Epoch 82/100\n",
            "215/214 [==============================] - 3s 13ms/step - loss: 0.6132 - accuracy: 0.7948 - val_loss: 0.3137 - val_accuracy: 0.8858\n",
            "Epoch 83/100\n",
            "215/214 [==============================] - 3s 13ms/step - loss: 0.6196 - accuracy: 0.7943 - val_loss: 0.4222 - val_accuracy: 0.8550\n",
            "Epoch 84/100\n",
            "215/214 [==============================] - 3s 13ms/step - loss: 0.5941 - accuracy: 0.8023 - val_loss: 0.3036 - val_accuracy: 0.8854\n",
            "Epoch 85/100\n",
            "215/214 [==============================] - 3s 13ms/step - loss: 0.6019 - accuracy: 0.7984 - val_loss: 0.2998 - val_accuracy: 0.8915\n",
            "Epoch 86/100\n",
            "215/214 [==============================] - 3s 13ms/step - loss: 0.5874 - accuracy: 0.8061 - val_loss: 0.3158 - val_accuracy: 0.8933\n",
            "Epoch 87/100\n",
            "215/214 [==============================] - 3s 13ms/step - loss: 0.6002 - accuracy: 0.8000 - val_loss: 0.3158 - val_accuracy: 0.8859\n",
            "Epoch 88/100\n",
            "215/214 [==============================] - 3s 13ms/step - loss: 0.5886 - accuracy: 0.8003 - val_loss: 0.2922 - val_accuracy: 0.8875\n",
            "Epoch 89/100\n",
            "215/214 [==============================] - 3s 13ms/step - loss: 0.6072 - accuracy: 0.7952 - val_loss: 0.2989 - val_accuracy: 0.8903\n",
            "Epoch 90/100\n",
            "215/214 [==============================] - 3s 13ms/step - loss: 0.5687 - accuracy: 0.8052 - val_loss: 0.2609 - val_accuracy: 0.9120\n",
            "Epoch 91/100\n",
            "215/214 [==============================] - 3s 13ms/step - loss: 0.5761 - accuracy: 0.8061 - val_loss: 0.3008 - val_accuracy: 0.8929\n",
            "Epoch 92/100\n",
            "215/214 [==============================] - 3s 13ms/step - loss: 0.5746 - accuracy: 0.8118 - val_loss: 0.2523 - val_accuracy: 0.9092\n",
            "Epoch 93/100\n",
            "215/214 [==============================] - 3s 14ms/step - loss: 0.5675 - accuracy: 0.8109 - val_loss: 0.3140 - val_accuracy: 0.8827\n",
            "Epoch 94/100\n",
            "215/214 [==============================] - 3s 13ms/step - loss: 0.5623 - accuracy: 0.8093 - val_loss: 0.3104 - val_accuracy: 0.8942\n",
            "Epoch 95/100\n",
            "215/214 [==============================] - 3s 13ms/step - loss: 0.5574 - accuracy: 0.8157 - val_loss: 0.3179 - val_accuracy: 0.8883\n",
            "Epoch 96/100\n",
            "215/214 [==============================] - 3s 13ms/step - loss: 0.5804 - accuracy: 0.8081 - val_loss: 0.4110 - val_accuracy: 0.8674\n",
            "Epoch 97/100\n",
            "215/214 [==============================] - 3s 13ms/step - loss: 0.5668 - accuracy: 0.8124 - val_loss: 0.2187 - val_accuracy: 0.9262\n",
            "Epoch 98/100\n",
            "215/214 [==============================] - 3s 13ms/step - loss: 0.5565 - accuracy: 0.8158 - val_loss: 0.3531 - val_accuracy: 0.8774\n",
            "Epoch 99/100\n",
            "215/214 [==============================] - 3s 13ms/step - loss: 0.5448 - accuracy: 0.8164 - val_loss: 0.2228 - val_accuracy: 0.9267\n",
            "Epoch 100/100\n",
            "215/214 [==============================] - 3s 14ms/step - loss: 0.5357 - accuracy: 0.8172 - val_loss: 0.2341 - val_accuracy: 0.9106\n",
            "225/225 [==============================] - 1s 3ms/step - loss: 605.5578 - accuracy: 0.5008\n"
          ],
          "name": "stdout"
        },
        {
          "output_type": "execute_result",
          "data": {
            "text/plain": [
              "[6.92426086682151, 0.56609035]"
            ]
          },
          "metadata": {
            "tags": []
          },
          "execution_count": 14
        }
      ]
    },
    {
      "cell_type": "code",
      "metadata": {
        "colab_type": "code",
        "id": "_Q3Zpr46dsij",
        "colab": {
          "base_uri": "https://localhost:8080/",
          "height": 545
        },
        "outputId": "346370ad-e835-41b0-ecdf-6f368d729109"
      },
      "source": [
        "# Plot the chart for accuracy and loss on both training and validation\n",
        "\n",
        "import matplotlib.pyplot as plt\n",
        "acc = history.history['accuracy']\n",
        "val_acc = history.history['val_accuracy'] # Your Code Here\n",
        "loss = history.history['loss'] # Your Code Here\n",
        "val_loss = history.history['val_loss'] # Your Code Here\n",
        "\n",
        "epochs = range(len(acc))\n",
        "\n",
        "plt.plot(epochs, acc, 'r', label='Training accuracy')\n",
        "plt.plot(epochs, val_acc, 'b', label='Validation accuracy')\n",
        "plt.title('Training and validation accuracy')\n",
        "plt.legend()\n",
        "plt.figure()\n",
        "\n",
        "plt.plot(epochs, loss, 'r', label='Training Loss')\n",
        "plt.plot(epochs, val_loss, 'b', label='Validation Loss')\n",
        "plt.title('Training and validation loss')\n",
        "plt.legend()\n",
        "\n",
        "plt.show()"
      ],
      "execution_count": 16,
      "outputs": [
        {
          "output_type": "display_data",
          "data": {
            "image/png": "[encoded data removed]",
            "text/plain": [
              "<Figure size 432x288 with 1 Axes>"
            ]
          },
          "metadata": {
            "tags": [],
            "needs_background": "light"
          }
        },
        {
          "output_type": "display_data",
          "data": {
            "image/png": "[encoded data removed]",
            "text/plain": [
              "<Figure size 432x288 with 1 Axes>"
            ]
          },
          "metadata": {
            "tags": [],
            "needs_background": "light"
          }
        }
      ]
    },
    {
      "cell_type": "code",
      "metadata": {
        "id": "N2dZyaT0fCT7",
        "colab_type": "code",
        "colab": {}
      },
      "source": [
        ""
      ],
      "execution_count": null,
      "outputs": []
    }
  ]
}