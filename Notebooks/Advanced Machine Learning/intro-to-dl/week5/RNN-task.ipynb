{
 "cells": [
  {
   "cell_type": "markdown",
   "metadata": {},
   "source": [
    "# Generating names with recurrent neural networks\n",
    "\n",
    "This time you'll find yourself delving into the heart (and other intestines) of recurrent neural networks on a class of toy problems.\n",
    "\n",
    "Struggle to find a name for the variable? Let's see how you'll come up with a name for your son/daughter. Surely no human has expertize over what is a good child name, so let us train RNN instead;\n",
    "\n",
    "It's dangerous to go alone, take these:"
   ]
  },
  {
   "cell_type": "code",
   "execution_count": 1,
   "metadata": {
    "ExecuteTime": {
     "end_time": "2018-08-13T20:26:42.696201Z",
     "start_time": "2018-08-13T20:26:38.104103Z"
    }
   },
   "outputs": [
    {
     "name": "stdout",
     "output_type": "stream",
     "text": [
      "1.2.1\n"
     ]
    },
    {
     "name": "stderr",
     "output_type": "stream",
     "text": [
      "Using TensorFlow backend.\n"
     ]
    }
   ],
   "source": [
    "import tensorflow as tf\n",
    "print(tf.__version__)\n",
    "import numpy as np\n",
    "import matplotlib.pyplot as plt\n",
    "%matplotlib inline\n",
    "import os\n",
    "import sys\n",
    "sys.path.append(\"..\")\n",
    "import keras_utils\n",
    "import tqdm_utils"
   ]
  },
  {
   "cell_type": "markdown",
   "metadata": {},
   "source": [
    "# Load data\n",
    "The dataset contains ~8k earthling names from different cultures, all in latin transcript.\n",
    "\n",
    "This notebook has been designed so as to allow you to quickly swap names for something similar: deep learning article titles, IKEA furniture, pokemon names, etc."
   ]
  },
  {
   "cell_type": "code",
   "execution_count": 2,
   "metadata": {
    "ExecuteTime": {
     "end_time": "2018-08-13T20:26:42.701832Z",
     "start_time": "2018-08-13T20:26:42.697766Z"
    },
    "collapsed": true
   },
   "outputs": [],
   "source": [
    "start_token = \" \"  # so that the network knows that we're generating a first token\n",
    "\n",
    "# this is the token for padding,\n",
    "# we will add fake pad token at the end of names \n",
    "# to make them of equal size for further batching\n",
    "pad_token = \"#\"\n",
    "\n",
    "with open(\"names\") as f:\n",
    "    names = f.read()[:-1].split('\\n')\n",
    "    names = [start_token + name for name in names]"
   ]
  },
  {
   "cell_type": "code",
   "execution_count": 3,
   "metadata": {
    "ExecuteTime": {
     "end_time": "2018-08-13T20:26:42.707885Z",
     "start_time": "2018-08-13T20:26:42.703302Z"
    }
   },
   "outputs": [
    {
     "name": "stdout",
     "output_type": "stream",
     "text": [
      "number of samples: 7944\n",
      " Abagael\n",
      " Claresta\n",
      " Glory\n",
      " Liliane\n",
      " Prissie\n",
      " Geeta\n",
      " Giovanne\n",
      " Piggy\n"
     ]
    }
   ],
   "source": [
    "print('number of samples:', len(names))\n",
    "for x in names[::1000]:\n",
    "    print(x)"
   ]
  },
  {
   "cell_type": "code",
   "execution_count": 4,
   "metadata": {
    "ExecuteTime": {
     "end_time": "2018-08-13T20:26:42.857411Z",
     "start_time": "2018-08-13T20:26:42.709371Z"
    }
   },
   "outputs": [
    {
     "name": "stdout",
     "output_type": "stream",
     "text": [
      "max length: 16\n"
     ]
    },
    {
     "data": {
      "image/png": "[encoded data removed]",
      "text/plain": [
       "<matplotlib.figure.Figure at 0x7f78276055c0>"
      ]
     },
     "metadata": {},
     "output_type": "display_data"
    }
   ],
   "source": [
    "MAX_LENGTH = max(map(len, names))\n",
    "print(\"max length:\", MAX_LENGTH)\n",
    "\n",
    "plt.title('Sequence length distribution')\n",
    "plt.hist(list(map(len, names)), bins=25);"
   ]
  },
  {
   "cell_type": "markdown",
   "metadata": {},
   "source": [
    "# Text processing\n",
    "\n",
    "First we need to collect a \"vocabulary\" of all unique tokens i.e. unique characters. We can then encode inputs as a sequence of character ids."
   ]
  },
  {
   "cell_type": "code",
   "execution_count": 9,
   "metadata": {
    "ExecuteTime": {
     "end_time": "2018-08-13T20:26:42.864592Z",
     "start_time": "2018-08-13T20:26:42.858725Z"
    }
   },
   "outputs": [
    {
     "name": "stdout",
     "output_type": "stream",
     "text": [
      "{'U', 'b', 'L', 'n', 'z', \"'\", 'Z', 'j', 'i', 'v', 'J', 'X', 'k', 'l', 'R', 'H', 'B', 'h', 'c', 'w', 'Q', 'a', 'r', 'o', 'p', 'm', 'E', 'A', 'x', 'y', 'e', 's', 'S', 'K', 'M', 'N', 't', 'q', 'G', 'V', ' ', '-', '#', 'D', 'f', 'O', 'W', 'C', 'Y', 'g', 'F', 'u', 'T', 'I', 'd', 'P'}\n",
      "n_tokens: 56\n"
     ]
    }
   ],
   "source": [
    "tokens = set(''.join(names)) ### YOUR CODE HERE: all unique characters go here, padding included!\n",
    "tokens.add(pad_token)\n",
    "print(tokens)\n",
    "\n",
    "tokens = list(tokens)\n",
    "n_tokens = len(tokens)\n",
    "print ('n_tokens:', n_tokens)\n",
    "\n",
    "assert 50 < n_tokens < 60"
   ]
  },
  {
   "cell_type": "markdown",
   "metadata": {},
   "source": [
    "### Cast everything from symbols into identifiers\n",
    "\n",
    "Tensorflow string manipulation is a bit tricky, so we'll work around it. \n",
    "We'll feed our recurrent neural network with ids of characters from our dictionary.\n",
    "\n",
    "To create such dictionary, let's assign `token_to_id`"
   ]
  },
  {
   "cell_type": "code",
   "execution_count": 11,
   "metadata": {
    "ExecuteTime": {
     "end_time": "2018-08-13T20:26:42.870330Z",
     "start_time": "2018-08-13T20:26:42.866135Z"
    }
   },
   "outputs": [
    {
     "name": "stdout",
     "output_type": "stream",
     "text": [
      "{'U': 0, 'b': 1, 'L': 2, 'n': 3, 'z': 4, \"'\": 5, 'Z': 6, 'j': 7, 'i': 8, 'v': 9, 'J': 10, 'X': 11, 'k': 12, 'l': 13, 'R': 14, 'H': 15, 'B': 16, 'h': 17, 'c': 18, 'w': 19, 'Q': 20, 'a': 21, 'r': 22, 'o': 23, 'p': 24, 'm': 25, 'E': 26, 'A': 27, 'x': 28, 'y': 29, 'e': 30, 's': 31, 'S': 32, 'K': 33, 'M': 34, 'N': 35, 't': 36, 'q': 37, 'G': 38, 'V': 39, ' ': 40, '-': 41, '#': 42, 'D': 43, 'f': 44, 'O': 45, 'W': 46, 'C': 47, 'Y': 48, 'g': 49, 'F': 50, 'u': 51, 'T': 52, 'I': 53, 'd': 54, 'P': 55}\n"
     ]
    }
   ],
   "source": [
    "token_to_id = {s : i for i, s in enumerate(tokens)} ### YOUR CODE HERE: create a dictionary of {symbol -> its  index in tokens}\n",
    "\n",
    "print(token_to_id)\n",
    "\n",
    "assert len(tokens) == len(token_to_id), \"dictionaries must have same size\""
   ]
  },
  {
   "cell_type": "code",
   "execution_count": 12,
   "metadata": {
    "ExecuteTime": {
     "end_time": "2018-08-13T20:26:42.875943Z",
     "start_time": "2018-08-13T20:26:42.871834Z"
    },
    "collapsed": true
   },
   "outputs": [],
   "source": [
    "def to_matrix(names, max_len=None, pad=token_to_id[pad_token], dtype=np.int32):\n",
    "    \"\"\"Casts a list of names into rnn-digestable padded matrix\"\"\"\n",
    "    \n",
    "    max_len = max_len or max(map(len, names))\n",
    "    names_ix = np.zeros([len(names), max_len], dtype) + pad\n",
    "\n",
    "    for i in range(len(names)):\n",
    "        name_ix = list(map(token_to_id.get, names[i]))\n",
    "        names_ix[i, :len(name_ix)] = name_ix\n",
    "\n",
    "    return names_ix"
   ]
  },
  {
   "cell_type": "code",
   "execution_count": 13,
   "metadata": {
    "ExecuteTime": {
     "end_time": "2018-08-13T20:26:42.883107Z",
     "start_time": "2018-08-13T20:26:42.877186Z"
    }
   },
   "outputs": [
    {
     "name": "stdout",
     "output_type": "stream",
     "text": [
      " Abagael\n",
      " Glory\n",
      " Prissie\n",
      " Giovanne\n",
      "[[40 27  1 21 49 21 30 13 42]\n",
      " [40 38 13 23 22 29 42 42 42]\n",
      " [40 55 22  8 31 31  8 30 42]\n",
      " [40 38  8 23  9 21  3  3 30]]\n"
     ]
    }
   ],
   "source": [
    "# Example: cast 4 random names to padded matrices (so that we can easily batch them)\n",
    "print('\\n'.join(names[::2000]))\n",
    "print(to_matrix(names[::2000]))"
   ]
  },
  {
   "cell_type": "markdown",
   "metadata": {},
   "source": [
    "# Defining a recurrent neural network\n",
    "\n",
    "We can rewrite recurrent neural network as a consecutive application of dense layer to input $x_t$ and previous rnn state $h_t$. This is exactly what we're gonna do now.\n",
    "<img src=\"./rnn.png\" width=600>\n",
    "\n",
    "Since we're training a language model, there should also be:\n",
    "* An embedding layer that converts character id x_t to a vector.\n",
    "* An output layer that predicts probabilities of next phoneme based on h_t+1"
   ]
  },
  {
   "cell_type": "code",
   "execution_count": 14,
   "metadata": {
    "ExecuteTime": {
     "end_time": "2018-08-13T20:26:44.039419Z",
     "start_time": "2018-08-13T20:26:42.884581Z"
    },
    "collapsed": true
   },
   "outputs": [],
   "source": [
    "# remember to reset your session if you change your graph!\n",
    "s = keras_utils.reset_tf_session()"
   ]
  },
  {
   "cell_type": "code",
   "execution_count": 15,
   "metadata": {
    "ExecuteTime": {
     "end_time": "2018-08-13T20:26:44.044903Z",
     "start_time": "2018-08-13T20:26:44.041084Z"
    },
    "collapsed": true
   },
   "outputs": [],
   "source": [
    "import keras\n",
    "from keras.layers import concatenate, Dense, Embedding\n",
    "\n",
    "rnn_num_units = 64  # size of hidden state\n",
    "embedding_size = 16  # for characters\n",
    "\n",
    "# Let's create layers for our recurrent network\n",
    "# Note: we create layers but we don't \"apply\" them yet (this is a \"functional API\" of Keras)\n",
    "# Note: set the correct activation (from keras.activations) to Dense layers!\n",
    "\n",
    "# an embedding layer that converts character ids into embeddings\n",
    "embed_x = Embedding(n_tokens, embedding_size)\n",
    "\n",
    "# a dense layer that maps input and previous state to new hidden state, [x_t,h_t]->h_t+1\n",
    "get_h_next = Dense(rnn_num_units, activation='tanh') ### YOUR CODE HERE\n",
    "\n",
    "# a dense layer that maps current hidden state to probabilities of characters [h_t+1]->P(x_t+1|h_t+1)\n",
    "get_probas = Dense(n_tokens, activation='softmax') ### YOUR CODE HERE "
   ]
  },
  {
   "cell_type": "markdown",
   "metadata": {},
   "source": [
    "We will generate names character by character starting with `start_token`:\n",
    "\n",
    "<img src=\"./char-nn.png\" width=600>"
   ]
  },
  {
   "cell_type": "code",
   "execution_count": 16,
   "metadata": {
    "ExecuteTime": {
     "end_time": "2018-08-13T20:26:44.053212Z",
     "start_time": "2018-08-13T20:26:44.048389Z"
    },
    "collapsed": true
   },
   "outputs": [],
   "source": [
    "def rnn_one_step(x_t, h_t):\n",
    "    \"\"\"\n",
    "    Recurrent neural network step that produces \n",
    "    probabilities for next token x_t+1 and next state h_t+1\n",
    "    given current input x_t and previous state h_t.\n",
    "    We'll call this method repeatedly to produce the whole sequence.\n",
    "    \n",
    "    You're supposed to \"apply\" above layers to produce new tensors.\n",
    "    Follow inline instructions to complete the function.\n",
    "    \"\"\"\n",
    "    # convert character id into embedding\n",
    "    x_t_emb = embed_x(tf.reshape(x_t, [-1, 1]))[:, 0]\n",
    "    \n",
    "    # concatenate x_t embedding and previous h_t state\n",
    "    x_and_h = concatenate([x_t_emb, h_t]) ### YOUR CODE HERE\n",
    "    \n",
    "    # compute next state given x_and_h\n",
    "    h_next = get_h_next(x_and_h) ### YOUR CODE HERE\n",
    "    \n",
    "    # get probabilities for language model P(x_next|h_next)\n",
    "    output_probas = get_probas(h_next) ### YOUR CODE HERE\n",
    "    \n",
    "    return output_probas, h_next"
   ]
  },
  {
   "cell_type": "markdown",
   "metadata": {},
   "source": [
    "# RNN: loop\n",
    "\n",
    "Once `rnn_one_step` is ready, let's apply it in a loop over name characters to get predictions.\n",
    "\n",
    "Let's assume that all names are at most length-16 for now, so we can simply iterate over them in a for loop.\n"
   ]
  },
  {
   "cell_type": "code",
   "execution_count": 17,
   "metadata": {
    "ExecuteTime": {
     "end_time": "2018-08-13T20:26:44.342948Z",
     "start_time": "2018-08-13T20:26:44.056136Z"
    },
    "collapsed": true
   },
   "outputs": [],
   "source": [
    "input_sequence = tf.placeholder(tf.int32, (None, MAX_LENGTH))  # batch of token ids\n",
    "batch_size = tf.shape(input_sequence)[0]\n",
    "\n",
    "predicted_probas = []\n",
    "h_prev = tf.zeros([batch_size, rnn_num_units])  # initial hidden state\n",
    "\n",
    "for t in range(MAX_LENGTH):\n",
    "    x_t = input_sequence[:, t]  # column t\n",
    "    probas_next, h_next = rnn_one_step(x_t, h_prev)\n",
    "    \n",
    "    h_prev = h_next\n",
    "    predicted_probas.append(probas_next)\n",
    "    \n",
    "# combine predicted_probas into [batch, time, n_tokens] tensor\n",
    "predicted_probas = tf.transpose(tf.stack(predicted_probas), [1, 0, 2])\n",
    "\n",
    "# next to last token prediction is not needed\n",
    "predicted_probas = predicted_probas[:, :-1, :]"
   ]
  },
  {
   "cell_type": "markdown",
   "metadata": {},
   "source": [
    "# RNN: loss and gradients\n",
    "\n",
    "Let's gather a matrix of predictions for $P(x_{next}|h)$ and the corresponding correct answers.\n",
    "\n",
    "We will flatten our matrices to shape [None, n_tokens] to make it easier.\n",
    "\n",
    "Our network can then be trained by minimizing crossentropy between predicted probabilities and those answers."
   ]
  },
  {
   "cell_type": "code",
   "execution_count": 18,
   "metadata": {
    "ExecuteTime": {
     "end_time": "2018-08-13T20:26:44.354310Z",
     "start_time": "2018-08-13T20:26:44.344648Z"
    },
    "collapsed": true
   },
   "outputs": [],
   "source": [
    "# flatten predictions to [batch*time, n_tokens]\n",
    "predictions_matrix = tf.reshape(predicted_probas, [-1, n_tokens])\n",
    "\n",
    "# flatten answers (next tokens) and one-hot encode them\n",
    "answers_matrix = tf.one_hot(tf.reshape(input_sequence[:, 1:], [-1]), n_tokens)"
   ]
  },
  {
   "cell_type": "markdown",
   "metadata": {},
   "source": [
    "Usually it's a good idea to ignore gradients of loss for padding token predictions.\n",
    "\n",
    "Because we don't care about further prediction after the pad_token is predicted for the first time, so it doesn't make sense to punish our network after the pad_token is predicted.\n",
    "\n",
    "For simplicity you can ignore this comment, it's up to you."
   ]
  },
  {
   "cell_type": "code",
   "execution_count": 19,
   "metadata": {
    "ExecuteTime": {
     "end_time": "2018-08-13T20:26:45.076642Z",
     "start_time": "2018-08-13T20:26:44.355594Z"
    },
    "collapsed": true
   },
   "outputs": [],
   "source": [
    "# Define the loss as categorical cross-entropy (e.g. from keras.losses).\n",
    "# Mind that predictions are probabilities and NOT logits!\n",
    "# Remember to apply tf.reduce_mean to get a scalar loss!\n",
    "loss = -tf.reduce_mean(answers_matrix * tf.log(predictions_matrix)) ### YOUR CODE HERE\n",
    "\n",
    "optimize = tf.train.AdamOptimizer().minimize(loss)"
   ]
  },
  {
   "cell_type": "markdown",
   "metadata": {},
   "source": [
    "# RNN: training"
   ]
  },
  {
   "cell_type": "code",
   "execution_count": 20,
   "metadata": {
    "ExecuteTime": {
     "end_time": "2018-08-13T20:26:55.322187Z",
     "start_time": "2018-08-13T20:26:45.078296Z"
    }
   },
   "outputs": [
    {
     "data": {
      "image/png": "[encoded data removed]",
      "text/plain": [
       "<matplotlib.figure.Figure at 0x7f780c09a0f0>"
      ]
     },
     "metadata": {},
     "output_type": "display_data"
    }
   ],
   "source": [
    "from IPython.display import clear_output\n",
    "from random import sample\n",
    "\n",
    "s.run(tf.global_variables_initializer())\n",
    "\n",
    "batch_size = 32\n",
    "history = []\n",
    "\n",
    "for i in range(1000):\n",
    "    batch = to_matrix(sample(names, batch_size), max_len=MAX_LENGTH)\n",
    "    loss_i, _ = s.run([loss, optimize], {input_sequence: batch})\n",
    "    \n",
    "    history.append(loss_i)\n",
    "    \n",
    "    if (i + 1) % 100 == 0:\n",
    "        clear_output(True)\n",
    "        plt.plot(history, label='loss')\n",
    "        plt.legend()\n",
    "        plt.show()\n",
    "\n",
    "assert np.mean(history[:10]) > np.mean(history[-10:]), \"RNN didn't converge\""
   ]
  },
  {
   "cell_type": "markdown",
   "metadata": {},
   "source": [
    "# RNN: sampling\n",
    "Once we've trained our network a bit, let's get to actually generating stuff. All we need is the `rnn_one_step` function you have written above."
   ]
  },
  {
   "cell_type": "code",
   "execution_count": 21,
   "metadata": {
    "ExecuteTime": {
     "end_time": "2018-08-13T20:26:55.341196Z",
     "start_time": "2018-08-13T20:26:55.323787Z"
    },
    "collapsed": true
   },
   "outputs": [],
   "source": [
    "x_t = tf.placeholder(tf.int32, (1,))\n",
    "h_t = tf.Variable(np.zeros([1, rnn_num_units], np.float32))  # we will update hidden state in this variable\n",
    "\n",
    "# For sampling we need to define `rnn_one_step` tensors only once in our graph.\n",
    "# We reuse all parameters thanks to functional API usage.\n",
    "# Then we can feed appropriate tensor values using feed_dict in a loop.\n",
    "# Note how different it is from training stage, where we had to unroll the whole sequence for backprop.\n",
    "next_probs, next_h = rnn_one_step(x_t, h_t)"
   ]
  },
  {
   "cell_type": "code",
   "execution_count": 22,
   "metadata": {
    "ExecuteTime": {
     "end_time": "2018-08-13T20:26:55.346422Z",
     "start_time": "2018-08-13T20:26:55.342659Z"
    },
    "collapsed": true
   },
   "outputs": [],
   "source": [
    "def generate_sample(seed_phrase=start_token, max_length=MAX_LENGTH):\n",
    "    '''\n",
    "    This function generates text given a `seed_phrase` as a seed.\n",
    "    Remember to include start_token in seed phrase!\n",
    "    Parameter `max_length` is used to set the number of characters in prediction.\n",
    "    '''\n",
    "    x_sequence = [token_to_id[token] for token in seed_phrase]\n",
    "    s.run(tf.assign(h_t, h_t.initial_value))\n",
    "    \n",
    "    # feed the seed phrase, if any\n",
    "    for ix in x_sequence[:-1]:\n",
    "         s.run(tf.assign(h_t, next_h), {x_t: [ix]})\n",
    "    \n",
    "    # start generating\n",
    "    for _ in range(max_length-len(seed_phrase)):\n",
    "        x_probs,_ = s.run([next_probs, tf.assign(h_t, next_h)], {x_t: [x_sequence[-1]]})\n",
    "        x_sequence.append(np.random.choice(n_tokens, p=x_probs[0]))\n",
    "        \n",
    "    return ''.join([tokens[ix] for ix in x_sequence if tokens[ix] != pad_token])"
   ]
  },
  {
   "cell_type": "code",
   "execution_count": 23,
   "metadata": {
    "ExecuteTime": {
     "end_time": "2018-08-13T20:26:58.458115Z",
     "start_time": "2018-08-13T20:26:55.347900Z"
    }
   },
   "outputs": [
    {
     "name": "stdout",
     "output_type": "stream",
     "text": [
      " Tara\n",
      " Aumaa\n",
      " Axgocel\n",
      " Calgotlit\n",
      " Qystil\n",
      " Allie\n",
      " Dendka\n",
      " Rotrene\n",
      " Iria\n",
      " Sudir\n"
     ]
    }
   ],
   "source": [
    "# without prefix\n",
    "for _ in range(10):\n",
    "    print(generate_sample())"
   ]
  },
  {
   "cell_type": "code",
   "execution_count": 24,
   "metadata": {
    "ExecuteTime": {
     "end_time": "2018-08-13T20:27:01.986726Z",
     "start_time": "2018-08-13T20:26:58.459810Z"
    }
   },
   "outputs": [
    {
     "name": "stdout",
     "output_type": "stream",
     "text": [
      " Trumpy\n",
      " Trumper\n",
      " Trumpha\n",
      " Trumphenin\n",
      " Trumphol\n",
      " Trumpi\n",
      " Trumpa\n",
      " Trumpal\n",
      " Trumpiw\n",
      " Trumpa\n"
     ]
    }
   ],
   "source": [
    "# with prefix conditioning\n",
    "for _ in range(10):\n",
    "    print(generate_sample(' Trump'))"
   ]
  },
  {
   "cell_type": "markdown",
   "metadata": {},
   "source": [
    "# Submit to Coursera"
   ]
  },
  {
   "cell_type": "code",
   "execution_count": 31,
   "metadata": {
    "ExecuteTime": {
     "end_time": "2018-08-13T20:40:02.004926Z",
     "start_time": "2018-08-13T20:40:02.000821Z"
    },
    "collapsed": true
   },
   "outputs": [],
   "source": [
    "# token expires every 30 min\n",
    "COURSERA_TOKEN = \"DsXB1n6qBZC85Llf\"\n",
    "COURSERA_EMAIL = \"shakir.ahmed@student.sust.edu\""
   ]
  },
  {
   "cell_type": "code",
   "execution_count": 27,
   "metadata": {},
   "outputs": [
    {
     "data": {
      "application/vnd.jupyter.widget-view+json": {
       "model_id": "b380aa4299a442ecb921984e5bc48841",
       "version_major": 2,
       "version_minor": 0
      },
      "text/plain": [
       "A Jupyter Widget"
      ]
     },
     "metadata": {},
     "output_type": "display_data"
    },
    {
     "name": "stdout",
     "output_type": "stream",
     "text": [
      "\n"
     ]
    }
   ],
   "source": [
    "samples = [generate_sample(' Al') for i in tqdm_utils.tqdm_notebook_failsafe(range(25))]"
   ]
  },
  {
   "cell_type": "code",
   "execution_count": 29,
   "metadata": {},
   "outputs": [
    {
     "name": "stdout",
     "output_type": "stream",
     "text": [
      "[0.071671955, 0.071289442, 0.070901774, 0.070486449, 0.069886073, 0.0691377, 0.068338111, 0.066963278, 0.065129817, 0.062803388, 0.060622096, 0.057264868, 0.054320563, 0.051224038, 0.048285864, 0.046193477, 0.042683873, 0.041323662, 0.03903579, 0.036921836, 0.033653755, 0.034667742, 0.034177762, 0.034701683, 0.03254547, 0.03235548, 0.032245561, 0.033347446, 0.028763991, 0.031285718, 0.030660963, 0.033349603, 0.029305849, 0.032379329, 0.032555226, 0.030557998, 0.029347375, 0.031853311, 0.032218263, 0.032173637, 0.029886896, 0.033201493, 0.031493407, 0.029605489, 0.030826204, 0.030370716, 0.028896146, 0.029482469, 0.030736029, 0.029118866, 0.029217614, 0.031748019, 0.029021094, 0.030444559, 0.029352965, 0.031296074, 0.030912848, 0.030203447, 0.027930941, 0.028251907, 0.02856913, 0.030267995, 0.030438954, 0.030125694, 0.028337087, 0.028341971, 0.029598994, 0.029074091, 0.027883148, 0.027100196, 0.03068378, 0.028734997, 0.026851803, 0.028469944, 0.029057542, 0.028654365, 0.029078202, 0.027875001, 0.028910255, 0.028467288, 0.030837096, 0.029350486, 0.029786542, 0.029195312, 0.026931059, 0.02877483, 0.029906912, 0.028608909, 0.03163201, 0.028042119, 0.027475281, 0.027490633, 0.028204141, 0.027984684, 0.027000289, 0.027979119, 0.027613599, 0.025969837, 0.028167579, 0.028183803, 0.025676982, 0.026892681, 0.028417513, 0.027276665, 0.027180215, 0.028624833, 0.028386693, 0.028066538, 0.025063682, 0.026844887, 0.027137706, 0.027691852, 0.027504662, 0.027688175, 0.027465234, 0.026731681, 0.028359974, 0.026378674, 0.027119972, 0.025934555, 0.026803048, 0.026948649, 0.027902223, 0.027290476, 0.027132608, 0.026167959, 0.026884697, 0.024718784, 0.026522618, 0.027155479, 0.025917461, 0.026757745, 0.025346033, 0.026207428, 0.025529467, 0.026297206, 0.026129978, 0.024335913, 0.027146336, 0.025405109, 0.027108932, 0.024577066, 0.025418451, 0.02444637, 0.027031159, 0.023721045, 0.024620334, 0.024765469, 0.024109572, 0.026806269, 0.025094124, 0.025683835, 0.028230781, 0.025409404, 0.02693503, 0.024742613, 0.024768433, 0.026031194, 0.024852846, 0.025967913, 0.026918879, 0.023617059, 0.02765749, 0.024674267, 0.026633615, 0.02708316, 0.024975818, 0.02505081, 0.026490716, 0.026783761, 0.024346607, 0.023647744, 0.023275342, 0.024186375, 0.022912312, 0.023222579, 0.022228742, 0.025708554, 0.024422055, 0.025756264, 0.023686469, 0.024632152, 0.024701461, 0.025576727, 0.023563176, 0.024266465, 0.025012635, 0.024085559, 0.025017092, 0.024619814, 0.025178278, 0.024403436, 0.025771545, 0.025202669, 0.02366329, 0.023318874, 0.025474114, 0.024312701, 0.023756487, 0.022657666, 0.023575718, 0.024023464, 0.02391337, 0.025215989, 0.022558903, 0.023976516, 0.024081014, 0.024609901, 0.025292061, 0.024638146, 0.023999466, 0.025570301, 0.026536424, 0.024392033, 0.023731947, 0.023194972, 0.02509252, 0.025964063, 0.022917993, 0.02221318, 0.026770502, 0.024466963, 0.025909405, 0.023045056, 0.025882548, 0.0239654, 0.023677381, 0.024604801, 0.02426563, 0.023315175, 0.02330672, 0.021055127, 0.023790881, 0.024681455, 0.02495038, 0.024558226, 0.023563294, 0.026025768, 0.025334215, 0.024479628, 0.022412332, 0.023958497, 0.023668816, 0.023596562, 0.023371642, 0.024577545, 0.023963641, 0.025677394, 0.024392385, 0.022219235, 0.024402639, 0.022756487, 0.024215903, 0.022762567, 0.024160698, 0.021688191, 0.021947889, 0.024171321, 0.022411967, 0.022983737, 0.022879226, 0.021971505, 0.023639707, 0.0231326, 0.02138282, 0.022923864, 0.023992889, 0.022342157, 0.022309041, 0.025224842, 0.024011374, 0.022996064, 0.02330495, 0.022438558, 0.023985559, 0.026040064, 0.022609951, 0.022330564, 0.022761984, 0.023514757, 0.022727299, 0.023414962, 0.02119123, 0.023580642, 0.023518857, 0.0227514, 0.025105521, 0.021910716, 0.021483824, 0.022240089, 0.02320574, 0.022362314, 0.022137955, 0.02125562, 0.023312869, 0.021149095, 0.021649623, 0.020413633, 0.023085849, 0.020548638, 0.022181831, 0.022832764, 0.024126586, 0.024072679, 0.02327667, 0.024640381, 0.02036087, 0.021308903, 0.022570234, 0.020351721, 0.022982642, 0.024810534, 0.021611555, 0.021703934, 0.024270967, 0.021417536, 0.022245312, 0.022258725, 0.020513112, 0.022370586, 0.020199081, 0.021602381, 0.022856636, 0.022765907, 0.021863872, 0.023240248, 0.021266893, 0.021161743, 0.023729822, 0.020198531, 0.021820087, 0.021241156, 0.022674806, 0.021331055, 0.021930069, 0.022724479, 0.021238092, 0.021279812, 0.023464331, 0.022665897, 0.022738924, 0.020302139, 0.021232167, 0.02124487, 0.02146036, 0.02067714, 0.021925785, 0.021054603, 0.019423353, 0.023185043, 0.021479046, 0.019923691, 0.022396944, 0.023157461, 0.020682845, 0.021271434, 0.022039052, 0.021463826, 0.021747412, 0.022538681, 0.022102622, 0.023046399, 0.020245995, 0.021049531, 0.020528266, 0.023463054, 0.021593291, 0.020803994, 0.020345343, 0.021191567, 0.021230808, 0.021186203, 0.021420179, 0.021695487, 0.020518053, 0.020591868, 0.019751273, 0.020073431, 0.02101809, 0.02260598, 0.023057366, 0.020884922, 0.020481264, 0.022348572, 0.022780178, 0.022428554, 0.021782225, 0.022278663, 0.021632817, 0.022563362, 0.020936657, 0.021150861, 0.023345048, 0.022188662, 0.020647943, 0.021953149, 0.020970728, 0.021074468, 0.021811243, 0.021260228, 0.020413123, 0.020323485, 0.021324359, 0.021627285, 0.018904841, 0.022601034, 0.020780344, 0.021716494, 0.021741122, 0.020966703, 0.02247992, 0.020512097, 0.022270193, 0.023010729, 0.021721018, 0.020507181, 0.022185499, 0.020785328, 0.021285864, 0.022427354, 0.021137051, 0.020689704, 0.020128895, 0.022126516, 0.021779815, 0.019400302, 0.020175362, 0.020527165, 0.020649124, 0.021563381, 0.021722427, 0.019985875, 0.020934129, 0.022160398, 0.023022231, 0.023357743, 0.019561041, 0.022032434, 0.020620463, 0.021044578, 0.020541387, 0.022326546, 0.020962425, 0.02150093, 0.023126403, 0.019361122, 0.020950483, 0.022295907, 0.020033991, 0.020393362, 0.021533886, 0.020776927, 0.022477666, 0.020602526, 0.02045143, 0.021158062, 0.020401428, 0.021222495, 0.019571422, 0.021286437, 0.018748624, 0.019996289, 0.019945452, 0.019741576, 0.021025907, 0.021180384, 0.021067027, 0.020958265, 0.021738969, 0.022651967, 0.021225346, 0.019741911, 0.022236537, 0.021094868, 0.021226065, 0.022412723, 0.019620886, 0.020669334, 0.022314413, 0.021302007, 0.020969795, 0.020659, 0.021446563, 0.021871589, 0.020949785, 0.022811113, 0.02099308, 0.020700008, 0.021735523, 0.020856082, 0.02045482, 0.021949818, 0.020143831, 0.0203803, 0.020749763, 0.020458799, 0.020817343, 0.019299818, 0.020018123, 0.019689998, 0.0208205, 0.018666632, 0.019874196, 0.02014179, 0.020917393, 0.021080475, 0.02015717, 0.021776274, 0.020259285, 0.021335516, 0.022486478, 0.020763708, 0.020552287, 0.02071883, 0.019377328, 0.019930385, 0.020885427, 0.02075981, 0.0194645, 0.020000903, 0.022031181, 0.021115158, 0.022612454, 0.019100374, 0.019736631, 0.01963474, 0.019576522, 0.018749194, 0.02017211, 0.021360613, 0.019497758, 0.021729773, 0.019605877, 0.022195367, 0.019132562, 0.02021908, 0.021997819, 0.022487603, 0.021162864, 0.021047499, 0.021482091, 0.020713322, 0.019947261, 0.021754047, 0.01940868, 0.019145122, 0.019236738, 0.019441674, 0.019270262, 0.022253459, 0.021446947, 0.022541838, 0.019176731, 0.020573743, 0.023037951, 0.019911738, 0.020526916, 0.021212395, 0.018289493, 0.019065781, 0.019216143, 0.019837057, 0.018704826, 0.020217722, 0.021202723, 0.019430345, 0.020649223, 0.020038731, 0.022383077, 0.020083873, 0.020140475, 0.019617962, 0.019251561, 0.021120535, 0.01963756, 0.021242663, 0.019610511, 0.018703092, 0.020164566, 0.021240866, 0.020901626, 0.019131342, 0.019163964, 0.019852305, 0.023030199, 0.021489982, 0.020643797, 0.020951375, 0.019892393, 0.022248954, 0.020774523, 0.021210892, 0.020485185, 0.021201115, 0.021318059, 0.021984627, 0.02057652, 0.018838808, 0.021534503, 0.021013401, 0.020863846, 0.020102166, 0.020755257, 0.022163497, 0.020970762, 0.021868378, 0.020466171, 0.021098424, 0.021166017, 0.019751986, 0.020135146, 0.019698385, 0.020262204, 0.020399785, 0.020029137, 0.02084448, 0.021097755, 0.019807806, 0.019328998, 0.020177642, 0.021555234, 0.021513836, 0.020051442, 0.020905398, 0.020415485, 0.020220386, 0.020631686, 0.02051812, 0.0227456, 0.021571554, 0.021164805, 0.019617353, 0.02133468, 0.021189766, 0.01948997, 0.019957243, 0.019453056, 0.018612729, 0.019521724, 0.021040453, 0.020077426, 0.019985313, 0.020568451, 0.019907353, 0.019977206, 0.018371025, 0.020399671, 0.019339355, 0.019757897, 0.020051556, 0.020522881, 0.019592671, 0.020287169, 0.01964936, 0.01875669, 0.019630451, 0.017832017, 0.019535365, 0.021453397, 0.01992804, 0.020785278, 0.019991979, 0.019004643, 0.021756576, 0.020155506, 0.021759553, 0.018892298, 0.020639015, 0.020155562, 0.020830322, 0.021680543, 0.018093951, 0.021713851, 0.020625334, 0.020407166, 0.019790772, 0.0208547, 0.020566681, 0.021743171, 0.02135019, 0.018408651, 0.02034493, 0.018739346, 0.020414075, 0.021295112, 0.02073209, 0.020645434, 0.020013096, 0.019345909, 0.019620823, 0.021142896, 0.022240235, 0.018487385, 0.022198187, 0.019927343, 0.018948907, 0.019033303, 0.019390116, 0.020946499, 0.020719007, 0.022535188, 0.020140316, 0.020451684, 0.0205031, 0.018645111, 0.020310789, 0.018534532, 0.020278955, 0.018979644, 0.019574314, 0.019548982, 0.019555535, 0.020186521, 0.020021649, 0.021130186, 0.020128123, 0.01941943, 0.020313881, 0.020633161, 0.022070762, 0.020180957, 0.019526657, 0.020594418, 0.018739216, 0.020808037, 0.02068444, 0.019892178, 0.021017352, 0.018699426, 0.020247124, 0.01957576, 0.019888761, 0.019952709, 0.019715691, 0.02037948, 0.018909987, 0.020255879, 0.019692708, 0.020895967, 0.01876224, 0.020928508, 0.020210844, 0.021597849, 0.019724419, 0.020493612, 0.019651949, 0.020335153, 0.019073, 0.018631926, 0.019045558, 0.020289294, 0.019132782, 0.020521855, 0.018848747, 0.021235062, 0.019382613, 0.019554384, 0.019969098, 0.019763401, 0.019613061, 0.018972771, 0.020535359, 0.021015041, 0.020287797, 0.018844768, 0.02149114, 0.019812401, 0.020870367, 0.018824155, 0.018627023, 0.020527173, 0.018385876, 0.020184521, 0.01785225, 0.018155236, 0.018139815, 0.01872335, 0.020900635, 0.020046338, 0.019535065, 0.020817151, 0.020614751, 0.020414257, 0.019885175, 0.018610973, 0.020296887, 0.018968791, 0.019793078, 0.019867962, 0.022075217, 0.018722923, 0.019401278, 0.019645683, 0.01998033, 0.019071124, 0.02125885, 0.019766411, 0.020033201, 0.020100523, 0.021168064, 0.02068069, 0.019980818, 0.019730341, 0.021207187, 0.02059778, 0.019993151, 0.021704711, 0.020338636, 0.018993344, 0.019552307, 0.02001353, 0.020285416, 0.019089971, 0.022662595, 0.019676633, 0.021305084, 0.019783465, 0.019795571, 0.019769628, 0.020703724, 0.019164417, 0.018858394, 0.02006245, 0.020190505, 0.01813449, 0.019767635, 0.021744719, 0.019562453, 0.020199817, 0.021006614, 0.020345086, 0.018484887, 0.019899445, 0.020916626, 0.019967752, 0.02003286, 0.019518621, 0.020503012, 0.019840676, 0.020559188, 0.018666321, 0.019703075, 0.020299483, 0.020536473, 0.020439459, 0.019562554, 0.019025881, 0.018674605, 0.019554345, 0.01967239, 0.019532258, 0.020079417, 0.018790642, 0.020346973, 0.020730136, 0.021029418, 0.019919736, 0.019418893, 0.020066492, 0.021488436, 0.019618722, 0.019767126, 0.018399375, 0.020434875, 0.018645216, 0.019965315, 0.01928762, 0.01935146, 0.019880541, 0.020252872, 0.01896093, 0.019071454, 0.018982898, 0.022513008, 0.018469604, 0.021054618, 0.019991599, 0.02131238, 0.020587808, 0.02079238, 0.019722644, 0.020501418, 0.019139757, 0.020824878, 0.020373082, 0.020751847, 0.020851053, 0.019885013, 0.019761045, 0.019698316, 0.020751934, 0.020846615, 0.020096643, 0.021807671, 0.020622149, 0.020839119, 0.020713413, 0.020607144, 0.019085644, 0.020650428, 0.02040863, 0.021028418, 0.019773599, 0.019776808, 0.019798627, 0.019933868, 0.02237523, 0.01844611, 0.019227751, 0.018605469, 0.021208415, 0.020738807, 0.019316157, 0.018510429, 0.018171946, 0.01992066, 0.021025775, 0.019312227, 0.020608149, 0.019161463, 0.019865541, 0.020341784, 0.018635949, 0.020086339, 0.02030191, 0.019644553, 0.018274391, 0.021056991, 0.02075975, 0.022778315, 0.020145413, 0.020457078, 0.02110156, 0.018814407, 0.020086402, 0.02037962, 0.019139331, 0.021156475, 0.021230752, 0.019328985, 0.020602249, 0.019267837, 0.019765327, 0.019591449, 0.018826066, 0.01994309, 0.021257743, 0.019838024, 0.021353371, 0.019460587, 0.018338475, 0.018729534, 0.018839361, 0.019119844, 0.019823482, 0.019896483, 0.019534715, 0.021308118, 0.018495869, 0.019713089, 0.021154044, 0.021504804, 0.019694472, 0.020740125, 0.018398901, 0.020648846, 0.019509941, 0.019350911, 0.018694503, 0.020322505, 0.020470841, 0.020057056, 0.021312322, 0.019873923, 0.020217456, 0.019260906, 0.018828446, 0.019246647, 0.020320117, 0.018867034, 0.017731238, 0.017851654, 0.020021193, 0.017940048, 0.019731013, 0.020348577, 0.020137884, 0.019400071, 0.019027535, 0.020231824, 0.02126725, 0.019162416, 0.020646781, 0.019267432, 0.019832021, 0.02056447, 0.019262435, 0.020170739, 0.0221112, 0.020296438]\n"
     ]
    }
   ],
   "source": [
    "print(history)"
   ]
  },
  {
   "cell_type": "code",
   "execution_count": 32,
   "metadata": {
    "ExecuteTime": {
     "end_time": "2018-08-13T20:40:18.923357Z",
     "start_time": "2018-08-13T20:40:03.549343Z"
    }
   },
   "outputs": [
    {
     "data": {
      "application/vnd.jupyter.widget-view+json": {
       "model_id": "acb000cb88644ae3832f729e90c8abbf",
       "version_major": 2,
       "version_minor": 0
      },
      "text/plain": [
       "A Jupyter Widget"
      ]
     },
     "metadata": {},
     "output_type": "display_data"
    },
    {
     "name": "stdout",
     "output_type": "stream",
     "text": [
      "\n",
      "Submitted to Coursera platform. See results on assignment page!\n"
     ]
    }
   ],
   "source": [
    "from submit import submit_char_rnn\n",
    "samples = [generate_sample(' Al') for i in tqdm_utils.tqdm_notebook_failsafe(range(25))]\n",
    "submission = (history, samples)\n",
    "submit_char_rnn(submission, COURSERA_EMAIL, COURSERA_TOKEN)"
   ]
  },
  {
   "cell_type": "markdown",
   "metadata": {},
   "source": [
    "# Try it out!\n",
    "\n",
    "__Disclaimer:__ This part of assignment is entirely optional. You won't receive bonus points for it. However, it's a fun thing to do. Please share your results on course forums.\n",
    "\n",
    "You've just implemented a recurrent language model that can be tasked with generating any kind of sequence, so there's plenty of data you can try it on:\n",
    "\n",
    "* Novels/poems/songs of your favorite author\n",
    "* News titles/clickbait titles\n",
    "* Source code of Linux or Tensorflow\n",
    "* Molecules in [smiles](https://en.wikipedia.org/wiki/Simplified_molecular-input_line-entry_system) format\n",
    "* Melody in notes/chords format\n",
    "* IKEA catalog titles\n",
    "* Pokemon names\n",
    "* Cards from Magic, the Gathering / Hearthstone\n",
    "\n",
    "If you're willing to give it a try, here's what you wanna look at:\n",
    "* Current data format is a sequence of lines, so a novel can be formatted as a list of sentences. Alternatively, you can change data preprocessing altogether.\n",
    "* While some datasets are readily available, others can only be scraped from the web. Try `Selenium` or `Scrapy` for that.\n",
    "* Make sure MAX_LENGTH is adjusted for longer datasets. There's also a bonus section about dynamic RNNs at the bottom.\n",
    "* More complex tasks require larger RNN architecture, try more neurons or several layers. It would also require more training iterations.\n",
    "* Long-term dependencies in music, novels or molecules are better handled with LSTM or GRU\n",
    "\n",
    "__Good hunting!__"
   ]
  },
  {
   "cell_type": "markdown",
   "metadata": {
    "collapsed": true
   },
   "source": [
    "# Bonus level: dynamic RNNs\n",
    "\n",
    "Apart from Keras, there's also a friendly TensorFlow API for recurrent neural nets. It's based around the symbolic loop function (aka [tf.scan](https://www.tensorflow.org/api_docs/python/tf/scan)).\n",
    "\n",
    "RNN loop that we implemented for training can be replaced with single TensorFlow instruction: [tf.nn.dynamic_rnn](https://www.tensorflow.org/api_docs/python/tf/nn/dynamic_rnn).\n",
    "This interface allows for dynamic sequence length and comes with some pre-implemented architectures.\n",
    "\n",
    "Take a look at [tf.nn.rnn_cell.BasicRNNCell](https://www.tensorflow.org/api_docs/python/tf/contrib/rnn/BasicRNNCell)."
   ]
  },
  {
   "cell_type": "code",
   "execution_count": 33,
   "metadata": {
    "ExecuteTime": {
     "end_time": "2018-08-13T20:27:12.975354Z",
     "start_time": "2018-08-13T20:27:12.737529Z"
    }
   },
   "outputs": [
    {
     "name": "stdout",
     "output_type": "stream",
     "text": [
      "LSTM outputs for each step [batch,time,n_tokens]:\n",
      "(10, 50, 56)\n"
     ]
    }
   ],
   "source": [
    "class CustomRNN(tf.nn.rnn_cell.BasicRNNCell):\n",
    "    def call(self, input, state):\n",
    "        # from docs:\n",
    "        # Returns:\n",
    "        # Output: A 2-D tensor with shape [batch_size, self.output_size].\n",
    "        # New state: Either a single 2-D tensor, or a tuple of tensors matching the arity and shapes of state.\n",
    "        return rnn_one_step(input[:, 0], state)\n",
    "    \n",
    "    @property\n",
    "    def output_size(self):\n",
    "        return n_tokens\n",
    "    \n",
    "cell = CustomRNN(rnn_num_units)\n",
    "\n",
    "input_sequence = tf.placeholder(tf.int32, (None, None))\n",
    "    \n",
    "predicted_probas, last_state = tf.nn.dynamic_rnn(cell, input_sequence[:, :, None], dtype=tf.float32)\n",
    "\n",
    "print('LSTM outputs for each step [batch,time,n_tokens]:')\n",
    "print(predicted_probas.eval({input_sequence: to_matrix(names[:10], max_len=50)}).shape)"
   ]
  },
  {
   "cell_type": "markdown",
   "metadata": {},
   "source": [
    "Note that we never used MAX_LENGTH in the code above: TF will iterate over however many time-steps you gave it.\n",
    "\n",
    "You can also use any pre-implemented RNN cell:"
   ]
  },
  {
   "cell_type": "code",
   "execution_count": 34,
   "metadata": {
    "ExecuteTime": {
     "end_time": "2018-08-13T20:27:12.981697Z",
     "start_time": "2018-08-13T20:27:12.977590Z"
    }
   },
   "outputs": [
    {
     "name": "stdout",
     "output_type": "stream",
     "text": [
      "BasicLSTMCell\tBasicRNNCell\tGRUCell\tLSTMCell\tMultiRNNCell\tRNNCell\tBasicLSTMCell\tBasicRNNCell\tBidirectionalGridLSTMCell\tCoupledInputForgetGateLSTMCell\tFusedRNNCell\tGLSTMCell\tGRUBlockCell\tGRUCell\tGridLSTMCell\tIntersectionRNNCell\tLSTMBlockCell\tLSTMBlockFusedCell\tLSTMCell\tLayerNormBasicLSTMCell\tMultiRNNCell\tNASCell\tPhasedLSTMCell\tRNNCell\tTimeFreqLSTMCell\tUGRNNCell\t"
     ]
    }
   ],
   "source": [
    "for obj in dir(tf.nn.rnn_cell) + dir(tf.contrib.rnn):\n",
    "    if obj.endswith('Cell'):\n",
    "        print(obj, end=\"\\t\")"
   ]
  },
  {
   "cell_type": "code",
   "execution_count": 35,
   "metadata": {
    "ExecuteTime": {
     "end_time": "2018-08-13T20:27:13.168207Z",
     "start_time": "2018-08-13T20:27:12.986884Z"
    }
   },
   "outputs": [
    {
     "name": "stdout",
     "output_type": "stream",
     "text": [
      "LSTM hidden state for each step [batch,time,rnn_num_units]:\n",
      "(10, 50, 64)\n"
     ]
    }
   ],
   "source": [
    "input_sequence = tf.placeholder(tf.int32, (None, None))\n",
    "\n",
    "inputs_embedded = embed_x(input_sequence)\n",
    "\n",
    "# standard cell returns hidden state as output!\n",
    "cell = tf.nn.rnn_cell.LSTMCell(rnn_num_units)\n",
    "\n",
    "state_sequence, last_state = tf.nn.dynamic_rnn(cell, inputs_embedded, dtype=tf.float32)\n",
    "\n",
    "s.run(tf.global_variables_initializer())\n",
    "\n",
    "print('LSTM hidden state for each step [batch,time,rnn_num_units]:')\n",
    "print(state_sequence.eval({input_sequence: to_matrix(names[:10], max_len=50)}).shape)"
   ]
  },
  {
   "cell_type": "code",
   "execution_count": null,
   "metadata": {
    "collapsed": true
   },
   "outputs": [],
   "source": []
  }
 ],
 "metadata": {
  "kernelspec": {
   "display_name": "Python 3",
   "language": "python",
   "name": "python3"
  },
  "language_info": {
   "codemirror_mode": {
    "name": "ipython",
    "version": 3
   },
   "file_extension": ".py",
   "mimetype": "text/x-python",
   "name": "python",
   "nbconvert_exporter": "python",
   "pygments_lexer": "ipython3",
   "version": "3.6.2"
  }
 },
 "nbformat": 4,
 "nbformat_minor": 1
}
