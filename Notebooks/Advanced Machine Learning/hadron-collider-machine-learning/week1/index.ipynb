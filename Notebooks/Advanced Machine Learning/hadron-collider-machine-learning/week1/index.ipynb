{
  "nbformat": 4,
  "nbformat_minor": 0,
  "metadata": {
    "anaconda-cloud": {},
    "kernelspec": {
      "display_name": "Python [conda env:py36]",
      "language": "python",
      "name": "conda-env-py36-py"
    },
    "language_info": {
      "codemirror_mode": {
        "name": "ipython",
        "version": 3
      },
      "file_extension": ".py",
      "mimetype": "text/x-python",
      "name": "python",
      "nbconvert_exporter": "python",
      "pygments_lexer": "ipython3",
      "version": "3.6.1"
    },
    "colab": {
      "name": "index.ipynb",
      "provenance": [],
      "collapsed_sections": []
    },
    "accelerator": "GPU"
  },
  "cells": [
    {
      "cell_type": "markdown",
      "metadata": {
        "id": "pr-1kMg4SkpC",
        "colab_type": "text"
      },
      "source": [
        "# Measuring the Z boson mass\n",
        "\n",
        "\n",
        "Let's look at a sample of $Z$ boson candidates recorded by CMS in 2011 and published at CERN opendata portal. It comes from DoubleMuon dataset with the following selection applied:\n",
        "\n",
        "- Both muons are \"global\" muons\n",
        "- invariant mass sits in range: 60 GeV < $ M_{\\mu\\mu}$ < 120 GeV\n",
        "- |$\\eta$| < 2.1 for both muons\n",
        "- $p_{t}$ > 20 GeV\n",
        "\n",
        "The following columns presented in the CSV file:\n",
        "\n",
        "- `Run`, Event are the run and event numbers, respectively\n",
        "- `pt` is the transverse momentum $p_{t}$ of the muon\n",
        "- `eta` is the pseudorapidity of the muon: $\\eta$\n",
        "- `phi` is the $\\phi$ angle of the muon direction\n",
        "- `Q` is the charge of the muon\n",
        "- `dxy` is the impact parameter in the transverse plane: $d_{xy}$ - how distant is the track from the collision point\n",
        "- `iso` is the track isolation: $I_{track}$ - how many other tracks are there around given track"
      ]
    },
    {
      "cell_type": "code",
      "metadata": {
        "id": "XR75sFxNTNMN",
        "colab_type": "code",
        "colab": {
          "base_uri": "https://localhost:8080/",
          "height": 530
        },
        "outputId": "c69aa22f-cd0c-4378-e770-2a6d2d416560"
      },
      "source": [
        "!pip install scikit-optimize\n",
        "!wget https://raw.githubusercontent.com/ravenwit/Learning-Neural-Network/master/Notebooks/Advanced%20Machine%20Learning/hadron-collider-machine-learning/week1/Zmumu.csv\n",
        "!wget https://raw.githubusercontent.com/ravenwit/Learning-Neural-Network/master/Notebooks/Advanced%20Machine%20Learning/hadron-collider-machine-learning/week1/grading.py"
      ],
      "execution_count": 3,
      "outputs": [
        {
          "output_type": "stream",
          "text": [
            "Requirement already satisfied: scikit-optimize in /usr/local/lib/python3.6/dist-packages (0.7.4)\n",
            "Requirement already satisfied: pyaml>=16.9 in /usr/local/lib/python3.6/dist-packages (from scikit-optimize) (20.4.0)\n",
            "Requirement already satisfied: scipy>=0.18.0 in /usr/local/lib/python3.6/dist-packages (from scikit-optimize) (1.4.1)\n",
            "Requirement already satisfied: scikit-learn>=0.19.1 in /usr/local/lib/python3.6/dist-packages (from scikit-optimize) (0.22.2.post1)\n",
            "Requirement already satisfied: joblib>=0.11 in /usr/local/lib/python3.6/dist-packages (from scikit-optimize) (0.16.0)\n",
            "Requirement already satisfied: numpy>=1.11.0 in /usr/local/lib/python3.6/dist-packages (from scikit-optimize) (1.18.5)\n",
            "Requirement already satisfied: PyYAML in /usr/local/lib/python3.6/dist-packages (from pyaml>=16.9->scikit-optimize) (3.13)\n",
            "--2020-09-03 04:52:43--  https://raw.githubusercontent.com/ravenwit/Learning-Neural-Network/master/Notebooks/Advanced%20Machine%20Learning/hadron-collider-machine-learning/week1/Zmumu.csv\n",
            "Resolving raw.githubusercontent.com (raw.githubusercontent.com)... 151.101.0.133, 151.101.64.133, 151.101.128.133, ...\n",
            "Connecting to raw.githubusercontent.com (raw.githubusercontent.com)|151.101.0.133|:443... connected.\n",
            "HTTP request sent, awaiting response... 200 OK\n",
            "Length: 970550 (948K) [text/plain]\n",
            "Saving to: ‘Zmumu.csv’\n",
            "\n",
            "Zmumu.csv           100%[===================>] 947.80K  --.-KB/s    in 0.1s    \n",
            "\n",
            "2020-09-03 04:52:43 (6.88 MB/s) - ‘Zmumu.csv’ saved [970550/970550]\n",
            "\n",
            "--2020-09-03 04:52:43--  https://raw.githubusercontent.com/ravenwit/Learning-Neural-Network/master/Notebooks/Advanced%20Machine%20Learning/hadron-collider-machine-learning/week1/grading.py\n",
            "Resolving raw.githubusercontent.com (raw.githubusercontent.com)... 151.101.0.133, 151.101.64.133, 151.101.128.133, ...\n",
            "Connecting to raw.githubusercontent.com (raw.githubusercontent.com)|151.101.0.133|:443... connected.\n",
            "HTTP request sent, awaiting response... 200 OK\n",
            "Length: 2144 (2.1K) [text/plain]\n",
            "Saving to: ‘grading.py’\n",
            "\n",
            "grading.py          100%[===================>]   2.09K  --.-KB/s    in 0s      \n",
            "\n",
            "2020-09-03 04:52:43 (30.6 MB/s) - ‘grading.py’ saved [2144/2144]\n",
            "\n"
          ],
          "name": "stdout"
        }
      ]
    },
    {
      "cell_type": "code",
      "metadata": {
        "id": "A2PwjAlSSkpG",
        "colab_type": "code",
        "colab": {}
      },
      "source": [
        "import numpy as np\n",
        "import pandas as pd\n",
        "import matplotlib.pyplot as plt\n",
        "from skopt import gp_minimize\n",
        "%matplotlib inline"
      ],
      "execution_count": 2,
      "outputs": []
    },
    {
      "cell_type": "markdown",
      "metadata": {
        "id": "0SgUKz18SkpR",
        "colab_type": "text"
      },
      "source": [
        "## Read dataset"
      ]
    },
    {
      "cell_type": "code",
      "metadata": {
        "id": "nGAtromkSkpS",
        "colab_type": "code",
        "colab": {
          "base_uri": "https://localhost:8080/",
          "height": 34
        },
        "outputId": "9faa0d1f-dba9-48f6-aa9a-29d5a81ccda9"
      },
      "source": [
        "df = pd.read_csv('./Zmumu.csv')\n",
        "df.shape"
      ],
      "execution_count": 4,
      "outputs": [
        {
          "output_type": "execute_result",
          "data": {
            "text/plain": [
              "(10000, 14)"
            ]
          },
          "metadata": {
            "tags": []
          },
          "execution_count": 4
        }
      ]
    },
    {
      "cell_type": "markdown",
      "metadata": {
        "id": "Cu0H-WM9Skpb",
        "colab_type": "text"
      },
      "source": [
        "Let's calculate the invariant mass $M$ of the two muons using the formula\n",
        "\n",
        "$M = \\sqrt{2p_{t}^{1}p_{t}^{2}(\\cosh(\\eta_{1}-\\eta_{2}) - \\cos(\\phi_{1}-\\phi_{2}))}$"
      ]
    },
    {
      "cell_type": "code",
      "metadata": {
        "id": "MHaHakdvSkpd",
        "colab_type": "code",
        "colab": {
          "base_uri": "https://localhost:8080/",
          "height": 111
        },
        "outputId": "d885b9b6-865a-4e60-ebc2-c30a67564cdd"
      },
      "source": [
        "df['M'] = np.sqrt(2 * df['pt1'] * df['pt2'] * (np.cosh(df['eta1'] - df['eta2']) - np.cos(df['phi1'] - df['phi2'])))\n",
        "df.head(2)"
      ],
      "execution_count": 5,
      "outputs": [
        {
          "output_type": "execute_result",
          "data": {
            "text/html": [
              "<div>\n",
              "<style scoped>\n",
              "    .dataframe tbody tr th:only-of-type {\n",
              "        vertical-align: middle;\n",
              "    }\n",
              "\n",
              "    .dataframe tbody tr th {\n",
              "        vertical-align: top;\n",
              "    }\n",
              "\n",
              "    .dataframe thead th {\n",
              "        text-align: right;\n",
              "    }\n",
              "</style>\n",
              "<table border=\"1\" class=\"dataframe\">\n",
              "  <thead>\n",
              "    <tr style=\"text-align: right;\">\n",
              "      <th></th>\n",
              "      <th>Run</th>\n",
              "      <th>Event</th>\n",
              "      <th>pt1</th>\n",
              "      <th>eta1</th>\n",
              "      <th>phi1</th>\n",
              "      <th>Q1</th>\n",
              "      <th>dxy1</th>\n",
              "      <th>iso1</th>\n",
              "      <th>pt2</th>\n",
              "      <th>eta2</th>\n",
              "      <th>phi2</th>\n",
              "      <th>Q2</th>\n",
              "      <th>dxy2</th>\n",
              "      <th>iso2</th>\n",
              "      <th>M</th>\n",
              "    </tr>\n",
              "  </thead>\n",
              "  <tbody>\n",
              "    <tr>\n",
              "      <th>0</th>\n",
              "      <td>165617</td>\n",
              "      <td>74969122</td>\n",
              "      <td>54.7055</td>\n",
              "      <td>-0.4324</td>\n",
              "      <td>2.5742</td>\n",
              "      <td>1</td>\n",
              "      <td>-0.0745</td>\n",
              "      <td>0.4999</td>\n",
              "      <td>34.2464</td>\n",
              "      <td>-0.9885</td>\n",
              "      <td>-0.4987</td>\n",
              "      <td>-1</td>\n",
              "      <td>0.0712</td>\n",
              "      <td>3.4221</td>\n",
              "      <td>89.885919</td>\n",
              "    </tr>\n",
              "    <tr>\n",
              "      <th>1</th>\n",
              "      <td>165617</td>\n",
              "      <td>75138253</td>\n",
              "      <td>24.5872</td>\n",
              "      <td>-2.0522</td>\n",
              "      <td>2.8666</td>\n",
              "      <td>-1</td>\n",
              "      <td>-0.0554</td>\n",
              "      <td>0.0000</td>\n",
              "      <td>28.5389</td>\n",
              "      <td>0.3852</td>\n",
              "      <td>-1.9912</td>\n",
              "      <td>1</td>\n",
              "      <td>0.0515</td>\n",
              "      <td>0.0000</td>\n",
              "      <td>88.812177</td>\n",
              "    </tr>\n",
              "  </tbody>\n",
              "</table>\n",
              "</div>"
            ],
            "text/plain": [
              "      Run     Event      pt1    eta1  ...  Q2    dxy2    iso2          M\n",
              "0  165617  74969122  54.7055 -0.4324  ...  -1  0.0712  3.4221  89.885919\n",
              "1  165617  75138253  24.5872 -2.0522  ...   1  0.0515  0.0000  88.812177\n",
              "\n",
              "[2 rows x 15 columns]"
            ]
          },
          "metadata": {
            "tags": []
          },
          "execution_count": 5
        }
      ]
    },
    {
      "cell_type": "code",
      "metadata": {
        "id": "_C2eynP2UkkB",
        "colab_type": "code",
        "colab": {
          "base_uri": "https://localhost:8080/",
          "height": 669
        },
        "outputId": "093c3c0a-48ac-46e9-b2e7-460b619b8a71"
      },
      "source": [
        "df.head(20)"
      ],
      "execution_count": 8,
      "outputs": [
        {
          "output_type": "execute_result",
          "data": {
            "text/html": [
              "<div>\n",
              "<style scoped>\n",
              "    .dataframe tbody tr th:only-of-type {\n",
              "        vertical-align: middle;\n",
              "    }\n",
              "\n",
              "    .dataframe tbody tr th {\n",
              "        vertical-align: top;\n",
              "    }\n",
              "\n",
              "    .dataframe thead th {\n",
              "        text-align: right;\n",
              "    }\n",
              "</style>\n",
              "<table border=\"1\" class=\"dataframe\">\n",
              "  <thead>\n",
              "    <tr style=\"text-align: right;\">\n",
              "      <th></th>\n",
              "      <th>Run</th>\n",
              "      <th>Event</th>\n",
              "      <th>pt1</th>\n",
              "      <th>eta1</th>\n",
              "      <th>phi1</th>\n",
              "      <th>Q1</th>\n",
              "      <th>dxy1</th>\n",
              "      <th>iso1</th>\n",
              "      <th>pt2</th>\n",
              "      <th>eta2</th>\n",
              "      <th>phi2</th>\n",
              "      <th>Q2</th>\n",
              "      <th>dxy2</th>\n",
              "      <th>iso2</th>\n",
              "      <th>M</th>\n",
              "    </tr>\n",
              "  </thead>\n",
              "  <tbody>\n",
              "    <tr>\n",
              "      <th>0</th>\n",
              "      <td>165617</td>\n",
              "      <td>74969122</td>\n",
              "      <td>54.7055</td>\n",
              "      <td>-0.4324</td>\n",
              "      <td>2.5742</td>\n",
              "      <td>1</td>\n",
              "      <td>-0.0745</td>\n",
              "      <td>0.4999</td>\n",
              "      <td>34.2464</td>\n",
              "      <td>-0.9885</td>\n",
              "      <td>-0.4987</td>\n",
              "      <td>-1</td>\n",
              "      <td>0.0712</td>\n",
              "      <td>3.4221</td>\n",
              "      <td>89.885919</td>\n",
              "    </tr>\n",
              "    <tr>\n",
              "      <th>1</th>\n",
              "      <td>165617</td>\n",
              "      <td>75138253</td>\n",
              "      <td>24.5872</td>\n",
              "      <td>-2.0522</td>\n",
              "      <td>2.8666</td>\n",
              "      <td>-1</td>\n",
              "      <td>-0.0554</td>\n",
              "      <td>0.0000</td>\n",
              "      <td>28.5389</td>\n",
              "      <td>0.3852</td>\n",
              "      <td>-1.9912</td>\n",
              "      <td>1</td>\n",
              "      <td>0.0515</td>\n",
              "      <td>0.0000</td>\n",
              "      <td>88.812177</td>\n",
              "    </tr>\n",
              "    <tr>\n",
              "      <th>2</th>\n",
              "      <td>165617</td>\n",
              "      <td>75887636</td>\n",
              "      <td>31.7386</td>\n",
              "      <td>-2.2595</td>\n",
              "      <td>-1.3323</td>\n",
              "      <td>-1</td>\n",
              "      <td>0.0879</td>\n",
              "      <td>0.0000</td>\n",
              "      <td>30.2344</td>\n",
              "      <td>-0.4684</td>\n",
              "      <td>1.8833</td>\n",
              "      <td>1</td>\n",
              "      <td>-0.0876</td>\n",
              "      <td>0.0000</td>\n",
              "      <td>88.474683</td>\n",
              "    </tr>\n",
              "    <tr>\n",
              "      <th>3</th>\n",
              "      <td>165617</td>\n",
              "      <td>75779415</td>\n",
              "      <td>39.7394</td>\n",
              "      <td>-0.7123</td>\n",
              "      <td>-0.3123</td>\n",
              "      <td>1</td>\n",
              "      <td>0.0585</td>\n",
              "      <td>0.0000</td>\n",
              "      <td>48.2790</td>\n",
              "      <td>-0.1956</td>\n",
              "      <td>2.9703</td>\n",
              "      <td>-1</td>\n",
              "      <td>-0.0492</td>\n",
              "      <td>0.0000</td>\n",
              "      <td>90.332429</td>\n",
              "    </tr>\n",
              "    <tr>\n",
              "      <th>4</th>\n",
              "      <td>165617</td>\n",
              "      <td>75098104</td>\n",
              "      <td>41.2998</td>\n",
              "      <td>-0.1571</td>\n",
              "      <td>-3.0408</td>\n",
              "      <td>1</td>\n",
              "      <td>-0.0305</td>\n",
              "      <td>1.2280</td>\n",
              "      <td>43.4508</td>\n",
              "      <td>0.5910</td>\n",
              "      <td>-0.0428</td>\n",
              "      <td>-1</td>\n",
              "      <td>0.0442</td>\n",
              "      <td>0.0000</td>\n",
              "      <td>90.515882</td>\n",
              "    </tr>\n",
              "    <tr>\n",
              "      <th>5</th>\n",
              "      <td>165617</td>\n",
              "      <td>77255513</td>\n",
              "      <td>38.9425</td>\n",
              "      <td>0.3522</td>\n",
              "      <td>-2.2649</td>\n",
              "      <td>-1</td>\n",
              "      <td>0.0384</td>\n",
              "      <td>0.0000</td>\n",
              "      <td>39.8616</td>\n",
              "      <td>0.2630</td>\n",
              "      <td>0.9183</td>\n",
              "      <td>1</td>\n",
              "      <td>-0.0407</td>\n",
              "      <td>0.0000</td>\n",
              "      <td>78.860090</td>\n",
              "    </tr>\n",
              "    <tr>\n",
              "      <th>6</th>\n",
              "      <td>165617</td>\n",
              "      <td>76042048</td>\n",
              "      <td>42.8278</td>\n",
              "      <td>-0.9549</td>\n",
              "      <td>-0.2418</td>\n",
              "      <td>-1</td>\n",
              "      <td>0.0513</td>\n",
              "      <td>0.6926</td>\n",
              "      <td>48.9864</td>\n",
              "      <td>-1.2183</td>\n",
              "      <td>2.8399</td>\n",
              "      <td>1</td>\n",
              "      <td>-0.0545</td>\n",
              "      <td>2.2525</td>\n",
              "      <td>92.362308</td>\n",
              "    </tr>\n",
              "    <tr>\n",
              "      <th>7</th>\n",
              "      <td>165617</td>\n",
              "      <td>76661162</td>\n",
              "      <td>17.3593</td>\n",
              "      <td>-1.4809</td>\n",
              "      <td>-1.7046</td>\n",
              "      <td>-1</td>\n",
              "      <td>0.1411</td>\n",
              "      <td>25.9167</td>\n",
              "      <td>19.9872</td>\n",
              "      <td>0.8018</td>\n",
              "      <td>1.8758</td>\n",
              "      <td>1</td>\n",
              "      <td>-0.1022</td>\n",
              "      <td>6.9232</td>\n",
              "      <td>63.756591</td>\n",
              "    </tr>\n",
              "    <tr>\n",
              "      <th>8</th>\n",
              "      <td>165617</td>\n",
              "      <td>77076988</td>\n",
              "      <td>38.1511</td>\n",
              "      <td>-0.8702</td>\n",
              "      <td>1.7165</td>\n",
              "      <td>1</td>\n",
              "      <td>-0.0840</td>\n",
              "      <td>0.0000</td>\n",
              "      <td>37.8959</td>\n",
              "      <td>0.5000</td>\n",
              "      <td>-1.8676</td>\n",
              "      <td>-1</td>\n",
              "      <td>0.0652</td>\n",
              "      <td>0.0000</td>\n",
              "      <td>93.118675</td>\n",
              "    </tr>\n",
              "    <tr>\n",
              "      <th>9</th>\n",
              "      <td>165617</td>\n",
              "      <td>77459740</td>\n",
              "      <td>51.6437</td>\n",
              "      <td>-1.2153</td>\n",
              "      <td>1.8670</td>\n",
              "      <td>-1</td>\n",
              "      <td>-0.0826</td>\n",
              "      <td>0.0000</td>\n",
              "      <td>42.5626</td>\n",
              "      <td>-1.0076</td>\n",
              "      <td>-0.9362</td>\n",
              "      <td>1</td>\n",
              "      <td>0.0810</td>\n",
              "      <td>0.0000</td>\n",
              "      <td>92.942005</td>\n",
              "    </tr>\n",
              "    <tr>\n",
              "      <th>10</th>\n",
              "      <td>165617</td>\n",
              "      <td>76405662</td>\n",
              "      <td>42.4714</td>\n",
              "      <td>-0.6696</td>\n",
              "      <td>-1.6303</td>\n",
              "      <td>-1</td>\n",
              "      <td>0.0728</td>\n",
              "      <td>1.0343</td>\n",
              "      <td>45.5961</td>\n",
              "      <td>-0.9944</td>\n",
              "      <td>1.3510</td>\n",
              "      <td>1</td>\n",
              "      <td>-0.0672</td>\n",
              "      <td>2.5457</td>\n",
              "      <td>88.896385</td>\n",
              "    </tr>\n",
              "    <tr>\n",
              "      <th>11</th>\n",
              "      <td>165617</td>\n",
              "      <td>76583723</td>\n",
              "      <td>34.5104</td>\n",
              "      <td>0.7472</td>\n",
              "      <td>-1.6210</td>\n",
              "      <td>1</td>\n",
              "      <td>0.0749</td>\n",
              "      <td>0.0000</td>\n",
              "      <td>32.8544</td>\n",
              "      <td>-0.6922</td>\n",
              "      <td>1.3517</td>\n",
              "      <td>-1</td>\n",
              "      <td>-0.0685</td>\n",
              "      <td>0.5742</td>\n",
              "      <td>85.362748</td>\n",
              "    </tr>\n",
              "    <tr>\n",
              "      <th>12</th>\n",
              "      <td>165617</td>\n",
              "      <td>76179155</td>\n",
              "      <td>45.0624</td>\n",
              "      <td>-1.9459</td>\n",
              "      <td>-1.0347</td>\n",
              "      <td>1</td>\n",
              "      <td>0.0848</td>\n",
              "      <td>0.4751</td>\n",
              "      <td>42.3556</td>\n",
              "      <td>-1.7178</td>\n",
              "      <td>2.0755</td>\n",
              "      <td>-1</td>\n",
              "      <td>-0.0852</td>\n",
              "      <td>0.0000</td>\n",
              "      <td>87.934274</td>\n",
              "    </tr>\n",
              "    <tr>\n",
              "      <th>13</th>\n",
              "      <td>165617</td>\n",
              "      <td>75954345</td>\n",
              "      <td>33.5015</td>\n",
              "      <td>0.8150</td>\n",
              "      <td>-1.2105</td>\n",
              "      <td>-1</td>\n",
              "      <td>0.0861</td>\n",
              "      <td>0.0000</td>\n",
              "      <td>39.1855</td>\n",
              "      <td>-0.5652</td>\n",
              "      <td>1.9111</td>\n",
              "      <td>1</td>\n",
              "      <td>-0.0874</td>\n",
              "      <td>0.0000</td>\n",
              "      <td>90.412434</td>\n",
              "    </tr>\n",
              "    <tr>\n",
              "      <th>14</th>\n",
              "      <td>165617</td>\n",
              "      <td>78956967</td>\n",
              "      <td>12.3659</td>\n",
              "      <td>-1.9390</td>\n",
              "      <td>-2.5886</td>\n",
              "      <td>1</td>\n",
              "      <td>0.0771</td>\n",
              "      <td>0.0000</td>\n",
              "      <td>22.0062</td>\n",
              "      <td>0.6683</td>\n",
              "      <td>0.8609</td>\n",
              "      <td>-1</td>\n",
              "      <td>-0.0346</td>\n",
              "      <td>20.8031</td>\n",
              "      <td>65.033874</td>\n",
              "    </tr>\n",
              "    <tr>\n",
              "      <th>15</th>\n",
              "      <td>165617</td>\n",
              "      <td>77629816</td>\n",
              "      <td>43.2404</td>\n",
              "      <td>2.0852</td>\n",
              "      <td>-1.3489</td>\n",
              "      <td>-1</td>\n",
              "      <td>0.0808</td>\n",
              "      <td>0.0000</td>\n",
              "      <td>23.7645</td>\n",
              "      <td>0.3515</td>\n",
              "      <td>2.0577</td>\n",
              "      <td>1</td>\n",
              "      <td>-0.0849</td>\n",
              "      <td>0.0000</td>\n",
              "      <td>89.345822</td>\n",
              "    </tr>\n",
              "    <tr>\n",
              "      <th>16</th>\n",
              "      <td>165617</td>\n",
              "      <td>78897689</td>\n",
              "      <td>40.5248</td>\n",
              "      <td>0.6154</td>\n",
              "      <td>-2.4147</td>\n",
              "      <td>1</td>\n",
              "      <td>0.0228</td>\n",
              "      <td>0.0000</td>\n",
              "      <td>55.7110</td>\n",
              "      <td>0.4367</td>\n",
              "      <td>0.1351</td>\n",
              "      <td>-1</td>\n",
              "      <td>0.0245</td>\n",
              "      <td>0.0000</td>\n",
              "      <td>91.296902</td>\n",
              "    </tr>\n",
              "    <tr>\n",
              "      <th>17</th>\n",
              "      <td>165617</td>\n",
              "      <td>78700766</td>\n",
              "      <td>38.9949</td>\n",
              "      <td>-1.2957</td>\n",
              "      <td>-0.5833</td>\n",
              "      <td>-1</td>\n",
              "      <td>0.0711</td>\n",
              "      <td>0.3123</td>\n",
              "      <td>44.4981</td>\n",
              "      <td>-0.0067</td>\n",
              "      <td>-2.6780</td>\n",
              "      <td>1</td>\n",
              "      <td>0.0025</td>\n",
              "      <td>0.0000</td>\n",
              "      <td>92.258060</td>\n",
              "    </tr>\n",
              "    <tr>\n",
              "      <th>18</th>\n",
              "      <td>165617</td>\n",
              "      <td>78348203</td>\n",
              "      <td>26.0628</td>\n",
              "      <td>-1.2041</td>\n",
              "      <td>2.0363</td>\n",
              "      <td>1</td>\n",
              "      <td>-0.0835</td>\n",
              "      <td>0.0000</td>\n",
              "      <td>42.9983</td>\n",
              "      <td>0.5559</td>\n",
              "      <td>-0.5038</td>\n",
              "      <td>-1</td>\n",
              "      <td>0.0705</td>\n",
              "      <td>0.0000</td>\n",
              "      <td>92.490487</td>\n",
              "    </tr>\n",
              "    <tr>\n",
              "      <th>19</th>\n",
              "      <td>165617</td>\n",
              "      <td>78693707</td>\n",
              "      <td>21.3986</td>\n",
              "      <td>-1.6865</td>\n",
              "      <td>0.0905</td>\n",
              "      <td>1</td>\n",
              "      <td>0.0263</td>\n",
              "      <td>4.4573</td>\n",
              "      <td>10.8491</td>\n",
              "      <td>1.2098</td>\n",
              "      <td>3.0488</td>\n",
              "      <td>1</td>\n",
              "      <td>-0.0430</td>\n",
              "      <td>38.1065</td>\n",
              "      <td>68.359353</td>\n",
              "    </tr>\n",
              "  </tbody>\n",
              "</table>\n",
              "</div>"
            ],
            "text/plain": [
              "       Run     Event      pt1    eta1  ...  Q2    dxy2     iso2          M\n",
              "0   165617  74969122  54.7055 -0.4324  ...  -1  0.0712   3.4221  89.885919\n",
              "1   165617  75138253  24.5872 -2.0522  ...   1  0.0515   0.0000  88.812177\n",
              "2   165617  75887636  31.7386 -2.2595  ...   1 -0.0876   0.0000  88.474683\n",
              "3   165617  75779415  39.7394 -0.7123  ...  -1 -0.0492   0.0000  90.332429\n",
              "4   165617  75098104  41.2998 -0.1571  ...  -1  0.0442   0.0000  90.515882\n",
              "5   165617  77255513  38.9425  0.3522  ...   1 -0.0407   0.0000  78.860090\n",
              "6   165617  76042048  42.8278 -0.9549  ...   1 -0.0545   2.2525  92.362308\n",
              "7   165617  76661162  17.3593 -1.4809  ...   1 -0.1022   6.9232  63.756591\n",
              "8   165617  77076988  38.1511 -0.8702  ...  -1  0.0652   0.0000  93.118675\n",
              "9   165617  77459740  51.6437 -1.2153  ...   1  0.0810   0.0000  92.942005\n",
              "10  165617  76405662  42.4714 -0.6696  ...   1 -0.0672   2.5457  88.896385\n",
              "11  165617  76583723  34.5104  0.7472  ...  -1 -0.0685   0.5742  85.362748\n",
              "12  165617  76179155  45.0624 -1.9459  ...  -1 -0.0852   0.0000  87.934274\n",
              "13  165617  75954345  33.5015  0.8150  ...   1 -0.0874   0.0000  90.412434\n",
              "14  165617  78956967  12.3659 -1.9390  ...  -1 -0.0346  20.8031  65.033874\n",
              "15  165617  77629816  43.2404  2.0852  ...   1 -0.0849   0.0000  89.345822\n",
              "16  165617  78897689  40.5248  0.6154  ...  -1  0.0245   0.0000  91.296902\n",
              "17  165617  78700766  38.9949 -1.2957  ...   1  0.0025   0.0000  92.258060\n",
              "18  165617  78348203  26.0628 -1.2041  ...  -1  0.0705   0.0000  92.490487\n",
              "19  165617  78693707  21.3986 -1.6865  ...   1 -0.0430  38.1065  68.359353\n",
              "\n",
              "[20 rows x 15 columns]"
            ]
          },
          "metadata": {
            "tags": []
          },
          "execution_count": 8
        }
      ]
    },
    {
      "cell_type": "code",
      "metadata": {
        "id": "eitY7a0iVUI7",
        "colab_type": "code",
        "colab": {
          "base_uri": "https://localhost:8080/",
          "height": 317
        },
        "outputId": "55b73e3d-b612-4a51-ea67-471227c8236d"
      },
      "source": [
        "df.describe()"
      ],
      "execution_count": 9,
      "outputs": [
        {
          "output_type": "execute_result",
          "data": {
            "text/html": [
              "<div>\n",
              "<style scoped>\n",
              "    .dataframe tbody tr th:only-of-type {\n",
              "        vertical-align: middle;\n",
              "    }\n",
              "\n",
              "    .dataframe tbody tr th {\n",
              "        vertical-align: top;\n",
              "    }\n",
              "\n",
              "    .dataframe thead th {\n",
              "        text-align: right;\n",
              "    }\n",
              "</style>\n",
              "<table border=\"1\" class=\"dataframe\">\n",
              "  <thead>\n",
              "    <tr style=\"text-align: right;\">\n",
              "      <th></th>\n",
              "      <th>Run</th>\n",
              "      <th>Event</th>\n",
              "      <th>pt1</th>\n",
              "      <th>eta1</th>\n",
              "      <th>phi1</th>\n",
              "      <th>Q1</th>\n",
              "      <th>dxy1</th>\n",
              "      <th>iso1</th>\n",
              "      <th>pt2</th>\n",
              "      <th>eta2</th>\n",
              "      <th>phi2</th>\n",
              "      <th>Q2</th>\n",
              "      <th>dxy2</th>\n",
              "      <th>iso2</th>\n",
              "      <th>M</th>\n",
              "    </tr>\n",
              "  </thead>\n",
              "  <tbody>\n",
              "    <tr>\n",
              "      <th>count</th>\n",
              "      <td>10000.00000</td>\n",
              "      <td>1.000000e+04</td>\n",
              "      <td>10000.000000</td>\n",
              "      <td>10000.000000</td>\n",
              "      <td>10000.00000</td>\n",
              "      <td>10000.000000</td>\n",
              "      <td>10000.000000</td>\n",
              "      <td>10000.000000</td>\n",
              "      <td>10000.000000</td>\n",
              "      <td>10000.000000</td>\n",
              "      <td>10000.000000</td>\n",
              "      <td>10000.000000</td>\n",
              "      <td>10000.00000</td>\n",
              "      <td>10000.000000</td>\n",
              "      <td>10000.000000</td>\n",
              "    </tr>\n",
              "    <tr>\n",
              "      <th>mean</th>\n",
              "      <td>168783.06370</td>\n",
              "      <td>4.019532e+08</td>\n",
              "      <td>38.403231</td>\n",
              "      <td>-0.278699</td>\n",
              "      <td>-0.23353</td>\n",
              "      <td>-0.031200</td>\n",
              "      <td>0.006345</td>\n",
              "      <td>1.514267</td>\n",
              "      <td>38.639360</td>\n",
              "      <td>0.079500</td>\n",
              "      <td>0.250883</td>\n",
              "      <td>0.038400</td>\n",
              "      <td>0.01058</td>\n",
              "      <td>1.732420</td>\n",
              "      <td>87.973980</td>\n",
              "    </tr>\n",
              "    <tr>\n",
              "      <th>std</th>\n",
              "      <td>3929.76919</td>\n",
              "      <td>3.492634e+08</td>\n",
              "      <td>14.427817</td>\n",
              "      <td>1.352768</td>\n",
              "      <td>1.80456</td>\n",
              "      <td>0.999563</td>\n",
              "      <td>0.074693</td>\n",
              "      <td>6.353057</td>\n",
              "      <td>15.945227</td>\n",
              "      <td>0.871556</td>\n",
              "      <td>1.787396</td>\n",
              "      <td>0.999312</td>\n",
              "      <td>1.78079</td>\n",
              "      <td>6.812311</td>\n",
              "      <td>8.840568</td>\n",
              "    </tr>\n",
              "    <tr>\n",
              "      <th>min</th>\n",
              "      <td>160957.00000</td>\n",
              "      <td>8.922000e+04</td>\n",
              "      <td>3.463700</td>\n",
              "      <td>-2.437500</td>\n",
              "      <td>-3.14140</td>\n",
              "      <td>-1.000000</td>\n",
              "      <td>-3.588000</td>\n",
              "      <td>0.000000</td>\n",
              "      <td>3.266200</td>\n",
              "      <td>-2.428000</td>\n",
              "      <td>-3.141500</td>\n",
              "      <td>-1.000000</td>\n",
              "      <td>-2.00520</td>\n",
              "      <td>0.000000</td>\n",
              "      <td>60.002249</td>\n",
              "    </tr>\n",
              "    <tr>\n",
              "      <th>25%</th>\n",
              "      <td>166033.00000</td>\n",
              "      <td>1.250350e+08</td>\n",
              "      <td>30.160275</td>\n",
              "      <td>-1.429850</td>\n",
              "      <td>-1.77995</td>\n",
              "      <td>-1.000000</td>\n",
              "      <td>-0.051500</td>\n",
              "      <td>0.000000</td>\n",
              "      <td>30.033800</td>\n",
              "      <td>-0.566525</td>\n",
              "      <td>-1.258575</td>\n",
              "      <td>-1.000000</td>\n",
              "      <td>-0.06740</td>\n",
              "      <td>0.000000</td>\n",
              "      <td>86.940134</td>\n",
              "    </tr>\n",
              "    <tr>\n",
              "      <th>50%</th>\n",
              "      <td>167102.00000</td>\n",
              "      <td>3.206396e+08</td>\n",
              "      <td>38.883850</td>\n",
              "      <td>-0.557000</td>\n",
              "      <td>-0.42945</td>\n",
              "      <td>-1.000000</td>\n",
              "      <td>0.012100</td>\n",
              "      <td>0.000000</td>\n",
              "      <td>38.932350</td>\n",
              "      <td>0.076450</td>\n",
              "      <td>0.406600</td>\n",
              "      <td>1.000000</td>\n",
              "      <td>-0.01315</td>\n",
              "      <td>0.000000</td>\n",
              "      <td>90.285408</td>\n",
              "    </tr>\n",
              "    <tr>\n",
              "      <th>75%</th>\n",
              "      <td>173381.00000</td>\n",
              "      <td>5.666747e+08</td>\n",
              "      <td>45.057750</td>\n",
              "      <td>1.094800</td>\n",
              "      <td>1.30270</td>\n",
              "      <td>1.000000</td>\n",
              "      <td>0.066500</td>\n",
              "      <td>0.478550</td>\n",
              "      <td>45.194675</td>\n",
              "      <td>0.738500</td>\n",
              "      <td>1.803625</td>\n",
              "      <td>1.000000</td>\n",
              "      <td>0.05290</td>\n",
              "      <td>0.527525</td>\n",
              "      <td>92.152627</td>\n",
              "    </tr>\n",
              "    <tr>\n",
              "      <th>max</th>\n",
              "      <td>173692.00000</td>\n",
              "      <td>1.245305e+09</td>\n",
              "      <td>269.080000</td>\n",
              "      <td>2.099700</td>\n",
              "      <td>3.14140</td>\n",
              "      <td>1.000000</td>\n",
              "      <td>2.027700</td>\n",
              "      <td>184.728000</td>\n",
              "      <td>528.434000</td>\n",
              "      <td>2.099200</td>\n",
              "      <td>3.140900</td>\n",
              "      <td>1.000000</td>\n",
              "      <td>177.93100</td>\n",
              "      <td>151.295000</td>\n",
              "      <td>119.952704</td>\n",
              "    </tr>\n",
              "  </tbody>\n",
              "</table>\n",
              "</div>"
            ],
            "text/plain": [
              "                Run         Event  ...          iso2             M\n",
              "count   10000.00000  1.000000e+04  ...  10000.000000  10000.000000\n",
              "mean   168783.06370  4.019532e+08  ...      1.732420     87.973980\n",
              "std      3929.76919  3.492634e+08  ...      6.812311      8.840568\n",
              "min    160957.00000  8.922000e+04  ...      0.000000     60.002249\n",
              "25%    166033.00000  1.250350e+08  ...      0.000000     86.940134\n",
              "50%    167102.00000  3.206396e+08  ...      0.000000     90.285408\n",
              "75%    173381.00000  5.666747e+08  ...      0.527525     92.152627\n",
              "max    173692.00000  1.245305e+09  ...    151.295000    119.952704\n",
              "\n",
              "[8 rows x 15 columns]"
            ]
          },
          "metadata": {
            "tags": []
          },
          "execution_count": 9
        }
      ]
    },
    {
      "cell_type": "markdown",
      "metadata": {
        "id": "kVRQopQZSkpj",
        "colab_type": "text"
      },
      "source": [
        "# Model\n",
        "\n",
        "The distribution of the Z boson mass has the form of a normal distribution, in addition there is a noise. The distribution of the noise has an exponential form. Thus, the resulting model, it is a result of a superposition of two distributions - normal and polinomial"
      ]
    },
    {
      "cell_type": "markdown",
      "metadata": {
        "id": "emx4bJw8Skpk",
        "colab_type": "text"
      },
      "source": [
        "Let's plot the distribution of Z boson mass"
      ]
    },
    {
      "cell_type": "code",
      "metadata": {
        "id": "6ORzu7o7Skpm",
        "colab_type": "code",
        "colab": {}
      },
      "source": [
        "def plot_mass(mass, bins_count=100):\n",
        "    y, x = np.histogram(mass, bins=bins_count, density=False)\n",
        "    err = np.sqrt(y)\n",
        "\n",
        "    fig = plt.figure(figsize=(15,7))\n",
        "    plt.title('Z mass', fontsize=20)\n",
        "    plt.xlabel(\"$m_{\\mu\\mu}$ [GeV]\", fontsize=20)\n",
        "    plt.ylabel(\"Number of events\", fontsize=20)\n",
        "    plt.errorbar(x[:-1], y, yerr=err, fmt='o', color='red', ecolor='grey', capthick=0.5, zorder=1, label=\"data\")\n",
        "    return y, x"
      ],
      "execution_count": 6,
      "outputs": []
    },
    {
      "cell_type": "code",
      "metadata": {
        "id": "hOidAxT2Skpr",
        "colab_type": "code",
        "colab": {
          "base_uri": "https://localhost:8080/",
          "height": 479
        },
        "outputId": "15a0a69d-7842-494b-bd98-51fbaca6feac"
      },
      "source": [
        "plot_mass(df.M);"
      ],
      "execution_count": 7,
      "outputs": [
        {
          "output_type": "display_data",
          "data": {
            "image/png": "[encoded data removed]",
            "text/plain": [
              "<Figure size 1080x504 with 1 Axes>"
            ]
          },
          "metadata": {
            "tags": [],
            "needs_background": "light"
          }
        }
      ]
    },
    {
      "cell_type": "markdown",
      "metadata": {
        "id": "yXmB32-bSkpz",
        "colab_type": "text"
      },
      "source": [
        "## Exercise 1. clean up dataset a bit\n",
        "- demand that charge of muons should be opposite\n",
        "- $I_{track}$ < 3 and $d_{xy}$ < 0.2 cm"
      ]
    },
    {
      "cell_type": "code",
      "metadata": {
        "id": "m8_Ys-CHSkp0",
        "colab_type": "code",
        "colab": {}
      },
      "source": [
        "### YOUR CODE GOES HERE ###\n",
        "df_sign = df[((df.Q1 > 0) & (df.Q2 < 0)) | ((df.Q1 < 0) & (df.Q2 > 0))]\n",
        "df_isolation = df_sign[(df_sign.iso1 < 3) & (df_sign.iso2 < 3) & (df_sign.dxy1.abs() < 0.2) & (df_sign.dxy2.abs() < 0.2)]\n",
        "df = df"
      ],
      "execution_count": 10,
      "outputs": []
    },
    {
      "cell_type": "code",
      "metadata": {
        "id": "LXevuaSvSkp7",
        "colab_type": "code",
        "colab": {
          "base_uri": "https://localhost:8080/",
          "height": 479
        },
        "outputId": "ca14db80-818b-4e5d-e603-b25e0a94de65"
      },
      "source": [
        "plot_mass(df.M);"
      ],
      "execution_count": 11,
      "outputs": [
        {
          "output_type": "display_data",
          "data": {
            "image/png": "[encoded data removed]",
            "text/plain": [
              "<Figure size 1080x504 with 1 Axes>"
            ]
          },
          "metadata": {
            "tags": [],
            "needs_background": "light"
          }
        }
      ]
    },
    {
      "cell_type": "markdown",
      "metadata": {
        "id": "3xM_TixoSkqC",
        "colab_type": "text"
      },
      "source": [
        "### Let's define parametrised model\n",
        "it should represent mixture of 1) Gaussian signal and 2) background that for the simplicity we consider to be flat over mass. So it gives the following set of parameters:\n",
        "\n",
        "- m0 - center of the Gaussian\n",
        "- sigma - standard deviation of the Gaussian\n",
        "- ampl - height of the peak\n",
        "- bck - height of the background \n",
        "\n",
        "finding those parameters is called _fitting_ model into the data. It will be the goal for the rest of the exercise. For simplicity sake we'll stick with old good binned fit."
      ]
    },
    {
      "cell_type": "code",
      "metadata": {
        "id": "yPvzL1HLSkqE",
        "colab_type": "code",
        "colab": {}
      },
      "source": [
        "def model_predict(params, X):\n",
        "    m0, sigma, ampl, bck = params\n",
        "    return bck + ampl / (sigma * np.sqrt(2 * np.pi)) * np.exp((-1) * (X - m0)**2 / (2 * sigma**2))"
      ],
      "execution_count": 12,
      "outputs": []
    },
    {
      "cell_type": "code",
      "metadata": {
        "id": "_SreUTSJSkqI",
        "colab_type": "code",
        "colab": {}
      },
      "source": [
        "def model_loss(params, X, y):\n",
        "#     y, x = np.histogram(mass, bins=bins_count, density=False)\n",
        "#     residuals = model_predict(params, (x[1:] + x[:-1])/2) - y \n",
        "    residuals = y - model_predict(params, X)\n",
        "    return np.sum(residuals**2) / len(residuals)"
      ],
      "execution_count": 13,
      "outputs": []
    },
    {
      "cell_type": "code",
      "metadata": {
        "id": "4G_LZM6tSkqN",
        "colab_type": "code",
        "colab": {}
      },
      "source": [
        "def plot_mass_with_model(params, mass, bins_count=100):\n",
        "    y, X = plot_mass(mass, bins_count=bins_count)\n",
        "    X = (X[1:] + X[:-1]) / 2\n",
        "    error = model_loss(params, X, y)\n",
        "    plt.plot(X, model_predict(params, X), color='blue', linewidth=3.0, zorder=2, label=\"fit, loss=%.2f\" % error)\n",
        "    plt.legend(fontsize='x-large')"
      ],
      "execution_count": 14,
      "outputs": []
    },
    {
      "cell_type": "markdown",
      "metadata": {
        "id": "Ev5uONp5SkqW",
        "colab_type": "text"
      },
      "source": [
        "## Here you can fit model parameters by hand"
      ]
    },
    {
      "cell_type": "code",
      "metadata": {
        "id": "aEjddAnkSkqX",
        "colab_type": "code",
        "colab": {
          "base_uri": "https://localhost:8080/",
          "height": 479
        },
        "outputId": "94c70d3f-b7dc-4ae7-fa36-323a0a782d56"
      },
      "source": [
        "# plot_mass_with_model((75, 5, 2300, 20), df.M)\n",
        "plot_mass_with_model((91, 2.1, 4000, 18), df.M)"
      ],
      "execution_count": 24,
      "outputs": [
        {
          "output_type": "display_data",
          "data": {
            "image/png": "[encoded data removed]",
            "text/plain": [
              "<Figure size 1080x504 with 1 Axes>"
            ]
          },
          "metadata": {
            "tags": [],
            "needs_background": "light"
          }
        }
      ]
    },
    {
      "cell_type": "markdown",
      "metadata": {
        "id": "QdeB15odSkqb",
        "colab_type": "text"
      },
      "source": [
        "## ... but you can do it automatically of course"
      ]
    },
    {
      "cell_type": "markdown",
      "metadata": {
        "id": "MBC8VfsxSkqc",
        "colab_type": "text"
      },
      "source": [
        "Setting up a scikit optimizer"
      ]
    },
    {
      "cell_type": "code",
      "metadata": {
        "id": "vij_dosGSkqd",
        "colab_type": "code",
        "colab": {}
      },
      "source": [
        "from tqdm import tqdm\n",
        "from skopt import Optimizer\n",
        "\n",
        "search_space = [(90.0, 92.0), # m0 range\n",
        "    (1.5, 2.2), # sigma range\n",
        "    (3500, 4500), # amplitude range\n",
        "    (10, 20) # bck range\n",
        "    ]\n",
        "y, X = np.histogram(df.M, bins=120, density=False)\n",
        "X = (X[1:] + X[:-1]) / 2\n",
        "opt = Optimizer(search_space, base_estimator=\"GP\", acq_func=\"EI\", acq_optimizer=\"lbfgs\")"
      ],
      "execution_count": 47,
      "outputs": []
    },
    {
      "cell_type": "markdown",
      "metadata": {
        "id": "V9hajwBiSkqi",
        "colab_type": "text"
      },
      "source": [
        "Running it for a while. You can re-run this cell several times"
      ]
    },
    {
      "cell_type": "code",
      "metadata": {
        "id": "FL2j65VvSkqj",
        "colab_type": "code",
        "colab": {
          "base_uri": "https://localhost:8080/",
          "height": 34
        },
        "outputId": "9d7a88f3-c27b-4ac4-ba4f-5e7dd890ce31"
      },
      "source": [
        "from skopt.utils import create_result\n",
        "for i in tqdm(range(50)):\n",
        "    next_x = opt.ask()\n",
        "    f_val = model_loss(next_x, X, y)\n",
        "    opt.tell(next_x, f_val)\n",
        "    \n",
        "res = create_result(Xi=opt.Xi, yi=opt.yi, space=opt.space,\n",
        "                         rng=opt.rng, models=opt.models)"
      ],
      "execution_count": 50,
      "outputs": [
        {
          "output_type": "stream",
          "text": [
            "100%|██████████| 50/50 [00:25<00:00,  1.99it/s]\n"
          ],
          "name": "stderr"
        }
      ]
    },
    {
      "cell_type": "markdown",
      "metadata": {
        "id": "_cd_UUfaSkqn",
        "colab_type": "text"
      },
      "source": [
        "## A bit of search history"
      ]
    },
    {
      "cell_type": "code",
      "metadata": {
        "id": "T0YDD0R7Skqo",
        "colab_type": "code",
        "colab": {
          "base_uri": "https://localhost:8080/",
          "height": 314
        },
        "outputId": "0d6853b0-603b-451d-c9bf-4bff8cd669d9"
      },
      "source": [
        "import skopt.plots\n",
        "skopt.plots.plot_convergence(res)\n",
        "\n",
        "print (list(zip([\"m0\", \"sigma\", \"ampl\", \"bck\"], res.x)))"
      ],
      "execution_count": 51,
      "outputs": [
        {
          "output_type": "stream",
          "text": [
            "[('m0', 90.74376369667277), ('sigma', 2.174454117567588), ('ampl', 3671), ('bck', 16)]\n"
          ],
          "name": "stdout"
        },
        {
          "output_type": "display_data",
          "data": {
            "image/png": "[encoded data removed]",
            "text/plain": [
              "<Figure size 432x288 with 1 Axes>"
            ]
          },
          "metadata": {
            "tags": [],
            "needs_background": "light"
          }
        }
      ]
    },
    {
      "cell_type": "code",
      "metadata": {
        "id": "5M65_07VSkqv",
        "colab_type": "code",
        "colab": {
          "base_uri": "https://localhost:8080/",
          "height": 913
        },
        "outputId": "45ee3830-5730-4632-a24e-85f83f3005c5"
      },
      "source": [
        "# even more details on the search space\n",
        "skopt.plots.plot_objective(res, dimensions=['m0', 'sigma', 'ampl', 'bck'])\n"
      ],
      "execution_count": 31,
      "outputs": [
        {
          "output_type": "execute_result",
          "data": {
            "text/plain": [
              "array([[<matplotlib.axes._subplots.AxesSubplot object at 0x7f99582b1eb8>,\n",
              "        <matplotlib.axes._subplots.AxesSubplot object at 0x7f9957b89160>,\n",
              "        <matplotlib.axes._subplots.AxesSubplot object at 0x7f9957bd1d68>,\n",
              "        <matplotlib.axes._subplots.AxesSubplot object at 0x7f9957c0df60>],\n",
              "       [<matplotlib.axes._subplots.AxesSubplot object at 0x7f99572e51d0>,\n",
              "        <matplotlib.axes._subplots.AxesSubplot object at 0x7f99571d8400>,\n",
              "        <matplotlib.axes._subplots.AxesSubplot object at 0x7f9957216630>,\n",
              "        <matplotlib.axes._subplots.AxesSubplot object at 0x7f99571d1898>],\n",
              "       [<matplotlib.axes._subplots.AxesSubplot object at 0x7f9957b25b00>,\n",
              "        <matplotlib.axes._subplots.AxesSubplot object at 0x7f995729acc0>,\n",
              "        <matplotlib.axes._subplots.AxesSubplot object at 0x7f99572c8ef0>,\n",
              "        <matplotlib.axes._subplots.AxesSubplot object at 0x7f9957281160>],\n",
              "       [<matplotlib.axes._subplots.AxesSubplot object at 0x7f995716f390>,\n",
              "        <matplotlib.axes._subplots.AxesSubplot object at 0x7f995711e5c0>,\n",
              "        <matplotlib.axes._subplots.AxesSubplot object at 0x7f995714c7f0>,\n",
              "        <matplotlib.axes._subplots.AxesSubplot object at 0x7f99570fea20>]],\n",
              "      dtype=object)"
            ]
          },
          "metadata": {
            "tags": []
          },
          "execution_count": 31
        },
        {
          "output_type": "display_data",
          "data": {
            "image/png": "[encoded data removed]",
            "text/plain": [
              "<Figure size 576x576 with 16 Axes>"
            ]
          },
          "metadata": {
            "tags": [],
            "needs_background": "light"
          }
        }
      ]
    },
    {
      "cell_type": "markdown",
      "metadata": {
        "id": "zcxHVv57Skq5",
        "colab_type": "text"
      },
      "source": [
        "Let's see how well the prediction fits the data"
      ]
    },
    {
      "cell_type": "code",
      "metadata": {
        "id": "yrIwCfDqSkq7",
        "colab_type": "code",
        "colab": {
          "base_uri": "https://localhost:8080/",
          "height": 479
        },
        "outputId": "f8044119-6bab-4604-9469-0bb3121a95aa"
      },
      "source": [
        "plot_mass_with_model(res.x, df.M, bins_count=120)"
      ],
      "execution_count": 52,
      "outputs": [
        {
          "output_type": "display_data",
          "data": {
            "image/png": "[encoded data removed]",
            "text/plain": [
              "<Figure size 1080x504 with 1 Axes>"
            ]
          },
          "metadata": {
            "tags": [],
            "needs_background": "light"
          }
        }
      ]
    },
    {
      "cell_type": "code",
      "metadata": {
        "id": "mSuiH1SXSkrG",
        "colab_type": "code",
        "colab": {}
      },
      "source": [
        "# token expires every 30 min\n",
        "COURSERA_TOKEN = \"TSrCmG1GjSSjDFdX\"### YOUR TOKEN HERE\n",
        "COURSERA_EMAIL = \"shakir.ahmed@student.sust.edu\"### YOUR EMAIL HERE"
      ],
      "execution_count": 33,
      "outputs": []
    },
    {
      "cell_type": "markdown",
      "metadata": {
        "id": "hrvVcrs0SkrL",
        "colab_type": "text"
      },
      "source": [
        "## Grader part, do not change, please"
      ]
    },
    {
      "cell_type": "code",
      "metadata": {
        "id": "Iy4aMI_mSkrM",
        "colab_type": "code",
        "colab": {}
      },
      "source": [
        "import grading\n",
        "grader = grading.Grader(assignment_key=\"SeMsm2JfEeiyvBKA0wfIgA\", \n",
        "                      all_parts=[\"VI3xu\", \"VuE8x\", \"KzmMV\", \"TwZBF\"])\n"
      ],
      "execution_count": 53,
      "outputs": []
    },
    {
      "cell_type": "code",
      "metadata": {
        "id": "17S7dMEkSkrV",
        "colab_type": "code",
        "colab": {
          "base_uri": "https://localhost:8080/",
          "height": 34
        },
        "outputId": "4b862ce3-3e42-4add-ea39-eeebe0db3737"
      },
      "source": [
        "ans_part1 = round(res.x[0])\n",
        "grader.set_answer(\"VI3xu\", ans_part1)\n",
        "\n",
        "ans_part2 = round(res.x[1], 2)\n",
        "grader.set_answer(\"VuE8x\", ans_part2)\n",
        "\n",
        "ans_part3 = round(res.x[3])\n",
        "grader.set_answer(\"KzmMV\", ans_part3)\n",
        "\n",
        "ans_part4 = round(res.x[2])\n",
        "grader.set_answer(\"TwZBF\", ans_part4)\n",
        "\n",
        "grader.submit(COURSERA_EMAIL, COURSERA_TOKEN)"
      ],
      "execution_count": 54,
      "outputs": [
        {
          "output_type": "stream",
          "text": [
            "Submitted to Coursera platform. See results on assignment page!\n"
          ],
          "name": "stdout"
        }
      ]
    },
    {
      "cell_type": "code",
      "metadata": {
        "id": "RJOEJl3oXG1e",
        "colab_type": "code",
        "colab": {}
      },
      "source": [
        ""
      ],
      "execution_count": null,
      "outputs": []
    }
  ]
}