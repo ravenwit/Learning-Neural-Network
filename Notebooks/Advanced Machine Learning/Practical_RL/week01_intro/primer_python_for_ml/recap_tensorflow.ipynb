{
  "nbformat": 4,
  "nbformat_minor": 0,
  "metadata": {
    "colab": {
      "name": "recap_tensorflow.ipynb",
      "provenance": [],
      "collapsed_sections": [
        "9tLcGAJdnPbA"
      ]
    },
    "kernelspec": {
      "name": "python3",
      "display_name": "Python 3"
    },
    "accelerator": "GPU"
  },
  "cells": [
    {
      "cell_type": "markdown",
      "metadata": {
        "id": "o7jD61ccnPYC",
        "colab_type": "text"
      },
      "source": [
        "# Down the rabbit hole with Tensorflow\n",
        "\n",
        "![img](https://lh3.googleusercontent.com/I1Dpp7I9RZIGl0rVMlPfnhfl-bkl_2uDHZwVC87BWmqtPaAs1irMWOdJxTmTEQJB-VGfLryCyHxqvyNchVIVLL-vqGrF3Q=s688)\n",
        "\n",
        "In this seminar, we're going to play with [Tensorflow](https://www.tensorflow.org/) and see how it helps you build deep learning models.\n",
        "\n",
        "If you're running this notebook outside the course environment, you'll need to install tensorflow:\n",
        "* `pip install tensorflow` should install cpu-only TF on Linux & Mac OS\n",
        "* If you want GPU support from offset, see [TF install page](https://www.tensorflow.org/install/)"
      ]
    },
    {
      "cell_type": "code",
      "metadata": {
        "id": "XVqNlhA_nPYF",
        "colab_type": "code",
        "colab": {
          "base_uri": "https://localhost:8080/",
          "height": 153
        },
        "outputId": "be3b38ff-7102-40bf-ce22-b981e6f2f158"
      },
      "source": [
        "import sys, os\n",
        "if 'google.colab' in sys.modules and not os.path.exists('.setup_complete'):\n",
        "    %tensorflow_version 1.x\n",
        "    \n",
        "    if not os.path.exists('.setup_complete'):\n",
        "        !wget -q https://raw.githubusercontent.com/yandexdataschool/Practical_RL/spring20/setup_colab.sh -O- | bash\n",
        "\n",
        "        !wget -q https://raw.githubusercontent.com/yandexdataschool/Practical_RL/coursera/week1_intro/primer/mnist.py\n",
        "\n",
        "        !touch .setup_complete\n",
        "\n",
        "# This code creates a virtual display to draw game images on.\n",
        "# It will have no effect if your machine has a monitor.\n",
        "if type(os.environ.get(\"DISPLAY\")) is not str or len(os.environ.get(\"DISPLAY\")) == 0:\n",
        "    !bash ../xvfb start\n",
        "    os.environ['DISPLAY'] = ':1'"
      ],
      "execution_count": 1,
      "outputs": [
        {
          "output_type": "stream",
          "text": [
            "TensorFlow 1.x selected.\n",
            "Selecting previously unselected package xvfb.\n",
            "(Reading database ... 144487 files and directories currently installed.)\n",
            "Preparing to unpack .../xvfb_2%3a1.19.6-1ubuntu4.4_amd64.deb ...\n",
            "Unpacking xvfb (2:1.19.6-1ubuntu4.4) ...\n",
            "Setting up xvfb (2:1.19.6-1ubuntu4.4) ...\n",
            "Processing triggers for man-db (2.8.3-2ubuntu0.1) ...\n",
            "Starting virtual X frame buffer: Xvfb.\n"
          ],
          "name": "stdout"
        }
      ]
    },
    {
      "cell_type": "code",
      "metadata": {
        "id": "anGhnWZrnPYR",
        "colab_type": "code",
        "colab": {}
      },
      "source": [
        "import numpy as np\n",
        "import matplotlib.pyplot as plt\n",
        "%matplotlib inline"
      ],
      "execution_count": 2,
      "outputs": []
    },
    {
      "cell_type": "code",
      "metadata": {
        "id": "wW7LSpabnPYW",
        "colab_type": "code",
        "colab": {}
      },
      "source": [
        "import tensorflow as tf\n",
        "\n",
        "# session is main tensorflow object. You ask session to compute stuff for you.\n",
        "sess = tf.InteractiveSession()"
      ],
      "execution_count": 3,
      "outputs": []
    },
    {
      "cell_type": "markdown",
      "metadata": {
        "id": "tRfhyAY8nPYf",
        "colab_type": "text"
      },
      "source": [
        "# Warming up\n",
        "For starters, let's implement a python function that computes the sum of squares of numbers from 0 to N-1.\n",
        "* Use numpy or python\n",
        "* An array of numbers 0 to N - numpy.arange(N)"
      ]
    },
    {
      "cell_type": "code",
      "metadata": {
        "id": "Lkl4EhncnPYg",
        "colab_type": "code",
        "colab": {}
      },
      "source": [
        "def sum_squares(N):\n",
        "    return np.sum(np.arange(N) ** 2)"
      ],
      "execution_count": 4,
      "outputs": []
    },
    {
      "cell_type": "code",
      "metadata": {
        "id": "gAdCNt9MnPYm",
        "colab_type": "code",
        "colab": {
          "base_uri": "https://localhost:8080/",
          "height": 68
        },
        "outputId": "7bc31794-7966-4958-dc1c-4cd3b3cf958c"
      },
      "source": [
        "%%time\n",
        "sum_squares(10**8)"
      ],
      "execution_count": 5,
      "outputs": [
        {
          "output_type": "stream",
          "text": [
            "CPU times: user 367 ms, sys: 341 ms, total: 708 ms\n",
            "Wall time: 719 ms\n"
          ],
          "name": "stdout"
        },
        {
          "output_type": "execute_result",
          "data": {
            "text/plain": [
              "662921401752298880"
            ]
          },
          "metadata": {
            "tags": []
          },
          "execution_count": 5
        }
      ]
    },
    {
      "cell_type": "markdown",
      "metadata": {
        "id": "7TtLDOs1nPYq",
        "colab_type": "text"
      },
      "source": [
        "__Same with tensorflow__"
      ]
    },
    {
      "cell_type": "code",
      "metadata": {
        "id": "q85-4fDRnPYr",
        "colab_type": "code",
        "colab": {}
      },
      "source": [
        "# \"i will insert N here later\"\n",
        "N = tf.placeholder('int64', name=\"input_to_your_function\")\n",
        "\n",
        "# a recipe on how to produce {sum of squares of arange of N} given N\n",
        "result = tf.reduce_sum((tf.range(N)**2))"
      ],
      "execution_count": 6,
      "outputs": []
    },
    {
      "cell_type": "code",
      "metadata": {
        "id": "HsYOHKhonPYx",
        "colab_type": "code",
        "colab": {
          "base_uri": "https://localhost:8080/",
          "height": 68
        },
        "outputId": "6dc05c4b-64e8-4454-b3d2-3e86ab649891"
      },
      "source": [
        "%%time\n",
        "\n",
        "# dear session, compute the result please. Here's your N.\n",
        "print(sess.run(result, {N: 10**8}))\n",
        "\n",
        "# hint: run it several times to let tensorflow \"warm up\""
      ],
      "execution_count": 7,
      "outputs": [
        {
          "output_type": "stream",
          "text": [
            "662921401752298880\n",
            "CPU times: user 487 ms, sys: 593 ms, total: 1.08 s\n",
            "Wall time: 7.02 s\n"
          ],
          "name": "stdout"
        }
      ]
    },
    {
      "cell_type": "markdown",
      "metadata": {
        "id": "X2ty_YC_nPY4",
        "colab_type": "text"
      },
      "source": [
        "# How it works: computation graphs\n",
        "\n",
        "\n",
        "1. create placeholders for future inputs;\n",
        "2. define symbolic graph: a recipe for mathematical transformation of those placeholders;\n",
        "3. compute outputs of your graph with particular values for each placeholder\n",
        "  * ```sess.run(outputs, {placeholder1:value1, placeholder2:value2})```\n",
        "  * OR output.eval({placeholder:value}) \n",
        "\n",
        "Still confused? We gonna fix that."
      ]
    },
    {
      "cell_type": "markdown",
      "metadata": {
        "id": "-XMcKWEinPY4",
        "colab_type": "text"
      },
      "source": [
        "__Placeholders and constants__"
      ]
    },
    {
      "cell_type": "code",
      "metadata": {
        "id": "zSpBOv1ynPY5",
        "colab_type": "code",
        "colab": {}
      },
      "source": [
        "# placeholder that can be arbitrary float32 scalar, vertor, matrix, etc.\n",
        "arbitrary_input = tf.placeholder('float32')\n",
        "\n",
        "# input vector of arbitrary length\n",
        "input_vector = tf.placeholder('float32', shape=(None,))\n",
        "\n",
        "# input vector that _must_ have 10 elements and integer type\n",
        "fixed_vector = tf.placeholder('int32', shape=(10,))\n",
        "\n",
        "# you can generally use None whenever you don't need a specific shape\n",
        "input1 = tf.placeholder('float64', shape=(None, 100, None))\n",
        "input2 = tf.placeholder('int32', shape=(None, None, 3, 224, 224))"
      ],
      "execution_count": 8,
      "outputs": []
    },
    {
      "cell_type": "markdown",
      "metadata": {
        "id": "wRCQdKW0nPY-",
        "colab_type": "text"
      },
      "source": [
        "You can create new __tensors__ with arbitrary operations on placeholders, constants and other tensors.\n",
        "\n",
        "* tf.reduce_sum(tf.arange(N)\\**2) are 3 sequential transformations of placeholder N\n",
        "* there's a tensorflow symbolic version for every numpy function\n",
        "  * `a + b, a / b, a ** b, ...` behave just like in numpy\n",
        "  * np.zeros -> tf.zeros\n",
        "  * np.sin -> tf.sin\n",
        "  * np.mean -> tf.reduce_mean\n",
        "  * np.arange -> tf.range\n",
        "  \n",
        "There are tons of other stuff in tensorflow, see the [docs](https://www.tensorflow.org/api_docs/python) or learn as you go with __shift+tab__."
      ]
    },
    {
      "cell_type": "code",
      "metadata": {
        "id": "iS0Q_skvnPY_",
        "colab_type": "code",
        "colab": {}
      },
      "source": [
        "# elementwise multiplication\n",
        "double_the_vector = input_vector * 2\n",
        "\n",
        "# elementwise cosine\n",
        "elementwise_cosine = tf.cos(input_vector)\n",
        "\n",
        "# elementwise difference between squared vector and it's means - with some random salt\n",
        "vector_squares = input_vector ** 2 - \\\n",
        "    tf.reduce_mean(input_vector) + tf.random_normal(tf.shape(input_vector))"
      ],
      "execution_count": 9,
      "outputs": []
    },
    {
      "cell_type": "markdown",
      "metadata": {
        "id": "n3kmNUZGnPZF",
        "colab_type": "text"
      },
      "source": [
        "## Practice 1: polar pretzels\n",
        "_inspired by [this post](https://www.quora.com/What-are-the-most-interesting-equation-plots)_\n",
        "\n",
        "There are some simple mathematical functions with cool plots. For one, consider this:\n",
        "\n",
        "$$ x(t) = t - 1.5 * cos( 15 t) $$\n",
        "$$ y(t) = t - 1.5 * sin( 16 t) $$\n"
      ]
    },
    {
      "cell_type": "code",
      "metadata": {
        "id": "D2CMF0fknPZG",
        "colab_type": "code",
        "colab": {
          "base_uri": "https://localhost:8080/",
          "height": 282
        },
        "outputId": "a9801df7-8cef-44b0-aebc-693671542b12"
      },
      "source": [
        "t = tf.placeholder('float32')\n",
        "\n",
        "\n",
        "# compute x(t) and y(t) as defined above.\n",
        "x = t - 1.5*tf.cos(15*t)\n",
        "y = t - 1.5*tf.sin(16*t)\n",
        "\n",
        "\n",
        "x_points, y_points = sess.run([x, y], {t: np.linspace(-10, 10, num=10000)})\n",
        "plt.plot(x_points, y_points)"
      ],
      "execution_count": 10,
      "outputs": [
        {
          "output_type": "execute_result",
          "data": {
            "text/plain": [
              "[<matplotlib.lines.Line2D at 0x7fa9b50488d0>]"
            ]
          },
          "metadata": {
            "tags": []
          },
          "execution_count": 10
        },
        {
          "output_type": "display_data",
          "data": {
            "image/png": "[encoded data removed]",
            "text/plain": [
              "<Figure size 432x288 with 1 Axes>"
            ]
          },
          "metadata": {
            "tags": [],
            "needs_background": "light"
          }
        }
      ]
    },
    {
      "cell_type": "markdown",
      "metadata": {
        "id": "2fncIZVknPZJ",
        "colab_type": "text"
      },
      "source": [
        "### Visualizing graphs with Tensorboard\n",
        "\n",
        "It's often useful to visualize the computation graph when debugging or optimizing. \n",
        "Interactive visualization is where tensorflow really shines as compared to other frameworks. \n",
        "\n",
        "There's a special instrument for that, called Tensorboard. You can launch it from console:\n",
        "\n",
        "__```tensorboard --logdir=/tmp/tboard --port=7007```__\n",
        "\n",
        "If you're pathologically afraid of consoles, try this:\n",
        "\n",
        "__```import os; os.system(\"tensorboard --logdir=/tmp/tboard --port=7007 &\")```__\n",
        "\n",
        "_(but don't tell anyone we taught you that)_"
      ]
    },
    {
      "cell_type": "markdown",
      "metadata": {
        "id": "uHGrzRksnPZK",
        "colab_type": "text"
      },
      "source": [
        "One basic functionality of tensorboard is drawing graphs. One you've run the cell above, go to `localhost:7007` in your browser and switch to _graphs_ tab in the topbar. \n",
        "\n",
        "Here's what you should see:\n",
        "\n",
        "<img src=\"https://www.tensorflow.org/images/graph_vis_animation.gif\" width=480>\n",
        "\n",
        "Tensorboard also allows you to draw graphs (e.g. learning curves), record images & audio ~~and play flash games~~. This is useful when monitoring learning progress and catching some training issues.\n",
        "\n",
        "One researcher said:\n",
        "```\n",
        "If you spent last four hours of your worktime watching as your algorithm prints numbers and draws figures, you're probably doing deep learning wrong.\n",
        "```"
      ]
    },
    {
      "cell_type": "markdown",
      "metadata": {
        "id": "WYUZWgKbnPZK",
        "colab_type": "text"
      },
      "source": [
        "You can read more on tensorboard usage [here](https://www.tensorflow.org/get_started/graph_viz)"
      ]
    },
    {
      "cell_type": "markdown",
      "metadata": {
        "id": "MynhGZUSnPZM",
        "colab_type": "text"
      },
      "source": [
        "# Practice 2: mean squared error\n"
      ]
    },
    {
      "cell_type": "code",
      "metadata": {
        "id": "PyLLXAjZnPZN",
        "colab_type": "code",
        "colab": {}
      },
      "source": [
        "# Quest #1 - implement a function that computes a mean squared error of two input vectors\n",
        "# Your function has to take 2 vectors and return a single number\n",
        "\n",
        "vec1 = tf.placeholder('float32', shape=(None,))\n",
        "vec2 = tf.placeholder('float32', shape=(None,))\n",
        "\n",
        "mse = tf.reduce_mean((vec1 - vec2) ** 2)\n",
        "\n",
        "compute_mse = lambda vector1, vector2: mse.eval({vec1:vector1, vec2:vector2})"
      ],
      "execution_count": 12,
      "outputs": []
    },
    {
      "cell_type": "code",
      "metadata": {
        "id": "Cq16sCbFnPZT",
        "colab_type": "code",
        "colab": {
          "base_uri": "https://localhost:8080/",
          "height": 34
        },
        "outputId": "7b7a89c8-e256-4767-e839-151ff23fdb4e"
      },
      "source": [
        "# Tests\n",
        "from sklearn.metrics import mean_squared_error\n",
        "\n",
        "for n in [1, 5, 10, 10 ** 3]:\n",
        "\n",
        "    elems = [np.arange(n), np.arange(n, 0, -1), np.zeros(n),\n",
        "             np.ones(n), np.random.random(n), np.random.randint(100, size=n)]\n",
        "\n",
        "    for el in elems:\n",
        "        for el_2 in elems:\n",
        "            true_mse = np.array(mean_squared_error(el, el_2))\n",
        "            my_mse = compute_mse(el, el_2)\n",
        "            if not np.allclose(true_mse, my_mse):\n",
        "                print('Wrong result:')\n",
        "                print('mse(%s,%s)' % (el, el_2))\n",
        "                print(\"should be: %f, but your function returned %f\" %\n",
        "                      (true_mse, my_mse))\n",
        "                raise ValueError(\"Что-то не так\")\n",
        "\n",
        "print(\"All tests passed\")"
      ],
      "execution_count": 14,
      "outputs": [
        {
          "output_type": "stream",
          "text": [
            "All tests passed\n"
          ],
          "name": "stdout"
        }
      ]
    },
    {
      "cell_type": "markdown",
      "metadata": {
        "id": "V2hNASBInPZY",
        "colab_type": "text"
      },
      "source": [
        "# Tensorflow variables\n",
        "\n",
        "The inputs and transformations have no value outside function call. That's a bit unnatural if you want your model to have parameters (e.g. network weights) that are always present, but can change their value over time.\n",
        "\n",
        "Tensorflow solves this with `tf.Variable` objects.\n",
        "* You can assign variable a value at any time in your graph\n",
        "* Unlike placeholders, there's no need to explicitly pass values to variables when `s.run(...)`-ing\n",
        "* You can use variables the same way you use transformations \n",
        " "
      ]
    },
    {
      "cell_type": "code",
      "metadata": {
        "id": "jGjSfOXSnPZY",
        "colab_type": "code",
        "colab": {}
      },
      "source": [
        "# creating shared variable\n",
        "shared_vector_1 = tf.Variable(initial_value=np.ones(5))\n",
        "\n",
        "# initialize all variables with initial values\n",
        "sess.run(tf.global_variables_initializer())"
      ],
      "execution_count": 15,
      "outputs": []
    },
    {
      "cell_type": "code",
      "metadata": {
        "id": "D1jelm-3nPZd",
        "colab_type": "code",
        "colab": {
          "base_uri": "https://localhost:8080/",
          "height": 34
        },
        "outputId": "172f99eb-39a3-4740-ec16-8e600a440488"
      },
      "source": [
        "# evaluating shared variable (outside symbolicd graph)\n",
        "print(\"initial value\", sess.run(shared_vector_1))\n",
        "\n",
        "# within symbolic graph you use them just as any other inout or transformation, not \"get value\" needed"
      ],
      "execution_count": 16,
      "outputs": [
        {
          "output_type": "stream",
          "text": [
            "initial value [1. 1. 1. 1. 1.]\n"
          ],
          "name": "stdout"
        }
      ]
    },
    {
      "cell_type": "code",
      "metadata": {
        "id": "Rsy3Q4UDnPZj",
        "colab_type": "code",
        "colab": {
          "base_uri": "https://localhost:8080/",
          "height": 34
        },
        "outputId": "efedbc7a-fde5-46f4-ab7f-3826abdd46ed"
      },
      "source": [
        "# setting new value manually\n",
        "sess.run(shared_vector_1.assign(np.arange(5)))\n",
        "\n",
        "# getting that new value\n",
        "print(\"new value\", sess.run(shared_vector_1))"
      ],
      "execution_count": 17,
      "outputs": [
        {
          "output_type": "stream",
          "text": [
            "new value [0. 1. 2. 3. 4.]\n"
          ],
          "name": "stdout"
        }
      ]
    },
    {
      "cell_type": "markdown",
      "metadata": {
        "id": "iJc_s7KZnPZm",
        "colab_type": "text"
      },
      "source": [
        "# tf.gradients - why graphs matter\n",
        "* Tensorflow can compute derivatives and gradients automatically using the computation graph\n",
        "* Gradients are computed as a product of elementary derivatives via chain rule:\n",
        "\n",
        "$$ {\\partial f(g(x)) \\over \\partial x} = {\\partial f(g(x)) \\over \\partial g(x)}\\cdot {\\partial g(x) \\over \\partial x} $$\n",
        "\n",
        "It can get you the derivative of any graph as long as it knows how to differentiate elementary operations"
      ]
    },
    {
      "cell_type": "code",
      "metadata": {
        "id": "xHBMwL-QnPZn",
        "colab_type": "code",
        "colab": {
          "base_uri": "https://localhost:8080/",
          "height": 88
        },
        "outputId": "98ae209d-375b-46b9-c6d1-ba20a1f936bf"
      },
      "source": [
        "my_scalar = tf.placeholder('float32')\n",
        "\n",
        "scalar_squared = my_scalar ** 2\n",
        "\n",
        "# a derivative of scalar_squared by my_scalar\n",
        "derivative = tf.gradients(scalar_squared, [my_scalar])[0]"
      ],
      "execution_count": 18,
      "outputs": [
        {
          "output_type": "stream",
          "text": [
            "WARNING:tensorflow:From /tensorflow-1.15.2/python3.6/tensorflow_core/python/ops/math_grad.py:1375: where (from tensorflow.python.ops.array_ops) is deprecated and will be removed in a future version.\n",
            "Instructions for updating:\n",
            "Use tf.where in 2.0, which has the same broadcast rule as np.where\n"
          ],
          "name": "stdout"
        }
      ]
    },
    {
      "cell_type": "code",
      "metadata": {
        "id": "L0o6uDC4nPZt",
        "colab_type": "code",
        "colab": {
          "base_uri": "https://localhost:8080/",
          "height": 282
        },
        "outputId": "4d83b7d3-e41a-48fb-e2da-4fe1d7e9c8a0"
      },
      "source": [
        "x = np.linspace(-3, 3)\n",
        "x_squared, x_squared_der = sess.run(\n",
        "    [scalar_squared, derivative], {my_scalar: x})\n",
        "\n",
        "plt.plot(x, x_squared, label=\"x^2\")\n",
        "plt.plot(x, x_squared_der, label=\"derivative\")\n",
        "plt.legend()"
      ],
      "execution_count": 19,
      "outputs": [
        {
          "output_type": "execute_result",
          "data": {
            "text/plain": [
              "<matplotlib.legend.Legend at 0x7fa9b5143a90>"
            ]
          },
          "metadata": {
            "tags": []
          },
          "execution_count": 19
        },
        {
          "output_type": "display_data",
          "data": {
            "image/png": "[encoded data removed]",
            "text/plain": [
              "<Figure size 432x288 with 1 Axes>"
            ]
          },
          "metadata": {
            "tags": [],
            "needs_background": "light"
          }
        }
      ]
    },
    {
      "cell_type": "markdown",
      "metadata": {
        "id": "1I0FUdZunPZx",
        "colab_type": "text"
      },
      "source": [
        "## Why autograd is cool"
      ]
    },
    {
      "cell_type": "code",
      "metadata": {
        "id": "JEJZUCW7nPZx",
        "colab_type": "code",
        "colab": {}
      },
      "source": [
        "my_vector = tf.placeholder('float32', [None])\n",
        "\n",
        "# Compute the gradient of the next weird function over my_scalar and my_vector\n",
        "# warning! Trying to understand the meaning of that function may result in permanent brain damage\n",
        "\n",
        "weird_psychotic_function = tf.reduce_mean((my_vector+my_scalar)**(1+tf.nn.moments(my_vector, [0])[1]) + 1. / tf.atan(my_scalar))/(my_scalar**2 + 1) + 0.01*tf.sin(\n",
        "    2*my_scalar**1.5)*(tf.reduce_sum(my_vector) * my_scalar**2)*tf.exp((my_scalar-4)**2)/(1+tf.exp((my_scalar-4)**2))*(1.-(tf.exp(-(my_scalar-4)**2))/(1+tf.exp(-(my_scalar-4)**2)))**2\n",
        "\n",
        "der_by_scalar = tf.gradients(weird_psychotic_function, my_scalar)[0]\n",
        "der_by_vector = tf.gradients(weird_psychotic_function, my_vector)[0]"
      ],
      "execution_count": 21,
      "outputs": []
    },
    {
      "cell_type": "code",
      "metadata": {
        "id": "X16jKL8wnPZ2",
        "colab_type": "code",
        "colab": {
          "base_uri": "https://localhost:8080/",
          "height": 282
        },
        "outputId": "cb783d64-e8a9-4f5c-fce1-7a8ec3dcdf39"
      },
      "source": [
        "# Plotting your derivative\n",
        "scalar_space = np.linspace(1, 7, 100)\n",
        "\n",
        "y = [sess.run(weird_psychotic_function, {my_scalar: x, my_vector: [1, 2, 3]})\n",
        "     for x in scalar_space]\n",
        "\n",
        "plt.plot(scalar_space, y, label='function')\n",
        "\n",
        "y_der_by_scalar = [sess.run(der_by_scalar, {my_scalar: x, my_vector: [1, 2, 3]})\n",
        "                   for x in scalar_space]\n",
        "\n",
        "plt.plot(scalar_space, y_der_by_scalar, label='derivative')\n",
        "plt.grid()\n",
        "plt.legend()"
      ],
      "execution_count": 22,
      "outputs": [
        {
          "output_type": "execute_result",
          "data": {
            "text/plain": [
              "<matplotlib.legend.Legend at 0x7fa9b632a828>"
            ]
          },
          "metadata": {
            "tags": []
          },
          "execution_count": 22
        },
        {
          "output_type": "display_data",
          "data": {
            "image/png": "[encoded data removed]",
            "text/plain": [
              "<Figure size 432x288 with 1 Axes>"
            ]
          },
          "metadata": {
            "tags": [],
            "needs_background": "light"
          }
        }
      ]
    },
    {
      "cell_type": "markdown",
      "metadata": {
        "id": "uXE3SyALnPZ8",
        "colab_type": "text"
      },
      "source": [
        "# Almost done - optimizers\n",
        "\n",
        "While you can perform gradient descent by hand with automatic grads from above, tensorflow also has some optimization methods implemented for you. Recall momentum & rmsprop?"
      ]
    },
    {
      "cell_type": "code",
      "metadata": {
        "id": "P-vi0hoenPZ9",
        "colab_type": "code",
        "colab": {}
      },
      "source": [
        "y_guess = tf.Variable(np.zeros(2, dtype='float32'))\n",
        "y_true = tf.range(1, 3, dtype='float32')\n",
        "\n",
        "loss = tf.reduce_mean((y_guess - y_true + tf.random_normal([2]))**2)\n",
        "\n",
        "optimizer = tf.train.MomentumOptimizer(\n",
        "    0.01, 0.9).minimize(loss, var_list=y_guess)\n",
        "\n",
        "# same, but more detailed:\n",
        "# updates = [[tf.gradients(loss,y_guess)[0], y_guess]]\n",
        "# optimizer = tf.train.MomentumOptimizer(0.01,0.9).apply_gradients(updates)"
      ],
      "execution_count": 23,
      "outputs": []
    },
    {
      "cell_type": "code",
      "metadata": {
        "id": "cw5t3YVqnPaA",
        "colab_type": "code",
        "colab": {
          "base_uri": "https://localhost:8080/",
          "height": 265
        },
        "outputId": "26c156fe-5838-459d-a354-62e3777c6353"
      },
      "source": [
        "from IPython.display import clear_output\n",
        "\n",
        "sess.run(tf.global_variables_initializer())\n",
        "\n",
        "guesses = [sess.run(y_guess)]\n",
        "\n",
        "for _ in range(100):\n",
        "    sess.run(optimizer)\n",
        "    guesses.append(sess.run(y_guess))\n",
        "\n",
        "    clear_output(True)\n",
        "    plt.plot(*zip(*guesses), marker='.')\n",
        "    plt.scatter(*sess.run(y_true), c='red')\n",
        "    plt.show()"
      ],
      "execution_count": 24,
      "outputs": [
        {
          "output_type": "display_data",
          "data": {
            "image/png": "[encoded data removed]",
            "text/plain": [
              "<Figure size 432x288 with 1 Axes>"
            ]
          },
          "metadata": {
            "tags": [],
            "needs_background": "light"
          }
        }
      ]
    },
    {
      "cell_type": "markdown",
      "metadata": {
        "id": "tVQ6VzpEnPaF",
        "colab_type": "text"
      },
      "source": [
        "# Logistic regression example\n",
        "Implement the regular logistic regression training algorithm\n",
        " \n",
        "We shall train on a two-class MNIST dataset. \n",
        "\n",
        "This is a binary classification problem, so we'll train a __Logistic Regression with sigmoid__.\n",
        "$$P(y_i | X_i) = \\sigma(W \\cdot X_i + b) ={ 1 \\over {1+e^{- [W \\cdot X_i + b]}} }$$\n",
        "\n",
        "\n",
        "The natural choice of loss function is to use binary crossentropy (aka logloss, negative llh):\n",
        "$$ L = {1 \\over N} \\underset{X_i,y_i} \\sum - [  y_i \\cdot log P(y_i | X_i) + (1-y_i) \\cdot log (1-P(y_i | X_i)) ]$$\n",
        "\n",
        "Mind the minus :)\n"
      ]
    },
    {
      "cell_type": "code",
      "metadata": {
        "id": "KvXgPrP5nPaG",
        "colab_type": "code",
        "colab": {
          "base_uri": "https://localhost:8080/",
          "height": 51
        },
        "outputId": "fefcfc8a-5d7e-411b-f84d-3c744b94ecf2"
      },
      "source": [
        "from sklearn.datasets import load_digits\n",
        "X, y = load_digits(2, return_X_y=True)\n",
        "\n",
        "print(\"y [shape - %s]:\" % (str(y.shape)), y[:10])\n",
        "print(\"X [shape - %s]:\" % (str(X.shape)))"
      ],
      "execution_count": 25,
      "outputs": [
        {
          "output_type": "stream",
          "text": [
            "y [shape - (360,)]: [0 1 0 1 0 1 0 0 1 1]\n",
            "X [shape - (360, 64)]:\n"
          ],
          "name": "stdout"
        }
      ]
    },
    {
      "cell_type": "code",
      "metadata": {
        "id": "ruNBG6LOnPaQ",
        "colab_type": "code",
        "colab": {
          "base_uri": "https://localhost:8080/",
          "height": 384
        },
        "outputId": "bbeac79b-702a-4cfb-81e8-304b5d3af4e9"
      },
      "source": [
        "print('X:\\n', X[:3, :10])\n",
        "print('y:\\n', y[:10])\n",
        "plt.imshow(X[0].reshape([8, 8]))"
      ],
      "execution_count": 26,
      "outputs": [
        {
          "output_type": "stream",
          "text": [
            "X:\n",
            " [[ 0.  0.  5. 13.  9.  1.  0.  0.  0.  0.]\n",
            " [ 0.  0.  0. 12. 13.  5.  0.  0.  0.  0.]\n",
            " [ 0.  0.  1.  9. 15. 11.  0.  0.  0.  0.]]\n",
            "y:\n",
            " [0 1 0 1 0 1 0 0 1 1]\n"
          ],
          "name": "stdout"
        },
        {
          "output_type": "execute_result",
          "data": {
            "text/plain": [
              "<matplotlib.image.AxesImage at 0x7fa9b3ed76d8>"
            ]
          },
          "metadata": {
            "tags": []
          },
          "execution_count": 26
        },
        {
          "output_type": "display_data",
          "data": {
            "image/png": "[encoded data removed]",
            "text/plain": [
              "<Figure size 432x288 with 1 Axes>"
            ]
          },
          "metadata": {
            "tags": [],
            "needs_background": "light"
          }
        }
      ]
    },
    {
      "cell_type": "code",
      "metadata": {
        "id": "L3h4uDXznPaW",
        "colab_type": "code",
        "colab": {}
      },
      "source": [
        "# inputs and shareds\n",
        "weights = tf.Variable(tf.zeros((64, 1), dtype='float32'))\n",
        "b = tf.Variable(np.zeros([1], dtype='float32'))\n",
        "input_X = tf.placeholder('float32', shape=(None, 64))\n",
        "input_y = tf.placeholder('float32', shape=(None,))"
      ],
      "execution_count": 28,
      "outputs": []
    },
    {
      "cell_type": "code",
      "metadata": {
        "id": "oKS7RYZgnPaZ",
        "colab_type": "code",
        "colab": {}
      },
      "source": [
        "predicted_y_proba = tf.sigmoid(tf.matmul(input_X, weights) + b)\n",
        "\n",
        "loss = tf.reduce_mean(-tf.reduce_sum(input_y * tf.log(predicted_y), axis=1))\n",
        "\n",
        "train_step = tf.train.AdamOptimizer().minimize(loss)"
      ],
      "execution_count": 32,
      "outputs": []
    },
    {
      "cell_type": "code",
      "metadata": {
        "id": "YFnmtjLOnPad",
        "colab_type": "code",
        "colab": {}
      },
      "source": [
        "from sklearn.model_selection import train_test_split\n",
        "X_train, X_test, y_train, y_test = train_test_split(X, y, random_state=42)"
      ],
      "execution_count": 33,
      "outputs": []
    },
    {
      "cell_type": "code",
      "metadata": {
        "id": "mycWnPHunPag",
        "colab_type": "code",
        "colab": {
          "base_uri": "https://localhost:8080/",
          "height": 1000
        },
        "outputId": "0595e3fd-323b-4313-e3c3-8922bdeb8f4f"
      },
      "source": [
        "from sklearn.metrics import roc_auc_score\n",
        "\n",
        "sess.run(tf.global_variables_initializer())\n",
        "\n",
        "for i in range(20):\n",
        "  _, loss_i, shared_weights = sess.run([train_step, loss, weights], feed_dict={input_X:X_train, input_y:y_train})\n",
        "\n",
        "    \n",
        "  print(\"loss at iter %i: %.4f\" % (i, loss_i))\n",
        "\n",
        "  print(\"train auc:\", roc_auc_score(y_train, sess.run(predicted_y_proba, {input_X: X_train})))\n",
        "  print(\"test auc:\", roc_auc_score(\n",
        "        y_test, sess.run(predicted_y_proba, {input_X: X_test})))\n",
        "\n",
        "\n",
        "print(\"resulting weights:\")\n",
        "plt.imshow(shared_weights.reshape(8, -1))\n",
        "plt.colorbar();"
      ],
      "execution_count": 50,
      "outputs": [
        {
          "output_type": "stream",
          "text": [
            "loss at iter 0: 95.6543\n",
            "train auc: 0.45745498462889767\n",
            "test auc: 0.49752964426877466\n",
            "loss at iter 1: 75.6102\n",
            "train auc: 0.4605566534914361\n",
            "test auc: 0.5\n",
            "loss at iter 2: 59.0850\n",
            "train auc: 0.4605841018884497\n",
            "test auc: 0.5\n",
            "loss at iter 3: 45.8367\n",
            "train auc: 0.4605841018884497\n",
            "test auc: 0.5\n",
            "loss at iter 4: 35.4617\n",
            "train auc: 0.46063899868247693\n",
            "test auc: 0.5\n",
            "loss at iter 5: 27.4782\n",
            "train auc: 0.46063899868247693\n",
            "test auc: 0.5\n",
            "loss at iter 6: 21.4042\n",
            "train auc: 0.4606389986824769\n",
            "test auc: 0.5\n",
            "loss at iter 7: 16.8081\n",
            "train auc: 0.46063899868247693\n",
            "test auc: 0.5\n",
            "loss at iter 8: 13.3326\n",
            "train auc: 0.4606389986824769\n",
            "test auc: 0.5\n",
            "loss at iter 9: 10.6962\n",
            "train auc: 0.46063899868247693\n",
            "test auc: 0.5\n",
            "loss at iter 10: 8.6846\n",
            "train auc: 0.46063899868247693\n",
            "test auc: 0.5\n",
            "loss at iter 11: 7.1378\n",
            "train auc: 0.46069389547650413\n",
            "test auc: 0.5\n",
            "loss at iter 12: 5.9378\n",
            "train auc: 0.4609134826526131\n",
            "test auc: 0.5\n",
            "loss at iter 13: 4.9981\n",
            "train auc: 0.46162714097496704\n",
            "test auc: 0.5009881422924901\n",
            "loss at iter 14: 4.2550\n",
            "train auc: 0.4623956960913483\n",
            "test auc: 0.5024703557312253\n",
            "loss at iter 15: 3.6616\n",
            "train auc: 0.46316425120772947\n",
            "test auc: 0.5024703557312253\n",
            "loss at iter 16: 3.1833\n",
            "train auc: 0.46382301273605614\n",
            "test auc: 0.5024703557312253\n",
            "loss at iter 17: 2.7941\n",
            "train auc: 0.4643719806763284\n",
            "test auc: 0.5024703557312253\n",
            "loss at iter 18: 2.4747\n",
            "train auc: 0.46481115502854636\n",
            "test auc: 0.5039525691699606\n",
            "loss at iter 19: 2.2103\n",
            "train auc: 0.46508563899868244\n",
            "test auc: 0.5044466403162056\n",
            "resulting weights:\n"
          ],
          "name": "stdout"
        },
        {
          "output_type": "display_data",
          "data": {
            "image/png": "[encoded data removed]",
            "text/plain": [
              "<Figure size 432x288 with 2 Axes>"
            ]
          },
          "metadata": {
            "tags": [],
            "needs_background": "light"
          }
        }
      ]
    },
    {
      "cell_type": "markdown",
      "metadata": {
        "id": "W10thA0OnPaj",
        "colab_type": "text"
      },
      "source": [
        "# Practice 3: my first tensorflow network\n",
        "Your ultimate task for this week is to build your first neural network [almost] from scratch and pure tensorflow.\n",
        "\n",
        "This time you will same digit recognition problem, but at a larger scale\n",
        "* images are now 28x28\n",
        "* 10 different digits\n",
        "* 50k samples\n",
        "\n",
        "Note that you are not required to build 152-layer monsters here. A 2-layer (one hidden, one output) NN should already have ive you an edge over logistic regression.\n",
        "\n",
        "__[bonus score]__\n",
        "If you've already beaten logistic regression with a two-layer net, but enthusiasm still ain't gone, you can try improving the test accuracy even further! The milestones would be 95%/97.5%/98.5% accuraсy on test set.\n",
        "\n",
        "__SPOILER!__\n",
        "At the end of the notebook you will find a few tips and frequently made mistakes. If you feel enough might to shoot yourself in the foot without external assistance, we encourage you to do so, but if you encounter any unsurpassable issues, please do look there before mailing us."
      ]
    },
    {
      "cell_type": "code",
      "metadata": {
        "id": "Q1zLimHjnPam",
        "colab_type": "code",
        "colab": {
          "base_uri": "https://localhost:8080/",
          "height": 102
        },
        "outputId": "5ffb8e30-ce99-41cd-c9e9-3752b3778560"
      },
      "source": [
        "from mnist import load_dataset\n",
        "\n",
        "# [down]loading the original MNIST dataset.\n",
        "# Please note that you should only train your NN on _train sample,\n",
        "#  _val can be used to evaluate out-of-sample error, compare models or perform early-stopping\n",
        "#  _test should be hidden under a rock untill final evaluation... But we both know it is near impossible to catch you evaluating on it.\n",
        "X_train, y_train, X_val, y_val, X_test, y_test = load_dataset()\n",
        "\n",
        "print(X_train.shape, y_train.shape)"
      ],
      "execution_count": 51,
      "outputs": [
        {
          "output_type": "stream",
          "text": [
            "Downloading train-images-idx3-ubyte.gz\n",
            "Downloading train-labels-idx1-ubyte.gz\n",
            "Downloading t10k-images-idx3-ubyte.gz\n",
            "Downloading t10k-labels-idx1-ubyte.gz\n",
            "(50000, 1, 28, 28) (50000,)\n"
          ],
          "name": "stdout"
        }
      ]
    },
    {
      "cell_type": "code",
      "metadata": {
        "id": "b4iAEttfnPap",
        "colab_type": "code",
        "colab": {
          "base_uri": "https://localhost:8080/",
          "height": 282
        },
        "outputId": "6d207c39-e767-4856-ba3a-cd7e0bda2096"
      },
      "source": [
        "plt.imshow(X_train[0, 0])"
      ],
      "execution_count": 52,
      "outputs": [
        {
          "output_type": "execute_result",
          "data": {
            "text/plain": [
              "<matplotlib.image.AxesImage at 0x7fa9b44f6400>"
            ]
          },
          "metadata": {
            "tags": []
          },
          "execution_count": 52
        },
        {
          "output_type": "display_data",
          "data": {
            "image/png": "[encoded data removed]",
            "text/plain": [
              "<Figure size 432x288 with 1 Axes>"
            ]
          },
          "metadata": {
            "tags": [],
            "needs_background": "light"
          }
        }
      ]
    },
    {
      "cell_type": "code",
      "metadata": {
        "id": "Bd3PZUhunPat",
        "colab_type": "code",
        "colab": {
          "base_uri": "https://localhost:8080/",
          "height": 34
        },
        "outputId": "f08d5db2-429b-4715-f2db-a0d6508f00bf"
      },
      "source": [
        "\n",
        "import keras\n",
        "from keras.models import Sequential\n",
        "from keras.layers import Dense, Dropout, Flatten\n",
        "from keras.layers import Conv2D, MaxPooling2D\n",
        "from keras import backend as K"
      ],
      "execution_count": 54,
      "outputs": [
        {
          "output_type": "stream",
          "text": [
            "Using TensorFlow backend.\n"
          ],
          "name": "stderr"
        }
      ]
    },
    {
      "cell_type": "code",
      "metadata": {
        "id": "dNy0eh4FvuxE",
        "colab_type": "code",
        "colab": {}
      },
      "source": [
        "\n",
        "batch_size = 128\n",
        "num_classes = 10\n",
        "epochs = 12\n",
        "img_rows, img_cols = 28, 28\n",
        "input_shape = (img_rows, img_cols, 1)"
      ],
      "execution_count": 55,
      "outputs": []
    },
    {
      "cell_type": "code",
      "metadata": {
        "id": "XeBt65OEnPaw",
        "colab_type": "code",
        "colab": {}
      },
      "source": [
        "def load_dataset(flatten=False):\n",
        "    (X_train, y_train), (X_test, y_test) = keras.datasets.mnist.load_data()\n",
        "    \n",
        "\n",
        "    # normalize x\n",
        "    X_train = X_train.astype(float) / 255.\n",
        "    X_test = X_test.astype(float) / 255.\n",
        "    \n",
        "    X_train = X_train.reshape(X_train.shape[0], img_rows, img_cols, 1)\n",
        "    X_test = X_test.reshape(X_test.shape[0], img_rows, img_cols, 1)\n",
        "    y_train = keras.utils.to_categorical(y_train, num_classes)\n",
        "    y_test = keras.utils.to_categorical(y_test, num_classes)\n",
        "\n",
        "    # we reserve the last 10000 training examples for validation\n",
        "    X_train, X_val = X_train[:-10000], X_train[-10000:]\n",
        "    y_train, y_val = y_train[:-10000], y_train[-10000:]\n",
        "\n",
        "    if flatten:\n",
        "        X_train = X_train.reshape([X_train.shape[0], -1])\n",
        "        X_val = X_val.reshape([X_val.shape[0], -1])\n",
        "        X_test = X_test.reshape([X_test.shape[0], -1])\n",
        "\n",
        "    return X_train, y_train, X_val, y_val, X_test, y_test"
      ],
      "execution_count": 56,
      "outputs": []
    },
    {
      "cell_type": "code",
      "metadata": {
        "id": "t2fp1kO6v-iq",
        "colab_type": "code",
        "colab": {
          "base_uri": "https://localhost:8080/",
          "height": 282
        },
        "outputId": "2be56c61-105f-4434-b822-fd4db1358486"
      },
      "source": [
        "X_train,y_train,X_val,y_val,X_test,y_test = load_dataset()\n",
        "\n",
        "plt.imshow(X_train[0, :, :, 0])\n"
      ],
      "execution_count": 61,
      "outputs": [
        {
          "output_type": "execute_result",
          "data": {
            "text/plain": [
              "<matplotlib.image.AxesImage at 0x7fa9b419a978>"
            ]
          },
          "metadata": {
            "tags": []
          },
          "execution_count": 61
        },
        {
          "output_type": "display_data",
          "data": {
            "image/png": "[encoded data removed]",
            "text/plain": [
              "<Figure size 432x288 with 1 Axes>"
            ]
          },
          "metadata": {
            "tags": [],
            "needs_background": "light"
          }
        }
      ]
    },
    {
      "cell_type": "code",
      "metadata": {
        "id": "Fx4OleWhnPay",
        "colab_type": "code",
        "colab": {
          "base_uri": "https://localhost:8080/",
          "height": 442
        },
        "outputId": "95614c8a-dbbe-4487-925d-398ede5ef193"
      },
      "source": [
        "model = Sequential()\n",
        "model.add(Conv2D(32, kernel_size=(3, 3),\n",
        "                 activation='relu',\n",
        "                 input_shape=input_shape))\n",
        "model.add(Conv2D(64, (3, 3), activation='relu'))\n",
        "model.add(MaxPooling2D(pool_size=(2, 2)))\n",
        "model.add(Dropout(0.25))\n",
        "model.add(Flatten())\n",
        "model.add(Dense(128, activation='relu'))\n",
        "model.add(Dropout(0.5))\n",
        "model.add(Dense(num_classes, activation='softmax'))\n",
        "\n",
        "print(model.summary())"
      ],
      "execution_count": 65,
      "outputs": [
        {
          "output_type": "stream",
          "text": [
            "Model: \"sequential_5\"\n",
            "_________________________________________________________________\n",
            "Layer (type)                 Output Shape              Param #   \n",
            "=================================================================\n",
            "conv2d_9 (Conv2D)            (None, 26, 26, 32)        320       \n",
            "_________________________________________________________________\n",
            "conv2d_10 (Conv2D)           (None, 24, 24, 64)        18496     \n",
            "_________________________________________________________________\n",
            "max_pooling2d_5 (MaxPooling2 (None, 12, 12, 64)        0         \n",
            "_________________________________________________________________\n",
            "dropout_9 (Dropout)          (None, 12, 12, 64)        0         \n",
            "_________________________________________________________________\n",
            "flatten_5 (Flatten)          (None, 9216)              0         \n",
            "_________________________________________________________________\n",
            "dense_9 (Dense)              (None, 128)               1179776   \n",
            "_________________________________________________________________\n",
            "dropout_10 (Dropout)         (None, 128)               0         \n",
            "_________________________________________________________________\n",
            "dense_10 (Dense)             (None, 10)                1290      \n",
            "=================================================================\n",
            "Total params: 1,199,882\n",
            "Trainable params: 1,199,882\n",
            "Non-trainable params: 0\n",
            "_________________________________________________________________\n",
            "None\n"
          ],
          "name": "stdout"
        }
      ]
    },
    {
      "cell_type": "code",
      "metadata": {
        "id": "FtDUUeKVnPa3",
        "colab_type": "code",
        "colab": {}
      },
      "source": [
        "model.compile(loss=keras.losses.categorical_crossentropy,\n",
        "              optimizer=keras.optimizers.Adadelta(),\n",
        "              metrics=['accuracy'])"
      ],
      "execution_count": 66,
      "outputs": []
    },
    {
      "cell_type": "code",
      "metadata": {
        "id": "kMYz1V5TnPa7",
        "colab_type": "code",
        "colab": {
          "base_uri": "https://localhost:8080/",
          "height": 459
        },
        "outputId": "1b39e0b1-e807-4d3a-cd6c-949297ce03d4"
      },
      "source": [
        "model.fit(X_train, y_train,\n",
        "          batch_size=batch_size,\n",
        "          epochs=epochs,\n",
        "          verbose=1,\n",
        "          validation_data=(X_val, y_val))"
      ],
      "execution_count": 67,
      "outputs": [
        {
          "output_type": "stream",
          "text": [
            "Train on 50000 samples, validate on 10000 samples\n",
            "Epoch 1/12\n",
            "50000/50000 [==============================] - 9s 180us/step - loss: 0.2964 - accuracy: 0.9075 - val_loss: 0.0725 - val_accuracy: 0.9801\n",
            "Epoch 2/12\n",
            "50000/50000 [==============================] - 9s 176us/step - loss: 0.0995 - accuracy: 0.9704 - val_loss: 0.0533 - val_accuracy: 0.9856\n",
            "Epoch 3/12\n",
            "50000/50000 [==============================] - 9s 177us/step - loss: 0.0741 - accuracy: 0.9778 - val_loss: 0.0471 - val_accuracy: 0.9865\n",
            "Epoch 4/12\n",
            "50000/50000 [==============================] - 9s 177us/step - loss: 0.0598 - accuracy: 0.9817 - val_loss: 0.0466 - val_accuracy: 0.9870\n",
            "Epoch 5/12\n",
            "50000/50000 [==============================] - 9s 175us/step - loss: 0.0524 - accuracy: 0.9842 - val_loss: 0.0397 - val_accuracy: 0.9891\n",
            "Epoch 6/12\n",
            "50000/50000 [==============================] - 9s 175us/step - loss: 0.0466 - accuracy: 0.9855 - val_loss: 0.0422 - val_accuracy: 0.9895\n",
            "Epoch 7/12\n",
            "50000/50000 [==============================] - 9s 176us/step - loss: 0.0394 - accuracy: 0.9875 - val_loss: 0.0401 - val_accuracy: 0.9888\n",
            "Epoch 8/12\n",
            "50000/50000 [==============================] - 9s 176us/step - loss: 0.0369 - accuracy: 0.9878 - val_loss: 0.0377 - val_accuracy: 0.9895\n",
            "Epoch 9/12\n",
            "50000/50000 [==============================] - 9s 177us/step - loss: 0.0326 - accuracy: 0.9899 - val_loss: 0.0378 - val_accuracy: 0.9899\n",
            "Epoch 10/12\n",
            "50000/50000 [==============================] - 9s 178us/step - loss: 0.0317 - accuracy: 0.9895 - val_loss: 0.0352 - val_accuracy: 0.9899\n",
            "Epoch 11/12\n",
            "50000/50000 [==============================] - 9s 176us/step - loss: 0.0291 - accuracy: 0.9904 - val_loss: 0.0462 - val_accuracy: 0.9901\n",
            "Epoch 12/12\n",
            "50000/50000 [==============================] - 9s 174us/step - loss: 0.0285 - accuracy: 0.9912 - val_loss: 0.0407 - val_accuracy: 0.9905\n"
          ],
          "name": "stdout"
        },
        {
          "output_type": "execute_result",
          "data": {
            "text/plain": [
              "<keras.callbacks.callbacks.History at 0x7fa9b2be5be0>"
            ]
          },
          "metadata": {
            "tags": []
          },
          "execution_count": 67
        }
      ]
    },
    {
      "cell_type": "code",
      "metadata": {
        "id": "7geTWuQZwkBS",
        "colab_type": "code",
        "colab": {
          "base_uri": "https://localhost:8080/",
          "height": 51
        },
        "outputId": "40d74773-452c-4d1e-cb88-73a56a0dbad8"
      },
      "source": [
        "score = model.evaluate(X_test, y_test, verbose=0)\n",
        "print('Test loss:', score[0])\n",
        "print('Test accuracy:', score[1])"
      ],
      "execution_count": 68,
      "outputs": [
        {
          "output_type": "stream",
          "text": [
            "Test loss: 0.03098595773366378\n",
            "Test accuracy: 0.9900000095367432\n"
          ],
          "name": "stdout"
        }
      ]
    },
    {
      "cell_type": "markdown",
      "metadata": {
        "id": "9tLcGAJdnPbA",
        "colab_type": "text"
      },
      "source": [
        "```\n",
        "\n",
        "```\n",
        "\n",
        "```\n",
        "\n",
        "```\n",
        "\n",
        "```\n",
        "\n",
        "```\n",
        "\n",
        "```\n",
        "\n",
        "```\n",
        "\n",
        "```\n",
        "\n",
        "```\n",
        "\n",
        "```\n",
        "\n",
        "```\n",
        "\n",
        "```\n",
        "\n",
        "```\n",
        "\n",
        "```\n",
        "\n",
        "```\n",
        "\n",
        "\n",
        "# SPOILERS!\n",
        "\n",
        "Recommended pipeline\n",
        "\n",
        "* Adapt logistic regression from previous assignment to classify some number against others (e.g. zero vs nonzero)\n",
        "* Generalize it to multiclass logistic regression.\n",
        "  - Either try to remember lecture 0 or google it.\n",
        "  - Instead of weight vector you'll have to use matrix (feature_id x class_id)\n",
        "  - softmax (exp over sum of exps) can implemented manually or as T.nnet.softmax (stable)\n",
        "  - probably better to use STOCHASTIC gradient descent (minibatch)\n",
        "    - in which case sample should probably be shuffled (or use random subsamples on each iteration)\n",
        "* Add a hidden layer. Now your logistic regression uses hidden neurons instead of inputs.\n",
        "  - Hidden layer uses the same math as output layer (ex-logistic regression), but uses some nonlinearity (sigmoid) instead of softmax\n",
        "  - You need to train both layers, not just output layer :)\n",
        "  - Do not initialize layers with zeros (due to symmetry effects). A gaussian noize with small sigma will do.\n",
        "  - 50 hidden neurons and a sigmoid nonlinearity will do for a start. Many ways to improve. \n",
        "  - In ideal casae this totals to 2 .dot's, 1 softmax and 1 sigmoid\n",
        "  - __make sure this neural network works better than logistic regression__\n",
        "  \n",
        "* Now's the time to try improving the network. Consider layers (size, neuron count),  nonlinearities, optimization methods, initialization - whatever you want, but please avoid convolutions for now."
      ]
    }
  ]
}