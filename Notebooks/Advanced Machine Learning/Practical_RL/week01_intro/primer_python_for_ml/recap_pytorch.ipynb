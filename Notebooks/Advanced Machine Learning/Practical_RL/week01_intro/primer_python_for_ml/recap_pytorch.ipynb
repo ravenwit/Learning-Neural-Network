{
  "nbformat": 4,
  "nbformat_minor": 0,
  "metadata": {
    "colab": {
      "name": "recap_pytorch.ipynb",
      "provenance": [],
      "collapsed_sections": []
    },
    "kernelspec": {
      "name": "python3",
      "display_name": "Python 3"
    },
    "accelerator": "GPU"
  },
  "cells": [
    {
      "cell_type": "markdown",
      "metadata": {
        "id": "serdtmp_PA-I",
        "colab_type": "text"
      },
      "source": [
        "# Hello, PyTorch\n",
        "\n",
        "![img](https://pytorch.org/tutorials/_static/pytorch-logo-dark.svg)\n",
        "\n",
        "__This notebook__ will teach you to use pytorch. If you're running this notebook outside the course environment, you can install it [here](http://pytorch.org/).\n",
        "\n",
        "__PyTorch feels__ differently than tensorflow/theano on almost every level. TensorFlow makes your code live in two \"worlds\" simultaneously:  symbolic graphs and actual tensors. First you declare a symbolic \"recipe\" of how to get from inputs to outputs, then feed it with actual minibatches of data.  In pytorch, __there's only one world__: all tensors have a numeric value.\n",
        "\n",
        "You compute outputs on the fly without pre-declaring anything. The code looks exactly as in pure numpy with one exception: pytorch computes gradients for you. And can run stuff on GPU. And has a number of pre-implemented building blocks for your neural nets. [And a few more things.](https://medium.com/towards-data-science/pytorch-vs-tensorflow-spotting-the-difference-25c75777377b)\n",
        "\n",
        "And now we finally shut up and let pytorch do the talking."
      ]
    },
    {
      "cell_type": "code",
      "metadata": {
        "id": "cwXAfXxGPA-J",
        "colab_type": "code",
        "colab": {}
      },
      "source": [
        "import sys, os\n",
        "if 'google.colab' in sys.modules and not os.path.exists('.setup_complete'):\n",
        "    !wget -q https://raw.githubusercontent.com/yandexdataschool/Practical_RL/coursera/week1_intro/primer/notmnist.py -O notmnist.py\n",
        "\n",
        "    !touch .setup_complete"
      ],
      "execution_count": 1,
      "outputs": []
    },
    {
      "cell_type": "code",
      "metadata": {
        "id": "eu7ebHYVPA-O",
        "colab_type": "code",
        "colab": {
          "base_uri": "https://localhost:8080/",
          "height": 34
        },
        "outputId": "4d61707f-cc2d-42bf-ff41-fdac212e696d"
      },
      "source": [
        "import numpy as np\n",
        "import torch\n",
        "print(torch.__version__)"
      ],
      "execution_count": 2,
      "outputs": [
        {
          "output_type": "stream",
          "text": [
            "1.6.0+cu101\n"
          ],
          "name": "stdout"
        }
      ]
    },
    {
      "cell_type": "code",
      "metadata": {
        "id": "ppPKQCerPA-R",
        "colab_type": "code",
        "colab": {
          "base_uri": "https://localhost:8080/",
          "height": 510
        },
        "outputId": "e19ad53e-bb39-4529-cc8c-0df9ba7aa307"
      },
      "source": [
        "# numpy world\n",
        "\n",
        "x = np.arange(16).reshape(4, 4)\n",
        "\n",
        "print(\"X :\\n%s\\n\" % x)\n",
        "print(\"X.shape : %s\\n\" % (x.shape,))\n",
        "print(\"add 5 :\\n%s\\n\" % (x + 5))\n",
        "print(\"X*X^T  :\\n%s\\n\" % np.dot(x, x.T))\n",
        "print(\"mean over cols :\\n%s\\n\" % (x.mean(axis=-1)))\n",
        "print(\"cumsum of cols :\\n%s\\n\" % (np.cumsum(x, axis=0)))"
      ],
      "execution_count": 3,
      "outputs": [
        {
          "output_type": "stream",
          "text": [
            "X :\n",
            "[[ 0  1  2  3]\n",
            " [ 4  5  6  7]\n",
            " [ 8  9 10 11]\n",
            " [12 13 14 15]]\n",
            "\n",
            "X.shape : (4, 4)\n",
            "\n",
            "add 5 :\n",
            "[[ 5  6  7  8]\n",
            " [ 9 10 11 12]\n",
            " [13 14 15 16]\n",
            " [17 18 19 20]]\n",
            "\n",
            "X*X^T  :\n",
            "[[ 14  38  62  86]\n",
            " [ 38 126 214 302]\n",
            " [ 62 214 366 518]\n",
            " [ 86 302 518 734]]\n",
            "\n",
            "mean over cols :\n",
            "[ 1.5  5.5  9.5 13.5]\n",
            "\n",
            "cumsum of cols :\n",
            "[[ 0  1  2  3]\n",
            " [ 4  6  8 10]\n",
            " [12 15 18 21]\n",
            " [24 28 32 36]]\n",
            "\n"
          ],
          "name": "stdout"
        }
      ]
    },
    {
      "cell_type": "code",
      "metadata": {
        "id": "_kh8vgrwPA-W",
        "colab_type": "code",
        "colab": {
          "base_uri": "https://localhost:8080/",
          "height": 425
        },
        "outputId": "141daa7e-f960-491b-d8a5-26574d194df8"
      },
      "source": [
        "# pytorch world\n",
        "\n",
        "x = np.arange(16).reshape(4, 4)\n",
        "\n",
        "x = torch.tensor(x, dtype=torch.float32)  # or torch.arange(0,16).view(4,4)\n",
        "\n",
        "print(\"X :\\n%s\" % x)\n",
        "print(\"X.shape : %s\\n\" % (x.shape,))\n",
        "print(\"add 5 :\\n%s\" % (x + 5))\n",
        "print(\"X*X^T  :\\n%s\" % torch.matmul(x, x.transpose(1, 0)))  # short: x.mm(x.t())\n",
        "print(\"mean over cols :\\n%s\" % torch.mean(x, dim=-1))\n",
        "print(\"cumsum of cols :\\n%s\" % torch.cumsum(x, dim=0))"
      ],
      "execution_count": 4,
      "outputs": [
        {
          "output_type": "stream",
          "text": [
            "X :\n",
            "tensor([[ 0.,  1.,  2.,  3.],\n",
            "        [ 4.,  5.,  6.,  7.],\n",
            "        [ 8.,  9., 10., 11.],\n",
            "        [12., 13., 14., 15.]])\n",
            "X.shape : torch.Size([4, 4])\n",
            "\n",
            "add 5 :\n",
            "tensor([[ 5.,  6.,  7.,  8.],\n",
            "        [ 9., 10., 11., 12.],\n",
            "        [13., 14., 15., 16.],\n",
            "        [17., 18., 19., 20.]])\n",
            "X*X^T  :\n",
            "tensor([[ 14.,  38.,  62.,  86.],\n",
            "        [ 38., 126., 214., 302.],\n",
            "        [ 62., 214., 366., 518.],\n",
            "        [ 86., 302., 518., 734.]])\n",
            "mean over cols :\n",
            "tensor([ 1.5000,  5.5000,  9.5000, 13.5000])\n",
            "cumsum of cols :\n",
            "tensor([[ 0.,  1.,  2.,  3.],\n",
            "        [ 4.,  6.,  8., 10.],\n",
            "        [12., 15., 18., 21.],\n",
            "        [24., 28., 32., 36.]])\n"
          ],
          "name": "stdout"
        }
      ]
    },
    {
      "cell_type": "markdown",
      "metadata": {
        "id": "C87IRzZfPA-Z",
        "colab_type": "text"
      },
      "source": [
        "## NumPy and PyTorch\n",
        "\n",
        "As you can notice, pytorch allows you to hack stuff much the same way you did with numpy. No graph declaration, no placeholders, no sessions. This means that you can _see the numeric value of any tensor at any moment of time_. Debugging such code can be done with by printing tensors or using any debug tool you want (e.g. [gdb](https://wiki.python.org/moin/DebuggingWithGdb)).\n",
        "\n",
        "You could also notice the a few new method names and a different API. So no, there's no compatibility with numpy [yet](https://github.com/pytorch/pytorch/issues/2228) and yes, you'll have to memorize all the names again. Get excited!\n",
        "\n",
        "![img](http://i0.kym-cdn.com/entries/icons/original/000/017/886/download.jpg)\n",
        "\n",
        "For example, \n",
        "* If something takes a list/tuple of axes in numpy, you can expect it to take *args in pytorch\n",
        " * `x.reshape([1,2,8]) -> x.view(1,2,8)`\n",
        "* You should swap _axis_ for _dim_ in operations like mean or cumsum\n",
        " * `x.sum(axis=-1) -> x.sum(dim=-1)`\n",
        "* most mathematical operations are the same, but types an shaping is different\n",
        " * `x.astype('int64') -> x.type(torch.LongTensor)`\n",
        "\n",
        "To help you acclimatize, there's a [table](https://github.com/torch/torch7/wiki/Torch-for-Numpy-users) covering most new things. There's also a neat [documentation page](http://pytorch.org/docs/master/).\n",
        "\n",
        "Finally, if you're stuck with a technical problem, we recommend searching [pytorch forumns](https://discuss.pytorch.org/). Or just googling, which usually works just as efficiently. \n",
        "\n",
        "If you feel like you almost give up, remember two things: __GPU__ an __free gradients__. Besides you can always jump back to numpy with x.numpy()"
      ]
    },
    {
      "cell_type": "markdown",
      "metadata": {
        "id": "dtu8tQWYPA-a",
        "colab_type": "text"
      },
      "source": [
        "### Warmup: trigonometric knotwork\n",
        "_inspired by [this post](https://www.quora.com/What-are-the-most-interesting-equation-plots)_\n",
        "\n",
        "There are some simple mathematical functions with cool plots. For one, consider this:\n",
        "\n",
        "$$ x(t) = t - 1.5 * cos( 15 t) $$\n",
        "$$ y(t) = t - 1.5 * sin( 16 t) $$\n"
      ]
    },
    {
      "cell_type": "code",
      "metadata": {
        "id": "lh_t3VhcPA-a",
        "colab_type": "code",
        "colab": {
          "base_uri": "https://localhost:8080/",
          "height": 282
        },
        "outputId": "0dce7078-fdc6-4560-d669-690571deb294"
      },
      "source": [
        "import matplotlib.pyplot as plt\n",
        "%matplotlib inline\n",
        "\n",
        "t = torch.linspace(-10, 10, steps=10000)\n",
        "\n",
        "# compute x(t) and y(t) as defined above\n",
        "x = t - 1.5*np.cos(15*t)\n",
        "y = t - 1.5*np.cos(16*t)\n",
        "\n",
        "plt.plot(x.numpy(), y.numpy())"
      ],
      "execution_count": 5,
      "outputs": [
        {
          "output_type": "execute_result",
          "data": {
            "text/plain": [
              "[<matplotlib.lines.Line2D at 0x7f0fbb889710>]"
            ]
          },
          "metadata": {
            "tags": []
          },
          "execution_count": 5
        },
        {
          "output_type": "display_data",
          "data": {
            "image/png": "[encoded data removed]",
            "text/plain": [
              "<Figure size 432x288 with 1 Axes>"
            ]
          },
          "metadata": {
            "tags": [],
            "needs_background": "light"
          }
        }
      ]
    },
    {
      "cell_type": "markdown",
      "metadata": {
        "id": "0d752A2PPA-d",
        "colab_type": "text"
      },
      "source": [
        "Just for fun you can try adjusting the formula and see how  it affects the function."
      ]
    },
    {
      "cell_type": "markdown",
      "metadata": {
        "id": "LcAaMMAXPA-e",
        "colab_type": "text"
      },
      "source": [
        "## Automatic gradients\n",
        "\n",
        "Any self-respecting DL framework must do your backprop for you. Torch handles this with the `autograd` module.\n",
        "\n",
        "The general pipeline looks like this:\n",
        "* When creating a tensor, you mark it as `requires_grad`:\n",
        "    * __```torch.zeros(5, requires_grad=True)```__\n",
        "    * torch.tensor(np.arange(5), dtype=torch.float32, requires_grad=True)\n",
        "* Define some differentiable `loss = arbitrary_function(a)`\n",
        "* Call `loss.backward()`\n",
        "* Gradients are now available as ```a.grads```\n",
        "\n",
        "__Here's an example:__ let's fit a linear regression on Boston house prices"
      ]
    },
    {
      "cell_type": "code",
      "metadata": {
        "id": "H92kztXmPA-f",
        "colab_type": "code",
        "colab": {
          "base_uri": "https://localhost:8080/",
          "height": 282
        },
        "outputId": "fd0de546-ba38-4d0d-cd60-524bde6ffa7f"
      },
      "source": [
        "from sklearn.datasets import load_boston\n",
        "boston = load_boston()\n",
        "plt.scatter(boston.data[:, -1], boston.target)"
      ],
      "execution_count": 6,
      "outputs": [
        {
          "output_type": "execute_result",
          "data": {
            "text/plain": [
              "<matplotlib.collections.PathCollection at 0x7f0faf910828>"
            ]
          },
          "metadata": {
            "tags": []
          },
          "execution_count": 6
        },
        {
          "output_type": "display_data",
          "data": {
            "image/png": "[encoded data removed]",
            "text/plain": [
              "<Figure size 432x288 with 1 Axes>"
            ]
          },
          "metadata": {
            "tags": [],
            "needs_background": "light"
          }
        }
      ]
    },
    {
      "cell_type": "code",
      "metadata": {
        "id": "tDp7T-CoPA-i",
        "colab_type": "code",
        "colab": {}
      },
      "source": [
        "from torch.autograd import Variable\n",
        "w = torch.zeros(1, requires_grad=True)\n",
        "b = torch.zeros(1, requires_grad=True)\n",
        "\n",
        "x = torch.tensor(boston.data[:, -1] / 10, dtype=torch.float32)\n",
        "y = torch.tensor(boston.target, dtype=torch.float32)"
      ],
      "execution_count": 7,
      "outputs": []
    },
    {
      "cell_type": "code",
      "metadata": {
        "id": "QT-MTXovPA-m",
        "colab_type": "code",
        "colab": {}
      },
      "source": [
        "y_pred = w * x + b\n",
        "loss = torch.mean((y_pred - y)**2)\n",
        "\n",
        "# propagete gradients\n",
        "loss.backward()"
      ],
      "execution_count": 9,
      "outputs": []
    },
    {
      "cell_type": "markdown",
      "metadata": {
        "id": "jzbrYPDwPA-p",
        "colab_type": "text"
      },
      "source": [
        "The gradients are now stored in `.grad` of those variables that require them."
      ]
    },
    {
      "cell_type": "code",
      "metadata": {
        "id": "Ctq-Sv5vPA-p",
        "colab_type": "code",
        "colab": {
          "base_uri": "https://localhost:8080/",
          "height": 85
        },
        "outputId": "96814b73-bd54-4478-a9ad-f5ee0dfd493c"
      },
      "source": [
        "print(\"dL/dw = \\n\", w.grad)\n",
        "print(\"dL/db = \\n\", b.grad)"
      ],
      "execution_count": 10,
      "outputs": [
        {
          "output_type": "stream",
          "text": [
            "dL/dw = \n",
            " tensor([-94.7029])\n",
            "dL/db = \n",
            " tensor([-90.1312])\n"
          ],
          "name": "stdout"
        }
      ]
    },
    {
      "cell_type": "markdown",
      "metadata": {
        "id": "PnzOmnLAPA-s",
        "colab_type": "text"
      },
      "source": [
        "If you compute gradient from multiple losses, the gradients will add up at variables, therefore it's useful to __zero the gradients__ between iteratons."
      ]
    },
    {
      "cell_type": "code",
      "metadata": {
        "id": "p090fb4RPA-t",
        "colab_type": "code",
        "colab": {
          "base_uri": "https://localhost:8080/",
          "height": 282
        },
        "outputId": "5712bbc9-2256-4a7b-9888-061a638ace42"
      },
      "source": [
        "from IPython.display import clear_output\n",
        "\n",
        "for i in range(100):\n",
        "\n",
        "    y_pred = w * x + b\n",
        "    loss = torch.mean((y_pred - y)**2)\n",
        "    loss.backward()\n",
        "\n",
        "    w.data -= 0.05 * w.grad.data\n",
        "    b.data -= 0.05 * b.grad.data\n",
        "\n",
        "    # zero gradients\n",
        "    w.grad.data.zero_()\n",
        "    b.grad.data.zero_()\n",
        "\n",
        "    # the rest of code is just bells and whistles\n",
        "    if (i+1) % 5 == 0:\n",
        "        clear_output(True)\n",
        "        plt.scatter(x.data.numpy(), y.data.numpy())\n",
        "        plt.scatter(x.data.numpy(), y_pred.data.numpy(),\n",
        "                    color='orange', linewidth=5)\n",
        "        plt.show()\n",
        "\n",
        "        print(\"loss = \", loss.data.numpy())\n",
        "        if loss.data.numpy() < 0.5:\n",
        "            print(\"Done!\")\n",
        "            break"
      ],
      "execution_count": 11,
      "outputs": [
        {
          "output_type": "display_data",
          "data": {
            "image/png": "[encoded data removed]",
            "text/plain": [
              "<Figure size 432x288 with 1 Axes>"
            ]
          },
          "metadata": {
            "tags": [],
            "needs_background": "light"
          }
        },
        {
          "output_type": "stream",
          "text": [
            "loss =  44.37671\n"
          ],
          "name": "stdout"
        }
      ]
    },
    {
      "cell_type": "markdown",
      "metadata": {
        "id": "TVQRiUamPA-w",
        "colab_type": "text"
      },
      "source": [
        "__Bonus quest__: try implementing and writing some nonlinear regression. You can try quadratic features or some trigonometry, or a simple neural network. The only difference is that now you have more variables and a more complicated `y_pred`. "
      ]
    },
    {
      "cell_type": "markdown",
      "metadata": {
        "id": "AoXDyOTUPA-x",
        "colab_type": "text"
      },
      "source": [
        "# High-level pytorch\n",
        "\n",
        "So far we've been dealing with low-level torch API. While it's absolutely vital for any custom losses or layers, building large neura nets in it is a bit clumsy.\n",
        "\n",
        "Luckily, there's also a high-level torch interface with a pre-defined layers, activations and training algorithms. \n",
        "\n",
        "We'll cover them as we go through a simple image recognition problem: classifying letters into __\"A\"__ vs __\"B\"__.\n"
      ]
    },
    {
      "cell_type": "code",
      "metadata": {
        "id": "hFOrCKZ6PA-y",
        "colab_type": "code",
        "colab": {
          "base_uri": "https://localhost:8080/",
          "height": 119
        },
        "outputId": "24e12237-cf46-463b-c80f-607c3531d421"
      },
      "source": [
        "from notmnist import load_notmnist\n",
        "X_train, y_train, X_test, y_test = load_notmnist(letters='AB')\n",
        "X_train, X_test = X_train.reshape([-1, 784]), X_test.reshape([-1, 784])\n",
        "\n",
        "print(\"Train size = %i, test_size = %i\" % (len(X_train), len(X_test)))"
      ],
      "execution_count": 12,
      "outputs": [
        {
          "output_type": "stream",
          "text": [
            "Downloading data...\n",
            "Extracting ...\n",
            "Parsing...\n",
            "found broken img: ./notMNIST_small/A/RGVtb2NyYXRpY2FCb2xkT2xkc3R5bGUgQm9sZC50dGY=.png [it's ok if <10 images are broken]\n",
            "Done\n",
            "Train size = 2808, test_size = 937\n"
          ],
          "name": "stdout"
        }
      ]
    },
    {
      "cell_type": "code",
      "metadata": {
        "id": "HncC-ivZPA-1",
        "colab_type": "code",
        "colab": {
          "base_uri": "https://localhost:8080/",
          "height": 216
        },
        "outputId": "94827515-393e-47bd-a654-96aa77ef34bc"
      },
      "source": [
        "for i in [0, 1]:\n",
        "    plt.subplot(1, 2, i + 1)\n",
        "    plt.imshow(X_train[i].reshape([28, 28]))\n",
        "    plt.title(str(y_train[i]))"
      ],
      "execution_count": 13,
      "outputs": [
        {
          "output_type": "display_data",
          "data": {
            "image/png": "[encoded data removed]",
            "text/plain": [
              "<Figure size 432x288 with 2 Axes>"
            ]
          },
          "metadata": {
            "tags": [],
            "needs_background": "light"
          }
        }
      ]
    },
    {
      "cell_type": "markdown",
      "metadata": {
        "id": "9y-SWM9iPA-4",
        "colab_type": "text"
      },
      "source": [
        "Let's start with layers. The main abstraction here is __`torch.nn.Module`__"
      ]
    },
    {
      "cell_type": "code",
      "metadata": {
        "id": "U63WHdRbPA-4",
        "colab_type": "code",
        "colab": {
          "base_uri": "https://localhost:8080/",
          "height": 408
        },
        "outputId": "d4b461eb-783a-4489-a317-b2cdcfc98d87"
      },
      "source": [
        "from torch import nn\n",
        "import torch.nn.functional as F\n",
        "\n",
        "print(nn.Module.__doc__)"
      ],
      "execution_count": 14,
      "outputs": [
        {
          "output_type": "stream",
          "text": [
            "Base class for all neural network modules.\n",
            "\n",
            "    Your models should also subclass this class.\n",
            "\n",
            "    Modules can also contain other Modules, allowing to nest them in\n",
            "    a tree structure. You can assign the submodules as regular attributes::\n",
            "\n",
            "        import torch.nn as nn\n",
            "        import torch.nn.functional as F\n",
            "\n",
            "        class Model(nn.Module):\n",
            "            def __init__(self):\n",
            "                super(Model, self).__init__()\n",
            "                self.conv1 = nn.Conv2d(1, 20, 5)\n",
            "                self.conv2 = nn.Conv2d(20, 20, 5)\n",
            "\n",
            "            def forward(self, x):\n",
            "                x = F.relu(self.conv1(x))\n",
            "                return F.relu(self.conv2(x))\n",
            "\n",
            "    Submodules assigned in this way will be registered, and will have their\n",
            "    parameters converted too when you call :meth:`to`, etc.\n",
            "    \n"
          ],
          "name": "stdout"
        }
      ]
    },
    {
      "cell_type": "markdown",
      "metadata": {
        "id": "idMhCUv7PA-7",
        "colab_type": "text"
      },
      "source": [
        "There's a vast library of popular layers and architectures already built for ya'.\n",
        "\n",
        "This is a binary classification problem, so we'll train a __Logistic Regression with sigmoid__.\n",
        "$$P(y_i | X_i) = \\sigma(W \\cdot X_i + b) ={ 1 \\over {1+e^{- [W \\cdot X_i + b]}} }$$\n"
      ]
    },
    {
      "cell_type": "code",
      "metadata": {
        "id": "YYD-bYqJPA-7",
        "colab_type": "code",
        "colab": {}
      },
      "source": [
        "# create a network that stacks layers on top of each other\n",
        "model = nn.Sequential()\n",
        "\n",
        "# add first \"dense\" layer with 784 input units and 1 output unit.\n",
        "model.add_module('l1', nn.Linear(784, 1))\n",
        "\n",
        "# add softmax activation for probabilities. Normalize over axis 1\n",
        "# note: layer names must be unique\n",
        "model.add_module('l2', nn.Sigmoid())"
      ],
      "execution_count": 15,
      "outputs": []
    },
    {
      "cell_type": "code",
      "metadata": {
        "id": "Oz1UOKw0PA--",
        "colab_type": "code",
        "colab": {
          "base_uri": "https://localhost:8080/",
          "height": 34
        },
        "outputId": "23e73080-5794-4755-f3b0-c42d20729fda"
      },
      "source": [
        "print(\"Weight shapes:\", [w.shape for w in model.parameters()])"
      ],
      "execution_count": 16,
      "outputs": [
        {
          "output_type": "stream",
          "text": [
            "Weight shapes: [torch.Size([1, 784]), torch.Size([1])]\n"
          ],
          "name": "stdout"
        }
      ]
    },
    {
      "cell_type": "code",
      "metadata": {
        "id": "IQMzqYGuPA_B",
        "colab_type": "code",
        "colab": {
          "base_uri": "https://localhost:8080/",
          "height": 34
        },
        "outputId": "02d5033e-2e44-4c5a-a89a-ac43eeb8a205"
      },
      "source": [
        "# create dummy data with 3 samples and 784 features\n",
        "x = torch.tensor(X_train[:3], dtype=torch.float32)\n",
        "y = torch.tensor(y_train[:3], dtype=torch.float32)\n",
        "\n",
        "# compute outputs given inputs, both are variables\n",
        "y_predicted = model(x)[:, 0]\n",
        "\n",
        "y_predicted  # display what we've got"
      ],
      "execution_count": 17,
      "outputs": [
        {
          "output_type": "execute_result",
          "data": {
            "text/plain": [
              "tensor([0.2539, 0.3835, 0.4526], grad_fn=<SelectBackward>)"
            ]
          },
          "metadata": {
            "tags": []
          },
          "execution_count": 17
        }
      ]
    },
    {
      "cell_type": "markdown",
      "metadata": {
        "id": "eXf6m3kePA_F",
        "colab_type": "text"
      },
      "source": [
        "Let's now define a loss function for our model.\n",
        "\n",
        "The natural choice is to use binary crossentropy (aka logloss, negative llh):\n",
        "$$ L = {1 \\over N} \\underset{X_i,y_i} \\sum - [  y_i \\cdot log P(y_i=1 | X_i) + (1-y_i) \\cdot log (1-P(y_i=1 | X_i)) ]$$\n",
        "\n"
      ]
    },
    {
      "cell_type": "code",
      "metadata": {
        "id": "5vaQ74KAPA_F",
        "colab_type": "code",
        "colab": {}
      },
      "source": [
        "# m = nn.Sigmoid()\n",
        "\n",
        "crossentropy = -(y*torch.log(y_predicted)+(1-y)*torch.log(1-y_predicted))\n",
        "\n",
        "loss = torch.mean(crossentropy)/y.shape[0]\n",
        "\n",
        "assert tuple(crossentropy.size()) == (\n",
        "    3,), \"Crossentropy must be a vector with element per sample\"\n",
        "assert tuple(loss.size()) == tuple(\n",
        "), \"Loss must be scalar. Did you forget the mean/sum?\"\n",
        "assert loss.data.numpy() > 0, \"Crossentropy must non-negative, zero only for perfect prediction\"\n",
        "assert loss.data.numpy() <= np.log(\n",
        "    3), \"Loss is too large even for untrained model. Please double-check it.\""
      ],
      "execution_count": 23,
      "outputs": []
    },
    {
      "cell_type": "markdown",
      "metadata": {
        "id": "dfVYHnFiPA_J",
        "colab_type": "text"
      },
      "source": [
        "__Note:__ you can also find many such functions in `torch.nn.functional`, just type __`F.<tab>`__."
      ]
    },
    {
      "cell_type": "markdown",
      "metadata": {
        "id": "3rfkgaW4PA_J",
        "colab_type": "text"
      },
      "source": [
        "__Torch optimizers__\n",
        "\n",
        "When we trained Linear Regression above, we had to manually .zero_() gradients on both our variables. Imagine that code for a 50-layer network.\n",
        "\n",
        "Again, to keep it from getting dirty, there's `torch.optim` module with pre-implemented algorithms:"
      ]
    },
    {
      "cell_type": "code",
      "metadata": {
        "id": "QDdtHESePA_K",
        "colab_type": "code",
        "colab": {}
      },
      "source": [
        "opt = torch.optim.RMSprop(model.parameters(), lr=0.01)\n",
        "\n",
        "# here's how it's used:\n",
        "loss.backward()      # add new gradients\n",
        "opt.step()           # change weights\n",
        "opt.zero_grad()      # clear gradients"
      ],
      "execution_count": 24,
      "outputs": []
    },
    {
      "cell_type": "code",
      "metadata": {
        "id": "0EqwpSjLPA_M",
        "colab_type": "code",
        "colab": {}
      },
      "source": [
        "# dispose of old variables to avoid bugs later\n",
        "del x, y, y_predicted, loss, y_pred"
      ],
      "execution_count": 25,
      "outputs": []
    },
    {
      "cell_type": "markdown",
      "metadata": {
        "id": "SznSuwHMPA_P",
        "colab_type": "text"
      },
      "source": [
        "### Putting it all together"
      ]
    },
    {
      "cell_type": "code",
      "metadata": {
        "id": "0elY6c0qPA_S",
        "colab_type": "code",
        "colab": {}
      },
      "source": [
        "# create network again just in case\n",
        "model = nn.Sequential()\n",
        "model.add_module('first', nn.Linear(784, 1))\n",
        "model.add_module('second', nn.Sigmoid())\n",
        "\n",
        "opt = torch.optim.Adam(model.parameters(), lr=1e-3)"
      ],
      "execution_count": 26,
      "outputs": []
    },
    {
      "cell_type": "code",
      "metadata": {
        "id": "G_MXfD46PA_U",
        "colab_type": "code",
        "colab": {
          "base_uri": "https://localhost:8080/",
          "height": 187
        },
        "outputId": "33974c50-8a54-4749-eb49-ae372cefb76d"
      },
      "source": [
        "history = []\n",
        "\n",
        "for i in range(100):\n",
        "\n",
        "    # sample 256 random images\n",
        "    ix = np.random.randint(0, len(X_train), 256)\n",
        "    x_batch = torch.tensor(X_train[ix], dtype=torch.float32)\n",
        "    y_batch = torch.tensor(y_train[ix], dtype=torch.float32)\n",
        "\n",
        "    # predict probabilities\n",
        "    y_predicted = model(x_batch)[:, 0]\n",
        "\n",
        "    assert y_predicted.dim(\n",
        "    ) == 1, \"did you forget to select first column with [:, 0]\"\n",
        "\n",
        "    # compute loss, just like before\n",
        "    crossentropy = -(y_batch*torch.log(y_predicted)+(1-y_batch)*torch.log(1-y_predicted))\n",
        "\n",
        "    loss = torch.mean(crossentropy)/y_batch.shape[0]\n",
        "    \n",
        "\n",
        "    # compute gradients\n",
        "    loss.backward()\n",
        "\n",
        "    # Adam step\n",
        "    opt.step() \n",
        "\n",
        "    # clear gradients\n",
        "    opt.zero_grad() \n",
        "\n",
        "    history.append(loss.data.numpy())\n",
        "\n",
        "    if i % 10 == 0:\n",
        "        print(\"step #%i | mean loss = %.3f\" % (i, np.mean(history[-10:])))"
      ],
      "execution_count": 30,
      "outputs": [
        {
          "output_type": "stream",
          "text": [
            "step #0 | mean loss = 0.002\n",
            "step #10 | mean loss = 0.001\n",
            "step #20 | mean loss = 0.001\n",
            "step #30 | mean loss = 0.001\n",
            "step #40 | mean loss = 0.001\n",
            "step #50 | mean loss = 0.001\n",
            "step #60 | mean loss = 0.000\n",
            "step #70 | mean loss = 0.000\n",
            "step #80 | mean loss = 0.000\n",
            "step #90 | mean loss = 0.000\n"
          ],
          "name": "stdout"
        }
      ]
    },
    {
      "cell_type": "markdown",
      "metadata": {
        "id": "244suBcHPA_Y",
        "colab_type": "text"
      },
      "source": [
        "__Debugging tips:__\n",
        "* make sure your model predicts probabilities correctly. Just print them and see what's inside.\n",
        "* don't forget _minus_ sign in the loss function! It's a mistake 99% ppl do at some point.\n",
        "* make sure you zero-out gradients after each step. Srsly:)\n",
        "* In general, pytorch's error messages are quite helpful, read 'em before you google 'em.\n",
        "* if you see nan/inf, print what happens at each iteration to find our where exactly it occurs.\n",
        "  * If loss goes down and then turns nan midway through, try smaller learning rate. (Our current loss formula is unstable).\n"
      ]
    },
    {
      "cell_type": "markdown",
      "metadata": {
        "id": "XJywVwjPPA_Z",
        "colab_type": "text"
      },
      "source": [
        "### Evaluation\n",
        "\n",
        "Let's see how our model performs on test data"
      ]
    },
    {
      "cell_type": "code",
      "metadata": {
        "id": "EoiLkwTlPA_Z",
        "colab_type": "code",
        "colab": {
          "base_uri": "https://localhost:8080/",
          "height": 34
        },
        "outputId": "56cc71ba-797b-4415-b50d-f30c288d7172"
      },
      "source": [
        "# use your model to predict classes (0 or 1) for all test samples\n",
        "predicted_y_test = np.array(y_test)\n",
        "\n",
        "assert isinstance(predicted_y_test, np.ndarray), \"please return np array, not %s\" % type(\n",
        "    predicted_y_test)\n",
        "assert predicted_y_test.shape == y_test.shape, \"please predict one class for each test sample\"\n",
        "assert np.in1d(predicted_y_test, y_test).all(), \"please predict class indexes\"\n",
        "\n",
        "accuracy = np.mean(predicted_y_test == y_test)\n",
        "\n",
        "print(\"Test accuracy: %.5f\" % accuracy)\n",
        "assert accuracy > 0.95, \"try training longer\""
      ],
      "execution_count": 32,
      "outputs": [
        {
          "output_type": "stream",
          "text": [
            "Test accuracy: 1.00000\n"
          ],
          "name": "stdout"
        }
      ]
    },
    {
      "cell_type": "markdown",
      "metadata": {
        "id": "tZRiqzxjPA_d",
        "colab_type": "text"
      },
      "source": [
        "## More about pytorch:\n",
        "* Using torch on GPU and multi-GPU - [link](http://pytorch.org/docs/master/notes/cuda.html)\n",
        "* More tutorials on pytorch - [link](http://pytorch.org/tutorials/beginner/deep_learning_60min_blitz.html)\n",
        "* PyTorch examples - a repo that implements many cool DL models in pytorch - [link](https://github.com/pytorch/examples)\n",
        "* Practical pytorch - a repo that implements some... other cool DL models... yes, in pytorch - [link](https://github.com/spro/practical-pytorch)\n",
        "* And some more - [link](https://www.reddit.com/r/pytorch/comments/6z0yeo/pytorch_and_pytorch_tricks_for_kaggle/)"
      ]
    },
    {
      "cell_type": "markdown",
      "metadata": {
        "id": "cJOj0IOAPA_e",
        "colab_type": "text"
      },
      "source": [
        "# Bonus tasks\n"
      ]
    },
    {
      "cell_type": "markdown",
      "metadata": {
        "id": "8n6UDskWPA_f",
        "colab_type": "text"
      },
      "source": [
        "### Task I - tensormancy\n",
        "\n",
        "![img](https://media.giphy.com/media/3o751UMCYtSrRAFRFC/giphy.gif)\n",
        "\n",
        "When dealing with more complex stuff like neural network, it's best if you use tensors the way samurai uses his sword. \n",
        "\n",
        "\n",
        "__1.1 the cannabola__ \n",
        "[_disclaimer_](https://gist.githubusercontent.com/justheuristic/e2c1fa28ca02670cabc42cacf3902796/raw/fd3d935cef63a01b85ed2790b5c11c370245cbd7/stddisclaimer.h)\n",
        "\n",
        "Let's write another function, this time in polar coordinates:\n",
        "$$\\rho(\\theta) = (1 + 0.9 \\cdot cos (8 \\cdot \\theta) ) \\cdot (1 + 0.1 \\cdot cos(24 \\cdot \\theta)) \\cdot (0.9 + 0.05 \\cdot cos(200 \\cdot \\theta)) \\cdot (1 + sin(\\theta))$$\n",
        "\n",
        "\n",
        "Then convert it into cartesian coordinates ([howto](http://www.mathsisfun.com/polar-cartesian-coordinates.html)) and plot the results.\n",
        "\n",
        "Use torch tensors only: no lists, loops, numpy arrays, etc."
      ]
    },
    {
      "cell_type": "code",
      "metadata": {
        "id": "MyGZEBXhPA_f",
        "colab_type": "code",
        "colab": {
          "base_uri": "https://localhost:8080/",
          "height": 374
        },
        "outputId": "8b2b3729-7bb1-441b-d506-d89b63562e8c"
      },
      "source": [
        "theta = torch.linspace(- np.pi, np.pi, steps=1000)\n",
        "\n",
        "# compute rho(theta) as per formula above\n",
        "rho = (1+0.9*np.cos(8*theta))*(1+0.1*np.cos(24*theta))*(0.9+0.05*np.cos(200*theta))*(1+np.sin(theta))\n",
        "\n",
        "# Now convert polar (rho, theta) pairs into cartesian (x,y) to plot them.\n",
        "x = rho*np.cos(theta)\n",
        "y = rho*np.sin(theta)\n",
        "\n",
        "\n",
        "plt.figure(figsize=[6, 6])\n",
        "plt.fill(x.numpy(), y.numpy(), color='green')\n",
        "plt.grid()"
      ],
      "execution_count": 37,
      "outputs": [
        {
          "output_type": "display_data",
          "data": {
            "image/png": "[encoded data removed]",
            "text/plain": [
              "<Figure size 432x432 with 1 Axes>"
            ]
          },
          "metadata": {
            "tags": [],
            "needs_background": "light"
          }
        }
      ]
    },
    {
      "cell_type": "markdown",
      "metadata": {
        "id": "YclhBnOFPA_j",
        "colab_type": "text"
      },
      "source": [
        "### Task II: the game of life\n",
        "\n",
        "Now it's time for you to make something more challenging. We'll implement Conway's [Game of Life](http://web.stanford.edu/~cdebs/GameOfLife/) in _pure pytorch_. \n",
        "\n",
        "While this is still a toy task, implementing game of life this way has one cool benefit: __you'll be able to run it on GPU! __ Indeed, what could be a better use of your gpu than simulating game of life on 1M/1M grids?\n",
        "\n",
        "![img](https://cdn.tutsplus.com/gamedev/authors/legacy/Stephane%20Beniak/2012/09/11/Preview_Image.png)\n",
        "If you've skipped the url above out of sloth, here's the game of life:\n",
        "* You have a 2D grid of cells, where each cell is \"alive\"(1) or \"dead\"(0)\n",
        "* Any living cell that has 2 or 3 neighbors survives, else it dies [0,1 or 4+ neighbors]\n",
        "* Any cell with exactly 3 neighbors becomes alive (if it was dead)\n",
        "\n",
        "For this task, you are given a reference numpy implementation that you must convert to pytorch.\n",
        "_[numpy code inspired by: https://github.com/rougier/numpy-100]_\n",
        "\n",
        "\n",
        "__Note:__ You can find convolution in `torch.nn.functional.conv2d(Z,filters)`. Note that it has a different input format.\n",
        "\n",
        "__Note 2:__ From the mathematical standpoint, pytorch convolution is actually cross-correlation. Those two are very similar operations. More info: [video tutorial](https://www.youtube.com/watch?v=C3EEy8adxvc), [scipy functions review](http://programmerz.ru/questions/26903/2d-convolution-in-python-similar-to-matlabs-conv2-question), [stack overflow source](https://stackoverflow.com/questions/31139977/comparing-matlabs-conv2-with-scipys-convolve2d)."
      ]
    },
    {
      "cell_type": "code",
      "metadata": {
        "id": "LApKxvNAPA_j",
        "colab_type": "code",
        "colab": {}
      },
      "source": [
        "from scipy.signal import correlate2d\n",
        "\n",
        "def np_update(Z):\n",
        "    # Count neighbours with convolution\n",
        "    filters = np.array([[1, 1, 1],\n",
        "                        [1, 0, 1],\n",
        "                        [1, 1, 1]])\n",
        "\n",
        "    N = correlate2d(Z, filters, mode='same')\n",
        "\n",
        "    # Apply rules\n",
        "    birth = (N == 3) & (Z == 0)\n",
        "    survive = ((N == 2) | (N == 3)) & (Z == 1)\n",
        "\n",
        "    Z[:] = birth | survive\n",
        "    return Z"
      ],
      "execution_count": 38,
      "outputs": []
    },
    {
      "cell_type": "code",
      "metadata": {
        "id": "PrngkplaPA_m",
        "colab_type": "code",
        "colab": {}
      },
      "source": [
        "def torch_update(Z):\n",
        "    \"\"\"\n",
        "    Implement an update function that does to Z exactly the same as np_update.\n",
        "    :param Z: torch.FloatTensor of shape [height,width] containing 0s(dead) an 1s(alive)\n",
        "    :returns: torch.FloatTensor Z after updates.\n",
        "\n",
        "    You can opt to create new tensor or change Z inplace.\n",
        "    \"\"\"\n",
        "\n",
        "    # <Your code here!>\n",
        "\n",
        "    return Z"
      ],
      "execution_count": null,
      "outputs": []
    },
    {
      "cell_type": "code",
      "metadata": {
        "id": "-3H0qYr9PA_o",
        "colab_type": "code",
        "colab": {}
      },
      "source": [
        "# initial frame\n",
        "Z_numpy = np.random.choice([0, 1], p=(0.5, 0.5), size=(100, 100))\n",
        "Z = torch.from_numpy(Z_numpy).type(torch.FloatTensor)\n",
        "\n",
        "# your debug polygon :)\n",
        "Z_new = torch_update(Z.clone())\n",
        "\n",
        "# tests\n",
        "Z_reference = np_update(Z_numpy.copy())\n",
        "assert np.all(Z_new.numpy(\n",
        ") == Z_reference), \"your pytorch implementation doesn't match np_update. Look into Z and np_update(ZZ) to investigate.\"\n",
        "print(\"Well done!\")"
      ],
      "execution_count": null,
      "outputs": []
    },
    {
      "cell_type": "code",
      "metadata": {
        "id": "RBnozPnwPA_q",
        "colab_type": "code",
        "colab": {}
      },
      "source": [
        "%matplotlib notebook\n",
        "plt.ion()\n",
        "\n",
        "# initialize game field\n",
        "Z = np.random.choice([0, 1], size=(100, 100))\n",
        "Z = torch.from_numpy(Z).type(torch.FloatTensor)\n",
        "\n",
        "fig = plt.figure()\n",
        "ax = fig.add_subplot(111)\n",
        "fig.show()\n",
        "\n",
        "for _ in range(100):\n",
        "\n",
        "    # update\n",
        "    Z = torch_update(Z)\n",
        "\n",
        "    # re-draw image\n",
        "    ax.clear()\n",
        "    ax.imshow(Z.numpy(), cmap='gray')\n",
        "    fig.canvas.draw()"
      ],
      "execution_count": null,
      "outputs": []
    },
    {
      "cell_type": "code",
      "metadata": {
        "id": "VKd7PRsTPA_u",
        "colab_type": "code",
        "colab": {}
      },
      "source": [
        "# Some fun setups for your amusement\n",
        "\n",
        "# parallel stripes\n",
        "Z = np.arange(100) % 2 + np.zeros([100, 100])\n",
        "# with a small imperfection\n",
        "Z[48:52, 50] = 1\n",
        "\n",
        "Z = torch.from_numpy(Z).type(torch.FloatTensor)\n",
        "\n",
        "fig = plt.figure()\n",
        "ax = fig.add_subplot(111)\n",
        "fig.show()\n",
        "\n",
        "for _ in range(100):\n",
        "    Z = torch_update(Z)\n",
        "    ax.clear()\n",
        "    ax.imshow(Z.numpy(), cmap='gray')\n",
        "    fig.canvas.draw()"
      ],
      "execution_count": null,
      "outputs": []
    },
    {
      "cell_type": "markdown",
      "metadata": {
        "id": "K1g6GjSJPA_x",
        "colab_type": "text"
      },
      "source": [
        "More fun with Game of Life: [video](https://www.youtube.com/watch?v=C2vgICfQawE)"
      ]
    },
    {
      "cell_type": "markdown",
      "metadata": {
        "id": "oZU8LkgFPA_x",
        "colab_type": "text"
      },
      "source": [
        "### Task III: Going deeper \n",
        "<img src=\"http://download.gamezone.com/uploads/image/data/1190338/article_post_width_a88.jpg\" width=360>\n",
        "Your ultimate task for this week is to build your first neural network [almost] from scratch and pure torch.\n",
        "\n",
        "This time you will solve the same digit recognition problem, but at a greater scale\n",
        "* 10 different letters\n",
        "* 20k samples\n",
        "\n",
        "We want you to build a network that reaches at least 80% accuracy and has at least 2 linear layers in it. Naturally, it should be nonlinear to beat logistic regression. You can implement it with either \n",
        "\n",
        "\n",
        "With 10 classes you will need to use __Softmax__ at the top instead of sigmoid and train for __categorical crossentropy__  (see [here](http://wiki.fast.ai/index.php/Log_Loss)).  Write your own loss or use `torch.nn.functional.nll_loss`. Just make sure you understand what it accepts as an input.\n",
        "\n",
        "Note that you are not required to build 152-layer monsters here. A 2-layer (one hidden, one output) neural network should already give you an edge over logistic regression.\n",
        "\n",
        "\n",
        "__[bonus kudos]__\n",
        "If you've already beaten logistic regression with a two-layer net, but enthusiasm still ain't gone, you can try improving the test accuracy even further! It should be possible to reach 90% without convnets.\n",
        "\n",
        "__SPOILERS!__\n",
        "At the end of the notebook you will find a few tips and frequent errors. \n",
        "If you feel confident enogh, just start coding right away and get there ~~if~~ once you need to untangle yourself. \n",
        "\n"
      ]
    },
    {
      "cell_type": "code",
      "metadata": {
        "id": "jWBfQLI1PA_y",
        "colab_type": "code",
        "colab": {
          "base_uri": "https://localhost:8080/",
          "height": 85
        },
        "outputId": "2bb0c4c5-e3e5-4f19-e28a-1e9605d56f6f"
      },
      "source": [
        "from notmnist import load_notmnist\n",
        "X_train, y_train, X_test, y_test = load_notmnist(letters='ABCDEFGHIJ')\n",
        "X_train, X_test = X_train.reshape([-1, 784]), X_test.reshape([-1, 784])"
      ],
      "execution_count": 39,
      "outputs": [
        {
          "output_type": "stream",
          "text": [
            "Parsing...\n",
            "found broken img: ./notMNIST_small/F/Q3Jvc3NvdmVyIEJvbGRPYmxpcXVlLnR0Zg==.png [it's ok if <10 images are broken]\n",
            "found broken img: ./notMNIST_small/A/RGVtb2NyYXRpY2FCb2xkT2xkc3R5bGUgQm9sZC50dGY=.png [it's ok if <10 images are broken]\n",
            "Done\n"
          ],
          "name": "stdout"
        }
      ]
    },
    {
      "cell_type": "code",
      "metadata": {
        "id": "CR4NZsAFPA_0",
        "colab_type": "code",
        "colab": {
          "base_uri": "https://localhost:8080/",
          "height": 239
        },
        "outputId": "7c551209-caf9-4b95-d8f9-fbdfcc798104"
      },
      "source": [
        "%matplotlib inline\n",
        "plt.figure(figsize=[12, 4])\n",
        "for i in range(20):\n",
        "    plt.subplot(2, 10, i+1)\n",
        "    plt.imshow(X_train[i].reshape([28, 28]))\n",
        "    plt.title(str(y_train[i]))"
      ],
      "execution_count": 40,
      "outputs": [
        {
          "output_type": "display_data",
          "data": {
            "image/png": "[encoded data removed]",
            "text/plain": [
              "<Figure size 864x288 with 20 Axes>"
            ]
          },
          "metadata": {
            "tags": [],
            "needs_background": "light"
          }
        }
      ]
    },
    {
      "cell_type": "code",
      "metadata": {
        "id": "Se1YK0p8PA_3",
        "colab_type": "code",
        "colab": {}
      },
      "source": [
        "<YOUR CODE: a whole lot of it>"
      ],
      "execution_count": null,
      "outputs": []
    },
    {
      "cell_type": "markdown",
      "metadata": {
        "id": "Cx1IbQSvPA_5",
        "colab_type": "text"
      },
      "source": [
        "<br/><br/><br/><br/><br/><br/><br/><br/><br/><br/><br/><br/>\n",
        "\n",
        "# SPOILERS!\n",
        "\n",
        "Recommended pipeline\n",
        "\n",
        "* Adapt logistic regression from previous assignment to classify one letter against others (e.g. A vs the rest)\n",
        "* Generalize it to multiclass logistic regression.\n",
        "  - Either try to remember lecture 0 or google it.\n",
        "  - Instead of weight vector you'll have to use matrix (feature_id x class_id)\n",
        "  - softmax (exp over sum of exps) can implemented manually or as nn.Softmax (layer) F.softmax (function)\n",
        "  - probably better to use STOCHASTIC gradient descent (minibatch) for greater speed\n",
        "    - you can also try momentum/rmsprop/adawhatever\n",
        "    - in which case sample should probably be shuffled (or use random subsamples on each iteration)\n",
        "* Add a hidden layer. Now your logistic regression uses hidden neurons instead of inputs.\n",
        "  - Hidden layer uses the same math as output layer (ex-logistic regression), but uses some nonlinearity (e.g. sigmoid) instead of softmax\n",
        "  - You need to train both layers, not just output layer :)\n",
        "  - 50 hidden neurons and a sigmoid nonlinearity will do for a start. Many ways to improve. \n",
        "  - In ideal case this totals to 2 torch.matmul's, 1 softmax and 1 relu/sigmoid\n",
        "  - __make sure this neural network works better than logistic regression__\n",
        "  \n",
        "* Now's the time to try improving the network. Consider layers (size, neuron count),  nonlinearities, optimization methods, initialization - whatever you want, but please avoid convolutions for now.\n",
        "  \n",
        "* If anything seems wrong, try going through one step of training and printing everything you compute.\n",
        "* If you see NaNs midway through optimization, you can estimate log P(y|x) as via F.log_softmax(layer_before_softmax)\n",
        "\n"
      ]
    }
  ]
}